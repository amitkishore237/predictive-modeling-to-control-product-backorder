{
 "cells": [
  {
   "cell_type": "markdown",
   "metadata": {
    "_cell_guid": "df8f8e0e-be0c-4395-98c4-25c55802ce5e",
    "_uuid": "42f277a6f5c7565f7af9cb82b28498152c8120c1"
   },
   "source": [
    "# BackOrders MachineLearning: \n",
    "\n",
    "- **1 First Step**\n",
    "    - 1.1 Load libraries and helper functions\n",
    "    - 1.2 Load data\n",
    "    - 1.3 Check the Memory Usage\n",
    "    - 1.4 DataType Converting\n",
    "    - 1.5 DateTime Parsing\n",
    "- **2 Univariable Analysis**\n",
    "    - 2.1 Categorical Analysis\n",
    "    - 2.2 Target Value analysis\n",
    "        - **A Review on Imbalanced Learning Methods**\n",
    "     \n",
    "    - 2.3 Missing Values Analysis\n",
    "        - **Impute Missing Values**\n",
    "    - 2.4 Imputation\n",
    "- **3 Dimensionality Reduction**\n",
    "     - 3.1 Removing Colliniarity among numerical Features\n",
    "      -3.2 Categorical Feature Selection Univariate analysis\n",
    "      -3.3 Categorical Feature selection using Feature Importance\n",
    "      -3.4 PCA\n",
    "- **4 Model selection using evaluation metrics**\n",
    "    - 4.1 Hierarchy of sampling-based methods\n",
    "    - 4.2 Cross-validation \n",
    "\n",
    "\n",
    "\n"
   ]
  },
  {
   "cell_type": "code",
   "execution_count": 1,
   "metadata": {
    "_cell_guid": "806193f0-fe40-4b10-ba3c-8141bb171f3c",
    "_uuid": "6ae4035336d6afa46239234d1c1c2d379547a332",
    "collapsed": true
   },
   "outputs": [],
   "source": [
    "import seaborn as sns\n",
    "import pandas as pd\n",
    "import numpy as np\n",
    "import matplotlib.pyplot as plt\n",
    "#importing important libraries of machine learning\n",
    "from sklearn.ensemble import RandomForestClassifier\n",
    "from sklearn.model_selection import KFold\n",
    "from sklearn.utils import resample\n",
    "from sklearn.metrics import roc_curve\n",
    "from sklearn.metrics import roc_auc_score\n",
    "from sklearn.metrics import precision_recall_curve\n",
    "from sklearn.metrics import confusion_matrix\n",
    "from sklearn.metrics import accuracy_score\n",
    "from sklearn.preprocessing import LabelEncoder\n",
    "from sklearn.model_selection import train_test_split"
   ]
  },
  {
   "cell_type": "markdown",
   "metadata": {},
   "source": [
    "<b>Loading Data"
   ]
  },
  {
   "cell_type": "code",
   "execution_count": 2,
   "metadata": {
    "_cell_guid": "60b62968-9e89-45e0-9009-9a91cc83feed",
    "_uuid": "c86a3ea2ab4f9862e94aeb1f6b162b9bc33af179"
   },
   "outputs": [
    {
     "name": "stderr",
     "output_type": "stream",
     "text": [
      "C:\\Users\\DELL LAPTOP\\Anaconda3\\lib\\site-packages\\IPython\\core\\interactiveshell.py:2698: DtypeWarning: Columns (0) have mixed types. Specify dtype option on import or set low_memory=False.\n",
      "  interactivity=interactivity, compiler=compiler, result=result)\n"
     ]
    }
   ],
   "source": [
    "#loading traing and test set\n",
    "train = pd.read_csv(\"Kaggle_Training_Dataset_v2.csv\")\n",
    "test = pd.read_csv('Kaggle_Test_Dataset_v2.csv')"
   ]
  },
  {
   "cell_type": "markdown",
   "metadata": {},
   "source": [
    "<b>Checking Memory Usage"
   ]
  },
  {
   "cell_type": "code",
   "execution_count": 3,
   "metadata": {
    "_cell_guid": "5fc011b2-531e-411f-9545-ea9cc7f64b9c",
    "_uuid": "decd35ee6230d6523da31d6e73915fb56fe587a7"
   },
   "outputs": [
    {
     "name": "stdout",
     "output_type": "stream",
     "text": [
      "<class 'pandas.core.frame.DataFrame'>\n",
      "RangeIndex: 1687861 entries, 0 to 1687860\n",
      "Columns: 23 entries, sku to went_on_backorder\n",
      "dtypes: float64(15), object(8)\n",
      "memory usage: 296.2+ MB\n"
     ]
    }
   ],
   "source": [
    "#Memory Usage\n",
    "train.info(verbose=False)"
   ]
  },
  {
   "cell_type": "markdown",
   "metadata": {
    "_cell_guid": "70fa24f9-5061-495d-8da6-d1251e5d1f84",
    "_uuid": "deaddb45c29213e9733737c5ae6bbe0fb3e55df0"
   },
   "source": [
    "- To Reduce Memory Usage, It's necessary to do DataType Converting"
   ]
  },
  {
   "cell_type": "code",
   "execution_count": 4,
   "metadata": {
    "_cell_guid": "706a3e7f-a9f4-4192-925c-8bf654a204a6",
    "_uuid": "4c9821b262c7de9688f9c9a91127e426b0165838"
   },
   "outputs": [
    {
     "name": "stdout",
     "output_type": "stream",
     "text": [
      "<class 'pandas.core.frame.DataFrame'>\n",
      "RangeIndex: 1687861 entries, 0 to 1687860\n",
      "Columns: 23 entries, sku to went_on_backorder\n",
      "dtypes: float32(15), object(8)\n",
      "memory usage: 199.6+ MB\n"
     ]
    }
   ],
   "source": [
    "#Memory Usage\n",
    "for c, dtype in zip(train.columns, train.dtypes):\n",
    "    if dtype == np.float64:\n",
    "        train[c] = train[c].astype(np.float32)\n",
    "train.info(verbose=False)"
   ]
  },
  {
   "cell_type": "code",
   "execution_count": 5,
   "metadata": {
    "_cell_guid": "52505841-8257-4042-a204-bafbe082624a",
    "_uuid": "ea7f6f8783298c5116cef0f2bcb418495cc525bc"
   },
   "outputs": [
    {
     "name": "stdout",
     "output_type": "stream",
     "text": [
      "<class 'pandas.core.frame.DataFrame'>\n",
      "RangeIndex: 242076 entries, 0 to 242075\n",
      "Columns: 23 entries, sku to went_on_backorder\n",
      "dtypes: float64(15), object(8)\n",
      "memory usage: 42.5+ MB\n"
     ]
    }
   ],
   "source": [
    "test.info(verbose=False)"
   ]
  },
  {
   "cell_type": "markdown",
   "metadata": {
    "_cell_guid": "f7b5c5ad-8ea1-450f-bca6-1f7b76201e26",
    "_uuid": "a351210e124f73fdae432ba35aea11865cf27e2b"
   },
   "source": [
    "##  Categorical Analysis and Feature Selection"
   ]
  },
  {
   "cell_type": "code",
   "execution_count": 6,
   "metadata": {
    "_cell_guid": "6ab979a0-41d8-48e3-9af2-69ac820f6a11",
    "_uuid": "424f85aaaec4c3b6e22f11d99ec2c55fd6b29015",
    "scrolled": true
   },
   "outputs": [
    {
     "data": {
      "text/html": [
       "<div>\n",
       "<style>\n",
       "    .dataframe thead tr:only-child th {\n",
       "        text-align: right;\n",
       "    }\n",
       "\n",
       "    .dataframe thead th {\n",
       "        text-align: left;\n",
       "    }\n",
       "\n",
       "    .dataframe tbody tr th {\n",
       "        vertical-align: top;\n",
       "    }\n",
       "</style>\n",
       "<table border=\"1\" class=\"dataframe\">\n",
       "  <thead>\n",
       "    <tr style=\"text-align: right;\">\n",
       "      <th></th>\n",
       "      <th>sku</th>\n",
       "      <th>potential_issue</th>\n",
       "      <th>deck_risk</th>\n",
       "      <th>oe_constraint</th>\n",
       "      <th>ppap_risk</th>\n",
       "      <th>stop_auto_buy</th>\n",
       "      <th>rev_stop</th>\n",
       "      <th>went_on_backorder</th>\n",
       "    </tr>\n",
       "  </thead>\n",
       "  <tbody>\n",
       "    <tr>\n",
       "      <th>0</th>\n",
       "      <td>1026827</td>\n",
       "      <td>No</td>\n",
       "      <td>No</td>\n",
       "      <td>No</td>\n",
       "      <td>No</td>\n",
       "      <td>Yes</td>\n",
       "      <td>No</td>\n",
       "      <td>No</td>\n",
       "    </tr>\n",
       "    <tr>\n",
       "      <th>1</th>\n",
       "      <td>1043384</td>\n",
       "      <td>No</td>\n",
       "      <td>No</td>\n",
       "      <td>No</td>\n",
       "      <td>No</td>\n",
       "      <td>Yes</td>\n",
       "      <td>No</td>\n",
       "      <td>No</td>\n",
       "    </tr>\n",
       "    <tr>\n",
       "      <th>2</th>\n",
       "      <td>1043696</td>\n",
       "      <td>No</td>\n",
       "      <td>Yes</td>\n",
       "      <td>No</td>\n",
       "      <td>No</td>\n",
       "      <td>Yes</td>\n",
       "      <td>No</td>\n",
       "      <td>No</td>\n",
       "    </tr>\n",
       "    <tr>\n",
       "      <th>3</th>\n",
       "      <td>1043852</td>\n",
       "      <td>No</td>\n",
       "      <td>No</td>\n",
       "      <td>No</td>\n",
       "      <td>No</td>\n",
       "      <td>Yes</td>\n",
       "      <td>No</td>\n",
       "      <td>No</td>\n",
       "    </tr>\n",
       "    <tr>\n",
       "      <th>4</th>\n",
       "      <td>1044048</td>\n",
       "      <td>No</td>\n",
       "      <td>Yes</td>\n",
       "      <td>No</td>\n",
       "      <td>No</td>\n",
       "      <td>Yes</td>\n",
       "      <td>No</td>\n",
       "      <td>No</td>\n",
       "    </tr>\n",
       "  </tbody>\n",
       "</table>\n",
       "</div>"
      ],
      "text/plain": [
       "       sku potential_issue deck_risk oe_constraint ppap_risk stop_auto_buy  \\\n",
       "0  1026827              No        No            No        No           Yes   \n",
       "1  1043384              No        No            No        No           Yes   \n",
       "2  1043696              No       Yes            No        No           Yes   \n",
       "3  1043852              No        No            No        No           Yes   \n",
       "4  1044048              No       Yes            No        No           Yes   \n",
       "\n",
       "  rev_stop went_on_backorder  \n",
       "0       No                No  \n",
       "1       No                No  \n",
       "2       No                No  \n",
       "3       No                No  \n",
       "4       No                No  "
      ]
     },
     "execution_count": 6,
     "metadata": {},
     "output_type": "execute_result"
    }
   ],
   "source": [
    "train[train.select_dtypes(include = ['object']).columns].head()"
   ]
  },
  {
   "cell_type": "code",
   "execution_count": 7,
   "metadata": {
    "collapsed": true
   },
   "outputs": [],
   "source": [
    "#define quantitative and categorical variable lists \n",
    "\n",
    "#Quant Vars\n",
    "quantvars=['national_inv',\n",
    "           'lead_time',\n",
    "           'in_transit_qty',\n",
    "           'forecast_3_month',\n",
    "           'forecast_6_month',\n",
    "           'forecast_9_month',\n",
    "           'sales_1_month',\n",
    "           'sales_3_month',\n",
    "           'sales_6_month',\n",
    "           'sales_9_month',\n",
    "           'min_bank',\n",
    "           'pieces_past_due',\n",
    "           'perf_6_month_avg',\n",
    "           'perf_12_month_avg',\n",
    "           'local_bo_qty']\n",
    "\n",
    "#Cat Vars\n",
    "catvars=['potential_issue',\n",
    "            'deck_risk',\n",
    "            'oe_constraint',\n",
    "            'ppap_risk',\n",
    "            'stop_auto_buy',\n",
    "            'rev_stop',\n",
    "            'went_on_backorder']\n",
    "\n",
    "#CatPredictors\n",
    "catpred=['potential_issue',\n",
    "            'deck_risk',\n",
    "            'oe_constraint',\n",
    "            'ppap_risk',\n",
    "            'stop_auto_buy',\n",
    "            'rev_stop']"
   ]
  },
  {
   "cell_type": "code",
   "execution_count": 8,
   "metadata": {},
   "outputs": [
    {
     "data": {
      "text/html": [
       "<div>\n",
       "<style>\n",
       "    .dataframe thead tr:only-child th {\n",
       "        text-align: right;\n",
       "    }\n",
       "\n",
       "    .dataframe thead th {\n",
       "        text-align: left;\n",
       "    }\n",
       "\n",
       "    .dataframe tbody tr th {\n",
       "        vertical-align: top;\n",
       "    }\n",
       "</style>\n",
       "<table border=\"1\" class=\"dataframe\">\n",
       "  <thead>\n",
       "    <tr style=\"text-align: right;\">\n",
       "      <th></th>\n",
       "      <th>sku</th>\n",
       "      <th>potential_issue</th>\n",
       "      <th>deck_risk</th>\n",
       "      <th>oe_constraint</th>\n",
       "      <th>ppap_risk</th>\n",
       "      <th>stop_auto_buy</th>\n",
       "      <th>rev_stop</th>\n",
       "      <th>went_on_backorder</th>\n",
       "    </tr>\n",
       "  </thead>\n",
       "  <tbody>\n",
       "    <tr>\n",
       "      <th>0</th>\n",
       "      <td>3285085</td>\n",
       "      <td>No</td>\n",
       "      <td>Yes</td>\n",
       "      <td>No</td>\n",
       "      <td>No</td>\n",
       "      <td>Yes</td>\n",
       "      <td>No</td>\n",
       "      <td>No</td>\n",
       "    </tr>\n",
       "    <tr>\n",
       "      <th>1</th>\n",
       "      <td>3285131</td>\n",
       "      <td>No</td>\n",
       "      <td>No</td>\n",
       "      <td>No</td>\n",
       "      <td>Yes</td>\n",
       "      <td>No</td>\n",
       "      <td>No</td>\n",
       "      <td>No</td>\n",
       "    </tr>\n",
       "    <tr>\n",
       "      <th>2</th>\n",
       "      <td>3285358</td>\n",
       "      <td>No</td>\n",
       "      <td>No</td>\n",
       "      <td>No</td>\n",
       "      <td>No</td>\n",
       "      <td>Yes</td>\n",
       "      <td>No</td>\n",
       "      <td>No</td>\n",
       "    </tr>\n",
       "    <tr>\n",
       "      <th>3</th>\n",
       "      <td>3285517</td>\n",
       "      <td>No</td>\n",
       "      <td>No</td>\n",
       "      <td>No</td>\n",
       "      <td>Yes</td>\n",
       "      <td>Yes</td>\n",
       "      <td>No</td>\n",
       "      <td>No</td>\n",
       "    </tr>\n",
       "    <tr>\n",
       "      <th>4</th>\n",
       "      <td>3285608</td>\n",
       "      <td>No</td>\n",
       "      <td>No</td>\n",
       "      <td>No</td>\n",
       "      <td>No</td>\n",
       "      <td>Yes</td>\n",
       "      <td>No</td>\n",
       "      <td>No</td>\n",
       "    </tr>\n",
       "  </tbody>\n",
       "</table>\n",
       "</div>"
      ],
      "text/plain": [
       "       sku potential_issue deck_risk oe_constraint ppap_risk stop_auto_buy  \\\n",
       "0  3285085              No       Yes            No        No           Yes   \n",
       "1  3285131              No        No            No       Yes            No   \n",
       "2  3285358              No        No            No        No           Yes   \n",
       "3  3285517              No        No            No       Yes           Yes   \n",
       "4  3285608              No        No            No        No           Yes   \n",
       "\n",
       "  rev_stop went_on_backorder  \n",
       "0       No                No  \n",
       "1       No                No  \n",
       "2       No                No  \n",
       "3       No                No  \n",
       "4       No                No  "
      ]
     },
     "execution_count": 8,
     "metadata": {},
     "output_type": "execute_result"
    }
   ],
   "source": [
    "#Categorical Value of test data\n",
    "test[test.select_dtypes(include = ['object']).columns].head()"
   ]
  },
  {
   "cell_type": "markdown",
   "metadata": {},
   "source": [
    "Data Preprocessing"
   ]
  },
  {
   "cell_type": "code",
   "execution_count": 9,
   "metadata": {
    "_cell_guid": "bc7b8728-5e89-4f38-abed-33fca6e608a7",
    "_uuid": "30ff32d28856fb17d5e3a7636f29851aa04728dc"
   },
   "outputs": [
    {
     "data": {
      "text/html": [
       "<div>\n",
       "<style>\n",
       "    .dataframe thead tr:only-child th {\n",
       "        text-align: right;\n",
       "    }\n",
       "\n",
       "    .dataframe thead th {\n",
       "        text-align: left;\n",
       "    }\n",
       "\n",
       "    .dataframe tbody tr th {\n",
       "        vertical-align: top;\n",
       "    }\n",
       "</style>\n",
       "<table border=\"1\" class=\"dataframe\">\n",
       "  <thead>\n",
       "    <tr style=\"text-align: right;\">\n",
       "      <th></th>\n",
       "      <th>sku</th>\n",
       "      <th>national_inv</th>\n",
       "      <th>lead_time</th>\n",
       "      <th>in_transit_qty</th>\n",
       "      <th>forecast_3_month</th>\n",
       "      <th>forecast_6_month</th>\n",
       "      <th>forecast_9_month</th>\n",
       "      <th>sales_1_month</th>\n",
       "      <th>sales_3_month</th>\n",
       "      <th>sales_6_month</th>\n",
       "      <th>...</th>\n",
       "      <th>pieces_past_due</th>\n",
       "      <th>perf_6_month_avg</th>\n",
       "      <th>perf_12_month_avg</th>\n",
       "      <th>local_bo_qty</th>\n",
       "      <th>deck_risk</th>\n",
       "      <th>oe_constraint</th>\n",
       "      <th>ppap_risk</th>\n",
       "      <th>stop_auto_buy</th>\n",
       "      <th>rev_stop</th>\n",
       "      <th>went_on_backorder</th>\n",
       "    </tr>\n",
       "  </thead>\n",
       "  <tbody>\n",
       "    <tr>\n",
       "      <th>1687859</th>\n",
       "      <td>1502009</td>\n",
       "      <td>19.0</td>\n",
       "      <td>4.0</td>\n",
       "      <td>0.0</td>\n",
       "      <td>0.0</td>\n",
       "      <td>0.0</td>\n",
       "      <td>0.0</td>\n",
       "      <td>2.0</td>\n",
       "      <td>7.0</td>\n",
       "      <td>12.0</td>\n",
       "      <td>...</td>\n",
       "      <td>0.0</td>\n",
       "      <td>0.73</td>\n",
       "      <td>0.78</td>\n",
       "      <td>1.0</td>\n",
       "      <td>No</td>\n",
       "      <td>No</td>\n",
       "      <td>No</td>\n",
       "      <td>Yes</td>\n",
       "      <td>No</td>\n",
       "      <td>No</td>\n",
       "    </tr>\n",
       "    <tr>\n",
       "      <th>1687860</th>\n",
       "      <td>(1687860 rows)</td>\n",
       "      <td>NaN</td>\n",
       "      <td>NaN</td>\n",
       "      <td>NaN</td>\n",
       "      <td>NaN</td>\n",
       "      <td>NaN</td>\n",
       "      <td>NaN</td>\n",
       "      <td>NaN</td>\n",
       "      <td>NaN</td>\n",
       "      <td>NaN</td>\n",
       "      <td>...</td>\n",
       "      <td>NaN</td>\n",
       "      <td>NaN</td>\n",
       "      <td>NaN</td>\n",
       "      <td>NaN</td>\n",
       "      <td>NaN</td>\n",
       "      <td>NaN</td>\n",
       "      <td>NaN</td>\n",
       "      <td>NaN</td>\n",
       "      <td>NaN</td>\n",
       "      <td>NaN</td>\n",
       "    </tr>\n",
       "  </tbody>\n",
       "</table>\n",
       "<p>2 rows × 23 columns</p>\n",
       "</div>"
      ],
      "text/plain": [
       "                    sku  national_inv  lead_time  in_transit_qty  \\\n",
       "1687859         1502009          19.0        4.0             0.0   \n",
       "1687860  (1687860 rows)           NaN        NaN             NaN   \n",
       "\n",
       "         forecast_3_month  forecast_6_month  forecast_9_month  sales_1_month  \\\n",
       "1687859               0.0               0.0               0.0            2.0   \n",
       "1687860               NaN               NaN               NaN            NaN   \n",
       "\n",
       "         sales_3_month  sales_6_month        ...         pieces_past_due  \\\n",
       "1687859            7.0           12.0        ...                     0.0   \n",
       "1687860            NaN            NaN        ...                     NaN   \n",
       "\n",
       "         perf_6_month_avg perf_12_month_avg  local_bo_qty  deck_risk  \\\n",
       "1687859              0.73              0.78           1.0         No   \n",
       "1687860               NaN               NaN           NaN        NaN   \n",
       "\n",
       "         oe_constraint  ppap_risk stop_auto_buy rev_stop went_on_backorder  \n",
       "1687859             No         No           Yes       No                No  \n",
       "1687860            NaN        NaN           NaN      NaN               NaN  \n",
       "\n",
       "[2 rows x 23 columns]"
      ]
     },
     "execution_count": 9,
     "metadata": {},
     "output_type": "execute_result"
    }
   ],
   "source": [
    "#Lat two rows of train data\n",
    "train.tail(2)"
   ]
  },
  {
   "cell_type": "code",
   "execution_count": 10,
   "metadata": {
    "_cell_guid": "ad3f3000-6cd1-46b0-a777-bbc8fefce9e2",
    "_uuid": "8dd599e303a814dbaa87e568ea6201a7bc7afe2e",
    "collapsed": true
   },
   "outputs": [],
   "source": [
    "#removing last row because it containg most of the value Nan\n",
    "train.drop(train.index[-1], inplace=True)\n",
    "test.drop(test.index[-1], inplace=True)"
   ]
  },
  {
   "cell_type": "code",
   "execution_count": 11,
   "metadata": {
    "_cell_guid": "2b8f2505-979f-47c7-9887-d53c2b64f990",
    "_uuid": "9437f0105015d0df98ad81097426d87292be92c5",
    "collapsed": true
   },
   "outputs": [],
   "source": [
    "#Reducing Memory of train & test column 'sku'\n",
    "train.sku = train.sku.astype(np.int32)\n",
    "test.sku = test.sku.astype(np.int32)"
   ]
  },
  {
   "cell_type": "code",
   "execution_count": 75,
   "metadata": {
    "collapsed": true
   },
   "outputs": [],
   "source": [
    "#Merging train and test data\n",
    "merged_data=pd.concat([train,test])"
   ]
  },
  {
   "cell_type": "code",
   "execution_count": 76,
   "metadata": {
    "_cell_guid": "212aacc0-3219-4136-bbdd-7516d09777b2",
    "_uuid": "c6300778e1f491232d9647eb84eb4310daeaaeee"
   },
   "outputs": [
    {
     "data": {
      "text/plain": [
       "sku                    int32\n",
       "national_inv         float64\n",
       "lead_time            float64\n",
       "in_transit_qty       float64\n",
       "forecast_3_month     float64\n",
       "forecast_6_month     float64\n",
       "forecast_9_month     float64\n",
       "sales_1_month        float64\n",
       "sales_3_month        float64\n",
       "sales_6_month        float64\n",
       "sales_9_month        float64\n",
       "min_bank             float64\n",
       "potential_issue       object\n",
       "pieces_past_due      float64\n",
       "perf_6_month_avg     float64\n",
       "perf_12_month_avg    float64\n",
       "local_bo_qty         float64\n",
       "deck_risk             object\n",
       "oe_constraint         object\n",
       "ppap_risk             object\n",
       "stop_auto_buy         object\n",
       "rev_stop              object\n",
       "went_on_backorder     object\n",
       "dtype: object"
      ]
     },
     "execution_count": 76,
     "metadata": {},
     "output_type": "execute_result"
    }
   ],
   "source": [
    "#whole data\n",
    "merged_data.dtypes"
   ]
  },
  {
   "cell_type": "markdown",
   "metadata": {},
   "source": [
    "<h3> categorical variable feature selection"
   ]
  },
  {
   "cell_type": "code",
   "execution_count": 77,
   "metadata": {
    "collapsed": true
   },
   "outputs": [],
   "source": [
    "#collecting all the categorical feature in a single dataframe for analysis\n",
    "catvars=['potential_issue',\n",
    "            'deck_risk',\n",
    "            'oe_constraint',\n",
    "            'ppap_risk',\n",
    "            'stop_auto_buy',\n",
    "            'rev_stop',\n",
    "            'went_on_backorder']\n",
    "catvars_variable=pd.DataFrame(merged_data,columns=catvars)"
   ]
  },
  {
   "cell_type": "code",
   "execution_count": 78,
   "metadata": {},
   "outputs": [
    {
     "data": {
      "text/html": [
       "<div>\n",
       "<style>\n",
       "    .dataframe thead tr:only-child th {\n",
       "        text-align: right;\n",
       "    }\n",
       "\n",
       "    .dataframe thead th {\n",
       "        text-align: left;\n",
       "    }\n",
       "\n",
       "    .dataframe tbody tr th {\n",
       "        vertical-align: top;\n",
       "    }\n",
       "</style>\n",
       "<table border=\"1\" class=\"dataframe\">\n",
       "  <thead>\n",
       "    <tr style=\"text-align: right;\">\n",
       "      <th></th>\n",
       "      <th>0</th>\n",
       "      <th>1</th>\n",
       "      <th>2</th>\n",
       "      <th>3</th>\n",
       "      <th>4</th>\n",
       "    </tr>\n",
       "  </thead>\n",
       "  <tbody>\n",
       "    <tr>\n",
       "      <th>potential_issue</th>\n",
       "      <td>No</td>\n",
       "      <td>No</td>\n",
       "      <td>No</td>\n",
       "      <td>No</td>\n",
       "      <td>No</td>\n",
       "    </tr>\n",
       "    <tr>\n",
       "      <th>deck_risk</th>\n",
       "      <td>No</td>\n",
       "      <td>No</td>\n",
       "      <td>Yes</td>\n",
       "      <td>No</td>\n",
       "      <td>Yes</td>\n",
       "    </tr>\n",
       "    <tr>\n",
       "      <th>oe_constraint</th>\n",
       "      <td>No</td>\n",
       "      <td>No</td>\n",
       "      <td>No</td>\n",
       "      <td>No</td>\n",
       "      <td>No</td>\n",
       "    </tr>\n",
       "    <tr>\n",
       "      <th>ppap_risk</th>\n",
       "      <td>No</td>\n",
       "      <td>No</td>\n",
       "      <td>No</td>\n",
       "      <td>No</td>\n",
       "      <td>No</td>\n",
       "    </tr>\n",
       "    <tr>\n",
       "      <th>stop_auto_buy</th>\n",
       "      <td>Yes</td>\n",
       "      <td>Yes</td>\n",
       "      <td>Yes</td>\n",
       "      <td>Yes</td>\n",
       "      <td>Yes</td>\n",
       "    </tr>\n",
       "    <tr>\n",
       "      <th>rev_stop</th>\n",
       "      <td>No</td>\n",
       "      <td>No</td>\n",
       "      <td>No</td>\n",
       "      <td>No</td>\n",
       "      <td>No</td>\n",
       "    </tr>\n",
       "    <tr>\n",
       "      <th>went_on_backorder</th>\n",
       "      <td>No</td>\n",
       "      <td>No</td>\n",
       "      <td>No</td>\n",
       "      <td>No</td>\n",
       "      <td>No</td>\n",
       "    </tr>\n",
       "  </tbody>\n",
       "</table>\n",
       "</div>"
      ],
      "text/plain": [
       "                     0    1    2    3    4\n",
       "potential_issue     No   No   No   No   No\n",
       "deck_risk           No   No  Yes   No  Yes\n",
       "oe_constraint       No   No   No   No   No\n",
       "ppap_risk           No   No   No   No   No\n",
       "stop_auto_buy      Yes  Yes  Yes  Yes  Yes\n",
       "rev_stop            No   No   No   No   No\n",
       "went_on_backorder   No   No   No   No   No"
      ]
     },
     "execution_count": 78,
     "metadata": {},
     "output_type": "execute_result"
    }
   ],
   "source": [
    "catvars_variable.head(5).transpose()"
   ]
  },
  {
   "cell_type": "code",
   "execution_count": 79,
   "metadata": {},
   "outputs": [
    {
     "name": "stdout",
     "output_type": "stream",
     "text": [
      "No     1928946\n",
      "Yes        989\n",
      "Name: potential_issue, dtype: int64\n",
      "No     1494482\n",
      "Yes     435453\n",
      "Name: deck_risk, dtype: int64\n",
      "No     1929643\n",
      "Yes        292\n",
      "Name: oe_constraint, dtype: int64\n",
      "No     1697383\n",
      "Yes     232552\n",
      "Name: ppap_risk, dtype: int64\n",
      "Yes    1859391\n",
      "No       70544\n",
      "Name: stop_auto_buy, dtype: int64\n",
      "No     1929096\n",
      "Yes        839\n",
      "Name: rev_stop, dtype: int64\n",
      "No     1915954\n",
      "Yes      13981\n",
      "Name: went_on_backorder, dtype: int64\n"
     ]
    }
   ],
   "source": [
    "for col in ['potential_issue',\n",
    "            'deck_risk',\n",
    "            'oe_constraint',\n",
    "            'ppap_risk',\n",
    "            'stop_auto_buy',\n",
    "            'rev_stop',\n",
    "            'went_on_backorder']:\n",
    "    contigency_table=catvars_variable[col].value_counts(ascending=False)\n",
    "    print(contigency_table)"
   ]
  },
  {
   "cell_type": "code",
   "execution_count": 80,
   "metadata": {},
   "outputs": [],
   "source": [
    "for col in ['potential_issue',\n",
    "            'deck_risk',\n",
    "            'oe_constraint',\n",
    "            'ppap_risk',\n",
    "            'stop_auto_buy',\n",
    "            'rev_stop',\n",
    "            'went_on_backorder']:\n",
    "#\"pd.factorize\" Encode input values as an enumerated type or categorical variable    \n",
    "    catvars_variable[col]=(catvars_variable[col].apply(lambda  x: 1 if x=='Yes' else 0))    "
   ]
  },
  {
   "cell_type": "code",
   "execution_count": 81,
   "metadata": {},
   "outputs": [
    {
     "data": {
      "text/html": [
       "<div>\n",
       "<style>\n",
       "    .dataframe thead tr:only-child th {\n",
       "        text-align: right;\n",
       "    }\n",
       "\n",
       "    .dataframe thead th {\n",
       "        text-align: left;\n",
       "    }\n",
       "\n",
       "    .dataframe tbody tr th {\n",
       "        vertical-align: top;\n",
       "    }\n",
       "</style>\n",
       "<table border=\"1\" class=\"dataframe\">\n",
       "  <thead>\n",
       "    <tr style=\"text-align: right;\">\n",
       "      <th></th>\n",
       "      <th>potential_issue</th>\n",
       "      <th>deck_risk</th>\n",
       "      <th>oe_constraint</th>\n",
       "      <th>ppap_risk</th>\n",
       "      <th>stop_auto_buy</th>\n",
       "      <th>rev_stop</th>\n",
       "      <th>went_on_backorder</th>\n",
       "    </tr>\n",
       "  </thead>\n",
       "  <tbody>\n",
       "    <tr>\n",
       "      <th>0</th>\n",
       "      <td>0</td>\n",
       "      <td>0</td>\n",
       "      <td>0</td>\n",
       "      <td>0</td>\n",
       "      <td>1</td>\n",
       "      <td>0</td>\n",
       "      <td>0</td>\n",
       "    </tr>\n",
       "    <tr>\n",
       "      <th>1</th>\n",
       "      <td>0</td>\n",
       "      <td>0</td>\n",
       "      <td>0</td>\n",
       "      <td>0</td>\n",
       "      <td>1</td>\n",
       "      <td>0</td>\n",
       "      <td>0</td>\n",
       "    </tr>\n",
       "    <tr>\n",
       "      <th>2</th>\n",
       "      <td>0</td>\n",
       "      <td>1</td>\n",
       "      <td>0</td>\n",
       "      <td>0</td>\n",
       "      <td>1</td>\n",
       "      <td>0</td>\n",
       "      <td>0</td>\n",
       "    </tr>\n",
       "    <tr>\n",
       "      <th>3</th>\n",
       "      <td>0</td>\n",
       "      <td>0</td>\n",
       "      <td>0</td>\n",
       "      <td>0</td>\n",
       "      <td>1</td>\n",
       "      <td>0</td>\n",
       "      <td>0</td>\n",
       "    </tr>\n",
       "    <tr>\n",
       "      <th>4</th>\n",
       "      <td>0</td>\n",
       "      <td>1</td>\n",
       "      <td>0</td>\n",
       "      <td>0</td>\n",
       "      <td>1</td>\n",
       "      <td>0</td>\n",
       "      <td>0</td>\n",
       "    </tr>\n",
       "  </tbody>\n",
       "</table>\n",
       "</div>"
      ],
      "text/plain": [
       "   potential_issue  deck_risk  oe_constraint  ppap_risk  stop_auto_buy  \\\n",
       "0                0          0              0          0              1   \n",
       "1                0          0              0          0              1   \n",
       "2                0          1              0          0              1   \n",
       "3                0          0              0          0              1   \n",
       "4                0          1              0          0              1   \n",
       "\n",
       "   rev_stop  went_on_backorder  \n",
       "0         0                  0  \n",
       "1         0                  0  \n",
       "2         0                  0  \n",
       "3         0                  0  \n",
       "4         0                  0  "
      ]
     },
     "execution_count": 81,
     "metadata": {},
     "output_type": "execute_result"
    }
   ],
   "source": [
    "catvars_variable.head(5)"
   ]
  },
  {
   "cell_type": "markdown",
   "metadata": {},
   "source": [
    "<b>Tree-based feature selection\n"
   ]
  },
  {
   "cell_type": "code",
   "execution_count": 82,
   "metadata": {},
   "outputs": [
    {
     "name": "stdout",
     "output_type": "stream",
     "text": [
      "(1929935, 3)\n"
     ]
    }
   ],
   "source": [
    "from sklearn.ensemble import ExtraTreesClassifier\n",
    "from sklearn.datasets import load_iris\n",
    "from sklearn.feature_selection import SelectFromModel\n",
    "array = catvars_variable.values\n",
    "X = array[:,0:6]\n",
    "Y = array[:,6]\n",
    "clf = ExtraTreesClassifier()\n",
    "clf = clf.fit(X, Y)\n",
    "model = SelectFromModel(clf, prefit=True)\n",
    "X_new = model.transform(X)\n",
    "print(X_new.shape)               "
   ]
  },
  {
   "cell_type": "code",
   "execution_count": 83,
   "metadata": {},
   "outputs": [
    {
     "data": {
      "text/plain": [
       "array([ 0.32700236,  0.38792814,  0.03364473,  0.19529457,  0.05283097,\n",
       "        0.00329924])"
      ]
     },
     "execution_count": 83,
     "metadata": {},
     "output_type": "execute_result"
    }
   ],
   "source": [
    "clf.feature_importances_ "
   ]
  },
  {
   "cell_type": "code",
   "execution_count": 84,
   "metadata": {},
   "outputs": [
    {
     "name": "stdout",
     "output_type": "stream",
     "text": [
      "                        0\n",
      "potential_issue  0.303776\n",
      "deck_risk        0.398813\n",
      "oe_constraint    0.028496\n",
      "ppap_risk        0.206153\n",
      "stop_auto_buy    0.059631\n",
      "rev_stop         0.003131\n"
     ]
    }
   ],
   "source": [
    "a=pd.DataFrame([ 0.30377599,  0.39881306,  0.02849595,  0.20615314,  0.05963062,\n",
    "        0.00313124],['potential_issue','deck_risk','oe_constraint','ppap_risk','stop_auto_buy','rev_stop'])\n",
    "print(a)"
   ]
  },
  {
   "cell_type": "markdown",
   "metadata": {},
   "source": [
    "<b>Feature Selected:</b><br>\n",
    "#1.potential_issue<br>\n",
    "#2.deck_risk\n",
    "#3.ppap_risk\n",
    "#4.stop_auto_buy"
   ]
  },
  {
   "cell_type": "markdown",
   "metadata": {},
   "source": [
    "<b>Feature Importance of categorical vaiable using RFE(Recursive feature elimination)"
   ]
  },
  {
   "cell_type": "markdown",
   "metadata": {},
   "source": [
    "<b>logistic"
   ]
  },
  {
   "cell_type": "code",
   "execution_count": 85,
   "metadata": {},
   "outputs": [],
   "source": [
    "from sklearn.feature_selection import RFE\n",
    "from sklearn.feature_selection import SelectFromModel\n",
    "from sklearn.linear_model import LogisticRegression\n",
    "from sklearn.ensemble import RandomForestClassifier\n",
    "from sklearn.tree import DecisionTreeClassifier\n",
    "# feature extraction\n",
    "model = LogisticRegression()\n",
    "rfe = RFE(model, 4)\n",
    "fit = rfe.fit(X, Y)"
   ]
  },
  {
   "cell_type": "code",
   "execution_count": 86,
   "metadata": {},
   "outputs": [
    {
     "data": {
      "text/plain": [
       "array([ True,  True,  True, False, False,  True], dtype=bool)"
      ]
     },
     "execution_count": 86,
     "metadata": {},
     "output_type": "execute_result"
    }
   ],
   "source": [
    "fit.support_"
   ]
  },
  {
   "cell_type": "code",
   "execution_count": 87,
   "metadata": {},
   "outputs": [
    {
     "data": {
      "text/plain": [
       "array([1, 1, 1, 2, 3, 1])"
      ]
     },
     "execution_count": 87,
     "metadata": {},
     "output_type": "execute_result"
    }
   ],
   "source": [
    "fit.ranking_"
   ]
  },
  {
   "cell_type": "markdown",
   "metadata": {},
   "source": [
    "<b>Feature Selected:</b><br>\n",
    "#1.potential_issue\n",
    "#2.deck_risk\n",
    "#3.oe_constraint\n",
    "#4. rev_stop"
   ]
  },
  {
   "cell_type": "markdown",
   "metadata": {},
   "source": [
    "<b>Random Forest"
   ]
  },
  {
   "cell_type": "code",
   "execution_count": 88,
   "metadata": {
    "collapsed": true
   },
   "outputs": [],
   "source": [
    "# feature extraction using randomforest RFE \n",
    "model = RandomForestClassifier()\n",
    "rfe = RFE(model, 4)\n",
    "fit = rfe.fit(X, Y)"
   ]
  },
  {
   "cell_type": "code",
   "execution_count": 89,
   "metadata": {},
   "outputs": [
    {
     "data": {
      "text/plain": [
       "array([ True,  True, False,  True,  True, False], dtype=bool)"
      ]
     },
     "execution_count": 89,
     "metadata": {},
     "output_type": "execute_result"
    }
   ],
   "source": [
    "fit.support_"
   ]
  },
  {
   "cell_type": "markdown",
   "metadata": {},
   "source": [
    "<b>Feature Selected:</b><br>\n",
    "#1.potential_issue\n",
    "#2.deck_risk\n",
    "#3.ppap_risk\n",
    "#4.stop_auto_buy"
   ]
  },
  {
   "cell_type": "markdown",
   "metadata": {},
   "source": [
    "<b>DecisionTreeClassifier"
   ]
  },
  {
   "cell_type": "code",
   "execution_count": 90,
   "metadata": {
    "collapsed": true
   },
   "outputs": [],
   "source": [
    "# feature extraction using randomforest RFE \n",
    "model = DecisionTreeClassifier()\n",
    "rfe = RFE(model, 4)\n",
    "fit = rfe.fit(X, Y)"
   ]
  },
  {
   "cell_type": "code",
   "execution_count": 91,
   "metadata": {},
   "outputs": [
    {
     "data": {
      "text/plain": [
       "array([ True,  True, False,  True,  True, False], dtype=bool)"
      ]
     },
     "execution_count": 91,
     "metadata": {},
     "output_type": "execute_result"
    }
   ],
   "source": [
    "fit.support_"
   ]
  },
  {
   "cell_type": "code",
   "execution_count": 92,
   "metadata": {},
   "outputs": [
    {
     "data": {
      "text/plain": [
       "array([1, 1, 2, 1, 1, 3])"
      ]
     },
     "execution_count": 92,
     "metadata": {},
     "output_type": "execute_result"
    }
   ],
   "source": [
    "fit.ranking_"
   ]
  },
  {
   "cell_type": "markdown",
   "metadata": {},
   "source": [
    "<b>Feature Selected:</b><br>\n",
    "#1.potential_issue<br>\n",
    "#2.deck_risk\n",
    "#3.ppap_risk\n",
    "#4.stop_auto_buy"
   ]
  },
  {
   "cell_type": "markdown",
   "metadata": {},
   "source": [
    "<h4><b>Final Feature which selected after considering all the feature selection method used is:<br>\n",
    "#1.potential_issue<br>\n",
    "#2.deck_risk\n",
    "#3.ppap_risk\n",
    "#4.stop_auto_buy"
   ]
  },
  {
   "cell_type": "markdown",
   "metadata": {},
   "source": [
    "<h3>Data Preprocessing"
   ]
  },
  {
   "cell_type": "code",
   "execution_count": 93,
   "metadata": {},
   "outputs": [
    {
     "data": {
      "text/html": [
       "<div>\n",
       "<style>\n",
       "    .dataframe thead tr:only-child th {\n",
       "        text-align: right;\n",
       "    }\n",
       "\n",
       "    .dataframe thead th {\n",
       "        text-align: left;\n",
       "    }\n",
       "\n",
       "    .dataframe tbody tr th {\n",
       "        vertical-align: top;\n",
       "    }\n",
       "</style>\n",
       "<table border=\"1\" class=\"dataframe\">\n",
       "  <thead>\n",
       "    <tr style=\"text-align: right;\">\n",
       "      <th></th>\n",
       "      <th>sku</th>\n",
       "      <th>national_inv</th>\n",
       "      <th>lead_time</th>\n",
       "      <th>in_transit_qty</th>\n",
       "      <th>forecast_3_month</th>\n",
       "      <th>forecast_6_month</th>\n",
       "      <th>forecast_9_month</th>\n",
       "      <th>sales_1_month</th>\n",
       "      <th>sales_3_month</th>\n",
       "      <th>sales_6_month</th>\n",
       "      <th>...</th>\n",
       "      <th>pieces_past_due</th>\n",
       "      <th>perf_6_month_avg</th>\n",
       "      <th>perf_12_month_avg</th>\n",
       "      <th>local_bo_qty</th>\n",
       "      <th>deck_risk</th>\n",
       "      <th>oe_constraint</th>\n",
       "      <th>ppap_risk</th>\n",
       "      <th>stop_auto_buy</th>\n",
       "      <th>rev_stop</th>\n",
       "      <th>went_on_backorder</th>\n",
       "    </tr>\n",
       "  </thead>\n",
       "  <tbody>\n",
       "    <tr>\n",
       "      <th>0</th>\n",
       "      <td>1026827</td>\n",
       "      <td>0.0</td>\n",
       "      <td>NaN</td>\n",
       "      <td>0.0</td>\n",
       "      <td>0.0</td>\n",
       "      <td>0.0</td>\n",
       "      <td>0.0</td>\n",
       "      <td>0.0</td>\n",
       "      <td>0.0</td>\n",
       "      <td>0.0</td>\n",
       "      <td>...</td>\n",
       "      <td>0.0</td>\n",
       "      <td>-99.00</td>\n",
       "      <td>-99.00</td>\n",
       "      <td>0.0</td>\n",
       "      <td>No</td>\n",
       "      <td>No</td>\n",
       "      <td>No</td>\n",
       "      <td>Yes</td>\n",
       "      <td>No</td>\n",
       "      <td>No</td>\n",
       "    </tr>\n",
       "    <tr>\n",
       "      <th>1</th>\n",
       "      <td>1043384</td>\n",
       "      <td>2.0</td>\n",
       "      <td>9.0</td>\n",
       "      <td>0.0</td>\n",
       "      <td>0.0</td>\n",
       "      <td>0.0</td>\n",
       "      <td>0.0</td>\n",
       "      <td>0.0</td>\n",
       "      <td>0.0</td>\n",
       "      <td>0.0</td>\n",
       "      <td>...</td>\n",
       "      <td>0.0</td>\n",
       "      <td>0.99</td>\n",
       "      <td>0.99</td>\n",
       "      <td>0.0</td>\n",
       "      <td>No</td>\n",
       "      <td>No</td>\n",
       "      <td>No</td>\n",
       "      <td>Yes</td>\n",
       "      <td>No</td>\n",
       "      <td>No</td>\n",
       "    </tr>\n",
       "    <tr>\n",
       "      <th>2</th>\n",
       "      <td>1043696</td>\n",
       "      <td>2.0</td>\n",
       "      <td>NaN</td>\n",
       "      <td>0.0</td>\n",
       "      <td>0.0</td>\n",
       "      <td>0.0</td>\n",
       "      <td>0.0</td>\n",
       "      <td>0.0</td>\n",
       "      <td>0.0</td>\n",
       "      <td>0.0</td>\n",
       "      <td>...</td>\n",
       "      <td>0.0</td>\n",
       "      <td>-99.00</td>\n",
       "      <td>-99.00</td>\n",
       "      <td>0.0</td>\n",
       "      <td>Yes</td>\n",
       "      <td>No</td>\n",
       "      <td>No</td>\n",
       "      <td>Yes</td>\n",
       "      <td>No</td>\n",
       "      <td>No</td>\n",
       "    </tr>\n",
       "    <tr>\n",
       "      <th>3</th>\n",
       "      <td>1043852</td>\n",
       "      <td>7.0</td>\n",
       "      <td>8.0</td>\n",
       "      <td>0.0</td>\n",
       "      <td>0.0</td>\n",
       "      <td>0.0</td>\n",
       "      <td>0.0</td>\n",
       "      <td>0.0</td>\n",
       "      <td>0.0</td>\n",
       "      <td>0.0</td>\n",
       "      <td>...</td>\n",
       "      <td>0.0</td>\n",
       "      <td>0.10</td>\n",
       "      <td>0.13</td>\n",
       "      <td>0.0</td>\n",
       "      <td>No</td>\n",
       "      <td>No</td>\n",
       "      <td>No</td>\n",
       "      <td>Yes</td>\n",
       "      <td>No</td>\n",
       "      <td>No</td>\n",
       "    </tr>\n",
       "    <tr>\n",
       "      <th>4</th>\n",
       "      <td>1044048</td>\n",
       "      <td>8.0</td>\n",
       "      <td>NaN</td>\n",
       "      <td>0.0</td>\n",
       "      <td>0.0</td>\n",
       "      <td>0.0</td>\n",
       "      <td>0.0</td>\n",
       "      <td>0.0</td>\n",
       "      <td>0.0</td>\n",
       "      <td>0.0</td>\n",
       "      <td>...</td>\n",
       "      <td>0.0</td>\n",
       "      <td>-99.00</td>\n",
       "      <td>-99.00</td>\n",
       "      <td>0.0</td>\n",
       "      <td>Yes</td>\n",
       "      <td>No</td>\n",
       "      <td>No</td>\n",
       "      <td>Yes</td>\n",
       "      <td>No</td>\n",
       "      <td>No</td>\n",
       "    </tr>\n",
       "  </tbody>\n",
       "</table>\n",
       "<p>5 rows × 23 columns</p>\n",
       "</div>"
      ],
      "text/plain": [
       "       sku  national_inv  lead_time  in_transit_qty  forecast_3_month  \\\n",
       "0  1026827           0.0        NaN             0.0               0.0   \n",
       "1  1043384           2.0        9.0             0.0               0.0   \n",
       "2  1043696           2.0        NaN             0.0               0.0   \n",
       "3  1043852           7.0        8.0             0.0               0.0   \n",
       "4  1044048           8.0        NaN             0.0               0.0   \n",
       "\n",
       "   forecast_6_month  forecast_9_month  sales_1_month  sales_3_month  \\\n",
       "0               0.0               0.0            0.0            0.0   \n",
       "1               0.0               0.0            0.0            0.0   \n",
       "2               0.0               0.0            0.0            0.0   \n",
       "3               0.0               0.0            0.0            0.0   \n",
       "4               0.0               0.0            0.0            0.0   \n",
       "\n",
       "   sales_6_month        ...         pieces_past_due  perf_6_month_avg  \\\n",
       "0            0.0        ...                     0.0            -99.00   \n",
       "1            0.0        ...                     0.0              0.99   \n",
       "2            0.0        ...                     0.0            -99.00   \n",
       "3            0.0        ...                     0.0              0.10   \n",
       "4            0.0        ...                     0.0            -99.00   \n",
       "\n",
       "  perf_12_month_avg  local_bo_qty  deck_risk  oe_constraint  ppap_risk  \\\n",
       "0            -99.00           0.0         No             No         No   \n",
       "1              0.99           0.0         No             No         No   \n",
       "2            -99.00           0.0        Yes             No         No   \n",
       "3              0.13           0.0         No             No         No   \n",
       "4            -99.00           0.0        Yes             No         No   \n",
       "\n",
       "  stop_auto_buy rev_stop went_on_backorder  \n",
       "0           Yes       No                No  \n",
       "1           Yes       No                No  \n",
       "2           Yes       No                No  \n",
       "3           Yes       No                No  \n",
       "4           Yes       No                No  \n",
       "\n",
       "[5 rows x 23 columns]"
      ]
     },
     "execution_count": 93,
     "metadata": {},
     "output_type": "execute_result"
    }
   ],
   "source": [
    "merged_data.head()"
   ]
  },
  {
   "cell_type": "code",
   "execution_count": 94,
   "metadata": {
    "collapsed": true
   },
   "outputs": [],
   "source": [
    "#basic data manupulation in the merged data by  converting 'yes' and 'No' into binary 1 and 0\n",
    "for col in ['potential_issue',\n",
    "            'deck_risk',\n",
    "            'oe_constraint',\n",
    "            'ppap_risk',\n",
    "            'stop_auto_buy',\n",
    "            'rev_stop',\n",
    "            'went_on_backorder']:\n",
    "#\"pd.factorize\" Encode input values as an enumerated type or categorical variable    \n",
    "    merged_data[col]=merged_data[col].apply(lambda  x: 1 if x=='Yes' else 0)"
   ]
  },
  {
   "cell_type": "code",
   "execution_count": 95,
   "metadata": {},
   "outputs": [
    {
     "data": {
      "text/html": [
       "<div>\n",
       "<style>\n",
       "    .dataframe thead tr:only-child th {\n",
       "        text-align: right;\n",
       "    }\n",
       "\n",
       "    .dataframe thead th {\n",
       "        text-align: left;\n",
       "    }\n",
       "\n",
       "    .dataframe tbody tr th {\n",
       "        vertical-align: top;\n",
       "    }\n",
       "</style>\n",
       "<table border=\"1\" class=\"dataframe\">\n",
       "  <thead>\n",
       "    <tr style=\"text-align: right;\">\n",
       "      <th></th>\n",
       "      <th>0</th>\n",
       "      <th>1</th>\n",
       "      <th>2</th>\n",
       "      <th>3</th>\n",
       "      <th>4</th>\n",
       "    </tr>\n",
       "  </thead>\n",
       "  <tbody>\n",
       "    <tr>\n",
       "      <th>sku</th>\n",
       "      <td>1026827.0</td>\n",
       "      <td>1043384.00</td>\n",
       "      <td>1043696.0</td>\n",
       "      <td>1043852.00</td>\n",
       "      <td>1044048.0</td>\n",
       "    </tr>\n",
       "    <tr>\n",
       "      <th>national_inv</th>\n",
       "      <td>0.0</td>\n",
       "      <td>2.00</td>\n",
       "      <td>2.0</td>\n",
       "      <td>7.00</td>\n",
       "      <td>8.0</td>\n",
       "    </tr>\n",
       "    <tr>\n",
       "      <th>lead_time</th>\n",
       "      <td>NaN</td>\n",
       "      <td>9.00</td>\n",
       "      <td>NaN</td>\n",
       "      <td>8.00</td>\n",
       "      <td>NaN</td>\n",
       "    </tr>\n",
       "    <tr>\n",
       "      <th>in_transit_qty</th>\n",
       "      <td>0.0</td>\n",
       "      <td>0.00</td>\n",
       "      <td>0.0</td>\n",
       "      <td>0.00</td>\n",
       "      <td>0.0</td>\n",
       "    </tr>\n",
       "    <tr>\n",
       "      <th>forecast_3_month</th>\n",
       "      <td>0.0</td>\n",
       "      <td>0.00</td>\n",
       "      <td>0.0</td>\n",
       "      <td>0.00</td>\n",
       "      <td>0.0</td>\n",
       "    </tr>\n",
       "    <tr>\n",
       "      <th>forecast_6_month</th>\n",
       "      <td>0.0</td>\n",
       "      <td>0.00</td>\n",
       "      <td>0.0</td>\n",
       "      <td>0.00</td>\n",
       "      <td>0.0</td>\n",
       "    </tr>\n",
       "    <tr>\n",
       "      <th>forecast_9_month</th>\n",
       "      <td>0.0</td>\n",
       "      <td>0.00</td>\n",
       "      <td>0.0</td>\n",
       "      <td>0.00</td>\n",
       "      <td>0.0</td>\n",
       "    </tr>\n",
       "    <tr>\n",
       "      <th>sales_1_month</th>\n",
       "      <td>0.0</td>\n",
       "      <td>0.00</td>\n",
       "      <td>0.0</td>\n",
       "      <td>0.00</td>\n",
       "      <td>0.0</td>\n",
       "    </tr>\n",
       "    <tr>\n",
       "      <th>sales_3_month</th>\n",
       "      <td>0.0</td>\n",
       "      <td>0.00</td>\n",
       "      <td>0.0</td>\n",
       "      <td>0.00</td>\n",
       "      <td>0.0</td>\n",
       "    </tr>\n",
       "    <tr>\n",
       "      <th>sales_6_month</th>\n",
       "      <td>0.0</td>\n",
       "      <td>0.00</td>\n",
       "      <td>0.0</td>\n",
       "      <td>0.00</td>\n",
       "      <td>0.0</td>\n",
       "    </tr>\n",
       "    <tr>\n",
       "      <th>sales_9_month</th>\n",
       "      <td>0.0</td>\n",
       "      <td>0.00</td>\n",
       "      <td>0.0</td>\n",
       "      <td>0.00</td>\n",
       "      <td>4.0</td>\n",
       "    </tr>\n",
       "    <tr>\n",
       "      <th>min_bank</th>\n",
       "      <td>0.0</td>\n",
       "      <td>0.00</td>\n",
       "      <td>0.0</td>\n",
       "      <td>1.00</td>\n",
       "      <td>2.0</td>\n",
       "    </tr>\n",
       "    <tr>\n",
       "      <th>potential_issue</th>\n",
       "      <td>0.0</td>\n",
       "      <td>0.00</td>\n",
       "      <td>0.0</td>\n",
       "      <td>0.00</td>\n",
       "      <td>0.0</td>\n",
       "    </tr>\n",
       "    <tr>\n",
       "      <th>pieces_past_due</th>\n",
       "      <td>0.0</td>\n",
       "      <td>0.00</td>\n",
       "      <td>0.0</td>\n",
       "      <td>0.00</td>\n",
       "      <td>0.0</td>\n",
       "    </tr>\n",
       "    <tr>\n",
       "      <th>perf_6_month_avg</th>\n",
       "      <td>-99.0</td>\n",
       "      <td>0.99</td>\n",
       "      <td>-99.0</td>\n",
       "      <td>0.10</td>\n",
       "      <td>-99.0</td>\n",
       "    </tr>\n",
       "    <tr>\n",
       "      <th>perf_12_month_avg</th>\n",
       "      <td>-99.0</td>\n",
       "      <td>0.99</td>\n",
       "      <td>-99.0</td>\n",
       "      <td>0.13</td>\n",
       "      <td>-99.0</td>\n",
       "    </tr>\n",
       "    <tr>\n",
       "      <th>local_bo_qty</th>\n",
       "      <td>0.0</td>\n",
       "      <td>0.00</td>\n",
       "      <td>0.0</td>\n",
       "      <td>0.00</td>\n",
       "      <td>0.0</td>\n",
       "    </tr>\n",
       "    <tr>\n",
       "      <th>deck_risk</th>\n",
       "      <td>0.0</td>\n",
       "      <td>0.00</td>\n",
       "      <td>1.0</td>\n",
       "      <td>0.00</td>\n",
       "      <td>1.0</td>\n",
       "    </tr>\n",
       "    <tr>\n",
       "      <th>oe_constraint</th>\n",
       "      <td>0.0</td>\n",
       "      <td>0.00</td>\n",
       "      <td>0.0</td>\n",
       "      <td>0.00</td>\n",
       "      <td>0.0</td>\n",
       "    </tr>\n",
       "    <tr>\n",
       "      <th>ppap_risk</th>\n",
       "      <td>0.0</td>\n",
       "      <td>0.00</td>\n",
       "      <td>0.0</td>\n",
       "      <td>0.00</td>\n",
       "      <td>0.0</td>\n",
       "    </tr>\n",
       "    <tr>\n",
       "      <th>stop_auto_buy</th>\n",
       "      <td>1.0</td>\n",
       "      <td>1.00</td>\n",
       "      <td>1.0</td>\n",
       "      <td>1.00</td>\n",
       "      <td>1.0</td>\n",
       "    </tr>\n",
       "    <tr>\n",
       "      <th>rev_stop</th>\n",
       "      <td>0.0</td>\n",
       "      <td>0.00</td>\n",
       "      <td>0.0</td>\n",
       "      <td>0.00</td>\n",
       "      <td>0.0</td>\n",
       "    </tr>\n",
       "    <tr>\n",
       "      <th>went_on_backorder</th>\n",
       "      <td>0.0</td>\n",
       "      <td>0.00</td>\n",
       "      <td>0.0</td>\n",
       "      <td>0.00</td>\n",
       "      <td>0.0</td>\n",
       "    </tr>\n",
       "  </tbody>\n",
       "</table>\n",
       "</div>"
      ],
      "text/plain": [
       "                           0           1          2           3          4\n",
       "sku                1026827.0  1043384.00  1043696.0  1043852.00  1044048.0\n",
       "national_inv             0.0        2.00        2.0        7.00        8.0\n",
       "lead_time                NaN        9.00        NaN        8.00        NaN\n",
       "in_transit_qty           0.0        0.00        0.0        0.00        0.0\n",
       "forecast_3_month         0.0        0.00        0.0        0.00        0.0\n",
       "forecast_6_month         0.0        0.00        0.0        0.00        0.0\n",
       "forecast_9_month         0.0        0.00        0.0        0.00        0.0\n",
       "sales_1_month            0.0        0.00        0.0        0.00        0.0\n",
       "sales_3_month            0.0        0.00        0.0        0.00        0.0\n",
       "sales_6_month            0.0        0.00        0.0        0.00        0.0\n",
       "sales_9_month            0.0        0.00        0.0        0.00        4.0\n",
       "min_bank                 0.0        0.00        0.0        1.00        2.0\n",
       "potential_issue          0.0        0.00        0.0        0.00        0.0\n",
       "pieces_past_due          0.0        0.00        0.0        0.00        0.0\n",
       "perf_6_month_avg       -99.0        0.99      -99.0        0.10      -99.0\n",
       "perf_12_month_avg      -99.0        0.99      -99.0        0.13      -99.0\n",
       "local_bo_qty             0.0        0.00        0.0        0.00        0.0\n",
       "deck_risk                0.0        0.00        1.0        0.00        1.0\n",
       "oe_constraint            0.0        0.00        0.0        0.00        0.0\n",
       "ppap_risk                0.0        0.00        0.0        0.00        0.0\n",
       "stop_auto_buy            1.0        1.00        1.0        1.00        1.0\n",
       "rev_stop                 0.0        0.00        0.0        0.00        0.0\n",
       "went_on_backorder        0.0        0.00        0.0        0.00        0.0"
      ]
     },
     "execution_count": 95,
     "metadata": {},
     "output_type": "execute_result"
    }
   ],
   "source": [
    "merged_data.head(5).transpose()"
   ]
  },
  {
   "cell_type": "code",
   "execution_count": 96,
   "metadata": {
    "collapsed": true
   },
   "outputs": [],
   "source": [
    "#remove rows with all NA's use pd.notnull\n",
    "#pd.notnull returns Array or bool indicating whether an object is not null or if an array\n",
    "#is given which of the element is not null.\n",
    "merged_data=merged_data[pd.notnull(merged_data['national_inv'])]\n",
    "#Change the -99 placeholder to NA for perf_6_month_avg and perf_12_month_avg\n",
    "merged_data['perf_6_month_avg']=merged_data['perf_6_month_avg'].replace(-99, np.NaN)\n",
    "merged_data['perf_12_month_avg']=merged_data['perf_12_month_avg'].replace(-99, np.NaN)"
   ]
  },
  {
   "cell_type": "code",
   "execution_count": 97,
   "metadata": {},
   "outputs": [
    {
     "data": {
      "text/html": [
       "<div>\n",
       "<style>\n",
       "    .dataframe thead tr:only-child th {\n",
       "        text-align: right;\n",
       "    }\n",
       "\n",
       "    .dataframe thead th {\n",
       "        text-align: left;\n",
       "    }\n",
       "\n",
       "    .dataframe tbody tr th {\n",
       "        vertical-align: top;\n",
       "    }\n",
       "</style>\n",
       "<table border=\"1\" class=\"dataframe\">\n",
       "  <thead>\n",
       "    <tr style=\"text-align: right;\">\n",
       "      <th></th>\n",
       "      <th>Missing</th>\n",
       "      <th>Percent</th>\n",
       "    </tr>\n",
       "  </thead>\n",
       "  <tbody>\n",
       "    <tr>\n",
       "      <th>perf_6_month_avg</th>\n",
       "      <td>148579</td>\n",
       "      <td>7.7</td>\n",
       "    </tr>\n",
       "    <tr>\n",
       "      <th>perf_12_month_avg</th>\n",
       "      <td>140025</td>\n",
       "      <td>7.3</td>\n",
       "    </tr>\n",
       "    <tr>\n",
       "      <th>lead_time</th>\n",
       "      <td>115617</td>\n",
       "      <td>6.0</td>\n",
       "    </tr>\n",
       "    <tr>\n",
       "      <th>went_on_backorder</th>\n",
       "      <td>0</td>\n",
       "      <td>0.0</td>\n",
       "    </tr>\n",
       "    <tr>\n",
       "      <th>sales_6_month</th>\n",
       "      <td>0</td>\n",
       "      <td>0.0</td>\n",
       "    </tr>\n",
       "    <tr>\n",
       "      <th>national_inv</th>\n",
       "      <td>0</td>\n",
       "      <td>0.0</td>\n",
       "    </tr>\n",
       "    <tr>\n",
       "      <th>in_transit_qty</th>\n",
       "      <td>0</td>\n",
       "      <td>0.0</td>\n",
       "    </tr>\n",
       "    <tr>\n",
       "      <th>forecast_3_month</th>\n",
       "      <td>0</td>\n",
       "      <td>0.0</td>\n",
       "    </tr>\n",
       "    <tr>\n",
       "      <th>forecast_6_month</th>\n",
       "      <td>0</td>\n",
       "      <td>0.0</td>\n",
       "    </tr>\n",
       "    <tr>\n",
       "      <th>forecast_9_month</th>\n",
       "      <td>0</td>\n",
       "      <td>0.0</td>\n",
       "    </tr>\n",
       "    <tr>\n",
       "      <th>sales_1_month</th>\n",
       "      <td>0</td>\n",
       "      <td>0.0</td>\n",
       "    </tr>\n",
       "    <tr>\n",
       "      <th>sales_3_month</th>\n",
       "      <td>0</td>\n",
       "      <td>0.0</td>\n",
       "    </tr>\n",
       "    <tr>\n",
       "      <th>min_bank</th>\n",
       "      <td>0</td>\n",
       "      <td>0.0</td>\n",
       "    </tr>\n",
       "    <tr>\n",
       "      <th>sales_9_month</th>\n",
       "      <td>0</td>\n",
       "      <td>0.0</td>\n",
       "    </tr>\n",
       "    <tr>\n",
       "      <th>rev_stop</th>\n",
       "      <td>0</td>\n",
       "      <td>0.0</td>\n",
       "    </tr>\n",
       "    <tr>\n",
       "      <th>potential_issue</th>\n",
       "      <td>0</td>\n",
       "      <td>0.0</td>\n",
       "    </tr>\n",
       "    <tr>\n",
       "      <th>pieces_past_due</th>\n",
       "      <td>0</td>\n",
       "      <td>0.0</td>\n",
       "    </tr>\n",
       "    <tr>\n",
       "      <th>local_bo_qty</th>\n",
       "      <td>0</td>\n",
       "      <td>0.0</td>\n",
       "    </tr>\n",
       "    <tr>\n",
       "      <th>deck_risk</th>\n",
       "      <td>0</td>\n",
       "      <td>0.0</td>\n",
       "    </tr>\n",
       "    <tr>\n",
       "      <th>oe_constraint</th>\n",
       "      <td>0</td>\n",
       "      <td>0.0</td>\n",
       "    </tr>\n",
       "    <tr>\n",
       "      <th>ppap_risk</th>\n",
       "      <td>0</td>\n",
       "      <td>0.0</td>\n",
       "    </tr>\n",
       "    <tr>\n",
       "      <th>stop_auto_buy</th>\n",
       "      <td>0</td>\n",
       "      <td>0.0</td>\n",
       "    </tr>\n",
       "    <tr>\n",
       "      <th>sku</th>\n",
       "      <td>0</td>\n",
       "      <td>0.0</td>\n",
       "    </tr>\n",
       "  </tbody>\n",
       "</table>\n",
       "</div>"
      ],
      "text/plain": [
       "                   Missing  Percent\n",
       "perf_6_month_avg    148579      7.7\n",
       "perf_12_month_avg   140025      7.3\n",
       "lead_time           115617      6.0\n",
       "went_on_backorder        0      0.0\n",
       "sales_6_month            0      0.0\n",
       "national_inv             0      0.0\n",
       "in_transit_qty           0      0.0\n",
       "forecast_3_month         0      0.0\n",
       "forecast_6_month         0      0.0\n",
       "forecast_9_month         0      0.0\n",
       "sales_1_month            0      0.0\n",
       "sales_3_month            0      0.0\n",
       "min_bank                 0      0.0\n",
       "sales_9_month            0      0.0\n",
       "rev_stop                 0      0.0\n",
       "potential_issue          0      0.0\n",
       "pieces_past_due          0      0.0\n",
       "local_bo_qty             0      0.0\n",
       "deck_risk                0      0.0\n",
       "oe_constraint            0      0.0\n",
       "ppap_risk                0      0.0\n",
       "stop_auto_buy            0      0.0\n",
       "sku                      0      0.0"
      ]
     },
     "execution_count": 97,
     "metadata": {},
     "output_type": "execute_result"
    }
   ],
   "source": [
    "#missing value analysis\n",
    "#View count/percentage of missing cells\n",
    "tot=merged_data.isnull().sum().sort_values(ascending=False)\n",
    "perc=(round(100*merged_data.isnull().sum()/merged_data.isnull().count(),1)).sort_values(ascending=False)\n",
    "missing_data = pd.concat([tot, perc], axis=1, keys=['Missing', 'Percent'])\n",
    "missing_data"
   ]
  },
  {
   "cell_type": "markdown",
   "metadata": {},
   "source": [
    "### Creating an indicator or a feature indicating missing value and statistics"
   ]
  },
  {
   "cell_type": "code",
   "execution_count": 98,
   "metadata": {},
   "outputs": [
    {
     "data": {
      "text/html": [
       "<div>\n",
       "<style>\n",
       "    .dataframe thead tr:only-child th {\n",
       "        text-align: right;\n",
       "    }\n",
       "\n",
       "    .dataframe thead th {\n",
       "        text-align: left;\n",
       "    }\n",
       "\n",
       "    .dataframe tbody tr th {\n",
       "        vertical-align: top;\n",
       "    }\n",
       "</style>\n",
       "<table border=\"1\" class=\"dataframe\">\n",
       "  <thead>\n",
       "    <tr style=\"text-align: right;\">\n",
       "      <th></th>\n",
       "      <th>deck_risk</th>\n",
       "      <th>oe_constraint</th>\n",
       "      <th>potential_issue</th>\n",
       "      <th>ppap_risk</th>\n",
       "      <th>rev_stop</th>\n",
       "      <th>stop_auto_buy</th>\n",
       "      <th>went_on_backorder</th>\n",
       "    </tr>\n",
       "    <tr>\n",
       "      <th>anymissing</th>\n",
       "      <th></th>\n",
       "      <th></th>\n",
       "      <th></th>\n",
       "      <th></th>\n",
       "      <th></th>\n",
       "      <th></th>\n",
       "      <th></th>\n",
       "    </tr>\n",
       "  </thead>\n",
       "  <tbody>\n",
       "    <tr>\n",
       "      <th>0</th>\n",
       "      <td>0.197284</td>\n",
       "      <td>0.000164</td>\n",
       "      <td>0.000539</td>\n",
       "      <td>0.116859</td>\n",
       "      <td>0.000237</td>\n",
       "      <td>0.976887</td>\n",
       "      <td>0.007538</td>\n",
       "    </tr>\n",
       "    <tr>\n",
       "      <th>1</th>\n",
       "      <td>0.565490</td>\n",
       "      <td>0.000000</td>\n",
       "      <td>0.000188</td>\n",
       "      <td>0.164115</td>\n",
       "      <td>0.002807</td>\n",
       "      <td>0.802321</td>\n",
       "      <td>0.003729</td>\n",
       "    </tr>\n",
       "  </tbody>\n",
       "</table>\n",
       "</div>"
      ],
      "text/plain": [
       "            deck_risk  oe_constraint  potential_issue  ppap_risk  rev_stop  \\\n",
       "anymissing                                                                   \n",
       "0            0.197284       0.000164         0.000539   0.116859  0.000237   \n",
       "1            0.565490       0.000000         0.000188   0.164115  0.002807   \n",
       "\n",
       "            stop_auto_buy  went_on_backorder  \n",
       "anymissing                                    \n",
       "0                0.976887           0.007538  \n",
       "1                0.802321           0.003729  "
      ]
     },
     "execution_count": 98,
     "metadata": {},
     "output_type": "execute_result"
    }
   ],
   "source": [
    "#create a variable for any missing data\n",
    "merged_data['anymissing']=(  pd.isnull(merged_data['perf_6_month_avg'] ) | \n",
    "                        pd.isnull(merged_data['perf_12_month_avg'] ) | \n",
    "                        pd.isnull(merged_data['lead_time'] ) ).astype(int) \n",
    "\n",
    "'''\n",
    "Compare complete data to data with any missing variables\n",
    "Means of quantitative variables\n",
    "Proportions of categorical variables\n",
    "'''\n",
    "merged_data.pivot_table(values=(quantvars),index=['anymissing'])\n",
    "merged_data.pivot_table(values=(catvars),index=['anymissing'])"
   ]
  },
  {
   "cell_type": "markdown",
   "metadata": {},
   "source": [
    "## 2.4 Imputation\n",
    "### Common Imputed Methods\n",
    "Imputing the missing value with median"
   ]
  },
  {
   "cell_type": "code",
   "execution_count": 99,
   "metadata": {
    "collapsed": true
   },
   "outputs": [],
   "source": [
    "merged_data=merged_data.fillna(merged_data.median(), inplace=True)"
   ]
  },
  {
   "cell_type": "code",
   "execution_count": 100,
   "metadata": {},
   "outputs": [
    {
     "data": {
      "text/plain": [
       "sku                  0.0\n",
       "national_inv         0.0\n",
       "lead_time            0.0\n",
       "in_transit_qty       0.0\n",
       "forecast_3_month     0.0\n",
       "forecast_6_month     0.0\n",
       "forecast_9_month     0.0\n",
       "sales_1_month        0.0\n",
       "sales_3_month        0.0\n",
       "sales_6_month        0.0\n",
       "sales_9_month        0.0\n",
       "min_bank             0.0\n",
       "potential_issue      0.0\n",
       "pieces_past_due      0.0\n",
       "perf_6_month_avg     0.0\n",
       "perf_12_month_avg    0.0\n",
       "local_bo_qty         0.0\n",
       "deck_risk            0.0\n",
       "oe_constraint        0.0\n",
       "ppap_risk            0.0\n",
       "stop_auto_buy        0.0\n",
       "rev_stop             0.0\n",
       "went_on_backorder    0.0\n",
       "anymissing           0.0\n",
       "dtype: float64"
      ]
     },
     "execution_count": 100,
     "metadata": {},
     "output_type": "execute_result"
    }
   ],
   "source": [
    "#Missing value\n",
    "((merged_data.isnull().sum())/merged_data.shape[0])*100"
   ]
  },
  {
   "cell_type": "markdown",
   "metadata": {
    "_cell_guid": "f2aad3d4-e4cf-4fb4-be30-ca3133fc3ebf",
    "_uuid": "030b4c8255d619d9b51fd2c959b6e82be2eaa4fd"
   },
   "source": [
    "## 2.2 Target Variable Analysis"
   ]
  },
  {
   "cell_type": "code",
   "execution_count": 101,
   "metadata": {
    "_cell_guid": "7da6dc57-182f-492f-aef5-e1454dca0756",
    "_uuid": "66d64e1ab86a8b7d8498b1fc2c5f7df5572ee3b0"
   },
   "outputs": [
    {
     "data": {
      "text/plain": [
       "0    1915954\n",
       "1      13981\n",
       "Name: went_on_backorder, dtype: int64"
      ]
     },
     "execution_count": 101,
     "metadata": {},
     "output_type": "execute_result"
    }
   ],
   "source": [
    "merged_data['went_on_backorder'].value_counts()"
   ]
  },
  {
   "cell_type": "markdown",
   "metadata": {},
   "source": [
    "<B>Removing categorical variable which are not useful for analysis or which i have selected using RFE"
   ]
  },
  {
   "cell_type": "markdown",
   "metadata": {},
   "source": [
    "Final_training data after SELECTING useful categorical feature \n",
    "\n",
    "#1.potential_issue\n",
    "\n",
    "#2.deck_risk\n",
    "\n",
    "#3.ppap_risk\n",
    "\n",
    "#4.stop_auto_buy"
   ]
  },
  {
   "cell_type": "code",
   "execution_count": 102,
   "metadata": {
    "collapsed": true
   },
   "outputs": [],
   "source": [
    "#Dropping the column not useful for analysis\n",
    "Redundant_columns=['sku',\n",
    "            'oe_constraint',\n",
    "            'rev_stop',]\n",
    "merged_data=merged_data.drop(Redundant_columns,axis=1)"
   ]
  },
  {
   "cell_type": "code",
   "execution_count": 103,
   "metadata": {},
   "outputs": [
    {
     "data": {
      "text/plain": [
       "national_inv         float64\n",
       "lead_time            float64\n",
       "in_transit_qty       float64\n",
       "forecast_3_month     float64\n",
       "forecast_6_month     float64\n",
       "forecast_9_month     float64\n",
       "sales_1_month        float64\n",
       "sales_3_month        float64\n",
       "sales_6_month        float64\n",
       "sales_9_month        float64\n",
       "min_bank             float64\n",
       "potential_issue        int64\n",
       "pieces_past_due      float64\n",
       "perf_6_month_avg     float64\n",
       "perf_12_month_avg    float64\n",
       "local_bo_qty         float64\n",
       "deck_risk              int64\n",
       "ppap_risk              int64\n",
       "stop_auto_buy          int64\n",
       "went_on_backorder      int64\n",
       "anymissing             int32\n",
       "dtype: object"
      ]
     },
     "execution_count": 103,
     "metadata": {},
     "output_type": "execute_result"
    }
   ],
   "source": [
    "merged_data.dtypes"
   ]
  },
  {
   "cell_type": "markdown",
   "metadata": {},
   "source": [
    "<h4>Continuous Variable  Analysis"
   ]
  },
  {
   "cell_type": "markdown",
   "metadata": {},
   "source": [
    "<b>Correlation analysis continuous variables</b>"
   ]
  },
  {
   "cell_type": "code",
   "execution_count": 104,
   "metadata": {
    "collapsed": true
   },
   "outputs": [],
   "source": [
    "quantvars=['national_inv',\n",
    "           'lead_time',\n",
    "           'in_transit_qty',\n",
    "           'forecast_3_month',\n",
    "           'forecast_6_month',\n",
    "           'forecast_9_month',\n",
    "           'sales_1_month',\n",
    "           'sales_3_month',\n",
    "           'sales_6_month',\n",
    "           'sales_9_month',\n",
    "           'min_bank',\n",
    "           'pieces_past_due',\n",
    "           'perf_6_month_avg',\n",
    "           'perf_12_month_avg',\n",
    "           'local_bo_qty']\n",
    "continuos_variable=pd.DataFrame(merged_data,columns=quantvars)"
   ]
  },
  {
   "cell_type": "code",
   "execution_count": 105,
   "metadata": {},
   "outputs": [
    {
     "data": {
      "text/html": [
       "<div>\n",
       "<style>\n",
       "    .dataframe thead tr:only-child th {\n",
       "        text-align: right;\n",
       "    }\n",
       "\n",
       "    .dataframe thead th {\n",
       "        text-align: left;\n",
       "    }\n",
       "\n",
       "    .dataframe tbody tr th {\n",
       "        vertical-align: top;\n",
       "    }\n",
       "</style>\n",
       "<table border=\"1\" class=\"dataframe\">\n",
       "  <thead>\n",
       "    <tr style=\"text-align: right;\">\n",
       "      <th></th>\n",
       "      <th>national_inv</th>\n",
       "      <th>lead_time</th>\n",
       "      <th>in_transit_qty</th>\n",
       "      <th>forecast_3_month</th>\n",
       "      <th>forecast_6_month</th>\n",
       "      <th>forecast_9_month</th>\n",
       "      <th>sales_1_month</th>\n",
       "      <th>sales_3_month</th>\n",
       "      <th>sales_6_month</th>\n",
       "      <th>sales_9_month</th>\n",
       "      <th>min_bank</th>\n",
       "      <th>pieces_past_due</th>\n",
       "      <th>perf_6_month_avg</th>\n",
       "      <th>perf_12_month_avg</th>\n",
       "      <th>local_bo_qty</th>\n",
       "    </tr>\n",
       "  </thead>\n",
       "  <tbody>\n",
       "    <tr>\n",
       "      <th>national_inv</th>\n",
       "      <td>1.000000</td>\n",
       "      <td>0.003327</td>\n",
       "      <td>0.098473</td>\n",
       "      <td>0.080034</td>\n",
       "      <td>0.081328</td>\n",
       "      <td>0.080423</td>\n",
       "      <td>0.155753</td>\n",
       "      <td>0.191604</td>\n",
       "      <td>0.224305</td>\n",
       "      <td>0.239924</td>\n",
       "      <td>0.405298</td>\n",
       "      <td>0.030307</td>\n",
       "      <td>0.003901</td>\n",
       "      <td>0.002719</td>\n",
       "      <td>0.012814</td>\n",
       "    </tr>\n",
       "    <tr>\n",
       "      <th>lead_time</th>\n",
       "      <td>0.003327</td>\n",
       "      <td>1.000000</td>\n",
       "      <td>-0.006929</td>\n",
       "      <td>-0.007927</td>\n",
       "      <td>-0.008506</td>\n",
       "      <td>-0.008767</td>\n",
       "      <td>-0.005748</td>\n",
       "      <td>-0.006739</td>\n",
       "      <td>-0.007131</td>\n",
       "      <td>-0.007274</td>\n",
       "      <td>-0.007075</td>\n",
       "      <td>-0.001563</td>\n",
       "      <td>-0.006952</td>\n",
       "      <td>-0.005070</td>\n",
       "      <td>-0.001578</td>\n",
       "    </tr>\n",
       "    <tr>\n",
       "      <th>in_transit_qty</th>\n",
       "      <td>0.098473</td>\n",
       "      <td>-0.006929</td>\n",
       "      <td>1.000000</td>\n",
       "      <td>0.638241</td>\n",
       "      <td>0.667614</td>\n",
       "      <td>0.661650</td>\n",
       "      <td>0.622062</td>\n",
       "      <td>0.687824</td>\n",
       "      <td>0.676524</td>\n",
       "      <td>0.645470</td>\n",
       "      <td>0.742187</td>\n",
       "      <td>0.161349</td>\n",
       "      <td>0.004295</td>\n",
       "      <td>0.001414</td>\n",
       "      <td>0.063223</td>\n",
       "    </tr>\n",
       "    <tr>\n",
       "      <th>forecast_3_month</th>\n",
       "      <td>0.080034</td>\n",
       "      <td>-0.007927</td>\n",
       "      <td>0.638241</td>\n",
       "      <td>1.000000</td>\n",
       "      <td>0.988112</td>\n",
       "      <td>0.971443</td>\n",
       "      <td>0.688490</td>\n",
       "      <td>0.764681</td>\n",
       "      <td>0.817126</td>\n",
       "      <td>0.809634</td>\n",
       "      <td>0.719626</td>\n",
       "      <td>0.359632</td>\n",
       "      <td>0.006065</td>\n",
       "      <td>0.002964</td>\n",
       "      <td>0.043872</td>\n",
       "    </tr>\n",
       "    <tr>\n",
       "      <th>forecast_6_month</th>\n",
       "      <td>0.081328</td>\n",
       "      <td>-0.008506</td>\n",
       "      <td>0.667614</td>\n",
       "      <td>0.988112</td>\n",
       "      <td>1.000000</td>\n",
       "      <td>0.994281</td>\n",
       "      <td>0.709730</td>\n",
       "      <td>0.799705</td>\n",
       "      <td>0.858822</td>\n",
       "      <td>0.852034</td>\n",
       "      <td>0.736929</td>\n",
       "      <td>0.367494</td>\n",
       "      <td>0.006899</td>\n",
       "      <td>0.003348</td>\n",
       "      <td>0.044063</td>\n",
       "    </tr>\n",
       "    <tr>\n",
       "      <th>forecast_9_month</th>\n",
       "      <td>0.080423</td>\n",
       "      <td>-0.008767</td>\n",
       "      <td>0.661650</td>\n",
       "      <td>0.971443</td>\n",
       "      <td>0.994281</td>\n",
       "      <td>1.000000</td>\n",
       "      <td>0.725149</td>\n",
       "      <td>0.823402</td>\n",
       "      <td>0.885969</td>\n",
       "      <td>0.879327</td>\n",
       "      <td>0.735548</td>\n",
       "      <td>0.373258</td>\n",
       "      <td>0.007231</td>\n",
       "      <td>0.003430</td>\n",
       "      <td>0.044010</td>\n",
       "    </tr>\n",
       "    <tr>\n",
       "      <th>sales_1_month</th>\n",
       "      <td>0.155753</td>\n",
       "      <td>-0.005748</td>\n",
       "      <td>0.622062</td>\n",
       "      <td>0.688490</td>\n",
       "      <td>0.709730</td>\n",
       "      <td>0.725149</td>\n",
       "      <td>1.000000</td>\n",
       "      <td>0.918282</td>\n",
       "      <td>0.873111</td>\n",
       "      <td>0.824634</td>\n",
       "      <td>0.769847</td>\n",
       "      <td>0.260607</td>\n",
       "      <td>0.006328</td>\n",
       "      <td>0.002052</td>\n",
       "      <td>0.065749</td>\n",
       "    </tr>\n",
       "    <tr>\n",
       "      <th>sales_3_month</th>\n",
       "      <td>0.191604</td>\n",
       "      <td>-0.006739</td>\n",
       "      <td>0.687824</td>\n",
       "      <td>0.764681</td>\n",
       "      <td>0.799705</td>\n",
       "      <td>0.823402</td>\n",
       "      <td>0.918282</td>\n",
       "      <td>1.000000</td>\n",
       "      <td>0.975437</td>\n",
       "      <td>0.930531</td>\n",
       "      <td>0.854285</td>\n",
       "      <td>0.314536</td>\n",
       "      <td>0.006882</td>\n",
       "      <td>0.002056</td>\n",
       "      <td>0.068080</td>\n",
       "    </tr>\n",
       "    <tr>\n",
       "      <th>sales_6_month</th>\n",
       "      <td>0.224305</td>\n",
       "      <td>-0.007131</td>\n",
       "      <td>0.676524</td>\n",
       "      <td>0.817126</td>\n",
       "      <td>0.858822</td>\n",
       "      <td>0.885969</td>\n",
       "      <td>0.873111</td>\n",
       "      <td>0.975437</td>\n",
       "      <td>1.000000</td>\n",
       "      <td>0.973871</td>\n",
       "      <td>0.838836</td>\n",
       "      <td>0.334398</td>\n",
       "      <td>0.006958</td>\n",
       "      <td>0.001831</td>\n",
       "      <td>0.056219</td>\n",
       "    </tr>\n",
       "    <tr>\n",
       "      <th>sales_9_month</th>\n",
       "      <td>0.239924</td>\n",
       "      <td>-0.007274</td>\n",
       "      <td>0.645470</td>\n",
       "      <td>0.809634</td>\n",
       "      <td>0.852034</td>\n",
       "      <td>0.879327</td>\n",
       "      <td>0.824634</td>\n",
       "      <td>0.930531</td>\n",
       "      <td>0.973871</td>\n",
       "      <td>1.000000</td>\n",
       "      <td>0.804336</td>\n",
       "      <td>0.329906</td>\n",
       "      <td>0.007207</td>\n",
       "      <td>0.002144</td>\n",
       "      <td>0.048616</td>\n",
       "    </tr>\n",
       "    <tr>\n",
       "      <th>min_bank</th>\n",
       "      <td>0.405298</td>\n",
       "      <td>-0.007075</td>\n",
       "      <td>0.742187</td>\n",
       "      <td>0.719626</td>\n",
       "      <td>0.736929</td>\n",
       "      <td>0.735548</td>\n",
       "      <td>0.769847</td>\n",
       "      <td>0.854285</td>\n",
       "      <td>0.838836</td>\n",
       "      <td>0.804336</td>\n",
       "      <td>1.000000</td>\n",
       "      <td>0.262834</td>\n",
       "      <td>0.010274</td>\n",
       "      <td>0.006007</td>\n",
       "      <td>0.071582</td>\n",
       "    </tr>\n",
       "    <tr>\n",
       "      <th>pieces_past_due</th>\n",
       "      <td>0.030307</td>\n",
       "      <td>-0.001563</td>\n",
       "      <td>0.161349</td>\n",
       "      <td>0.359632</td>\n",
       "      <td>0.367494</td>\n",
       "      <td>0.373258</td>\n",
       "      <td>0.260607</td>\n",
       "      <td>0.314536</td>\n",
       "      <td>0.334398</td>\n",
       "      <td>0.329906</td>\n",
       "      <td>0.262834</td>\n",
       "      <td>1.000000</td>\n",
       "      <td>-0.004457</td>\n",
       "      <td>-0.004782</td>\n",
       "      <td>0.009388</td>\n",
       "    </tr>\n",
       "    <tr>\n",
       "      <th>perf_6_month_avg</th>\n",
       "      <td>0.003901</td>\n",
       "      <td>-0.006952</td>\n",
       "      <td>0.004295</td>\n",
       "      <td>0.006065</td>\n",
       "      <td>0.006899</td>\n",
       "      <td>0.007231</td>\n",
       "      <td>0.006328</td>\n",
       "      <td>0.006882</td>\n",
       "      <td>0.006958</td>\n",
       "      <td>0.007207</td>\n",
       "      <td>0.010274</td>\n",
       "      <td>-0.004457</td>\n",
       "      <td>1.000000</td>\n",
       "      <td>0.929576</td>\n",
       "      <td>0.002165</td>\n",
       "    </tr>\n",
       "    <tr>\n",
       "      <th>perf_12_month_avg</th>\n",
       "      <td>0.002719</td>\n",
       "      <td>-0.005070</td>\n",
       "      <td>0.001414</td>\n",
       "      <td>0.002964</td>\n",
       "      <td>0.003348</td>\n",
       "      <td>0.003430</td>\n",
       "      <td>0.002052</td>\n",
       "      <td>0.002056</td>\n",
       "      <td>0.001831</td>\n",
       "      <td>0.002144</td>\n",
       "      <td>0.006007</td>\n",
       "      <td>-0.004782</td>\n",
       "      <td>0.929576</td>\n",
       "      <td>1.000000</td>\n",
       "      <td>0.001583</td>\n",
       "    </tr>\n",
       "    <tr>\n",
       "      <th>local_bo_qty</th>\n",
       "      <td>0.012814</td>\n",
       "      <td>-0.001578</td>\n",
       "      <td>0.063223</td>\n",
       "      <td>0.043872</td>\n",
       "      <td>0.044063</td>\n",
       "      <td>0.044010</td>\n",
       "      <td>0.065749</td>\n",
       "      <td>0.068080</td>\n",
       "      <td>0.056219</td>\n",
       "      <td>0.048616</td>\n",
       "      <td>0.071582</td>\n",
       "      <td>0.009388</td>\n",
       "      <td>0.002165</td>\n",
       "      <td>0.001583</td>\n",
       "      <td>1.000000</td>\n",
       "    </tr>\n",
       "  </tbody>\n",
       "</table>\n",
       "</div>"
      ],
      "text/plain": [
       "                   national_inv  lead_time  in_transit_qty  forecast_3_month  \\\n",
       "national_inv           1.000000   0.003327        0.098473          0.080034   \n",
       "lead_time              0.003327   1.000000       -0.006929         -0.007927   \n",
       "in_transit_qty         0.098473  -0.006929        1.000000          0.638241   \n",
       "forecast_3_month       0.080034  -0.007927        0.638241          1.000000   \n",
       "forecast_6_month       0.081328  -0.008506        0.667614          0.988112   \n",
       "forecast_9_month       0.080423  -0.008767        0.661650          0.971443   \n",
       "sales_1_month          0.155753  -0.005748        0.622062          0.688490   \n",
       "sales_3_month          0.191604  -0.006739        0.687824          0.764681   \n",
       "sales_6_month          0.224305  -0.007131        0.676524          0.817126   \n",
       "sales_9_month          0.239924  -0.007274        0.645470          0.809634   \n",
       "min_bank               0.405298  -0.007075        0.742187          0.719626   \n",
       "pieces_past_due        0.030307  -0.001563        0.161349          0.359632   \n",
       "perf_6_month_avg       0.003901  -0.006952        0.004295          0.006065   \n",
       "perf_12_month_avg      0.002719  -0.005070        0.001414          0.002964   \n",
       "local_bo_qty           0.012814  -0.001578        0.063223          0.043872   \n",
       "\n",
       "                   forecast_6_month  forecast_9_month  sales_1_month  \\\n",
       "national_inv               0.081328          0.080423       0.155753   \n",
       "lead_time                 -0.008506         -0.008767      -0.005748   \n",
       "in_transit_qty             0.667614          0.661650       0.622062   \n",
       "forecast_3_month           0.988112          0.971443       0.688490   \n",
       "forecast_6_month           1.000000          0.994281       0.709730   \n",
       "forecast_9_month           0.994281          1.000000       0.725149   \n",
       "sales_1_month              0.709730          0.725149       1.000000   \n",
       "sales_3_month              0.799705          0.823402       0.918282   \n",
       "sales_6_month              0.858822          0.885969       0.873111   \n",
       "sales_9_month              0.852034          0.879327       0.824634   \n",
       "min_bank                   0.736929          0.735548       0.769847   \n",
       "pieces_past_due            0.367494          0.373258       0.260607   \n",
       "perf_6_month_avg           0.006899          0.007231       0.006328   \n",
       "perf_12_month_avg          0.003348          0.003430       0.002052   \n",
       "local_bo_qty               0.044063          0.044010       0.065749   \n",
       "\n",
       "                   sales_3_month  sales_6_month  sales_9_month  min_bank  \\\n",
       "national_inv            0.191604       0.224305       0.239924  0.405298   \n",
       "lead_time              -0.006739      -0.007131      -0.007274 -0.007075   \n",
       "in_transit_qty          0.687824       0.676524       0.645470  0.742187   \n",
       "forecast_3_month        0.764681       0.817126       0.809634  0.719626   \n",
       "forecast_6_month        0.799705       0.858822       0.852034  0.736929   \n",
       "forecast_9_month        0.823402       0.885969       0.879327  0.735548   \n",
       "sales_1_month           0.918282       0.873111       0.824634  0.769847   \n",
       "sales_3_month           1.000000       0.975437       0.930531  0.854285   \n",
       "sales_6_month           0.975437       1.000000       0.973871  0.838836   \n",
       "sales_9_month           0.930531       0.973871       1.000000  0.804336   \n",
       "min_bank                0.854285       0.838836       0.804336  1.000000   \n",
       "pieces_past_due         0.314536       0.334398       0.329906  0.262834   \n",
       "perf_6_month_avg        0.006882       0.006958       0.007207  0.010274   \n",
       "perf_12_month_avg       0.002056       0.001831       0.002144  0.006007   \n",
       "local_bo_qty            0.068080       0.056219       0.048616  0.071582   \n",
       "\n",
       "                   pieces_past_due  perf_6_month_avg  perf_12_month_avg  \\\n",
       "national_inv              0.030307          0.003901           0.002719   \n",
       "lead_time                -0.001563         -0.006952          -0.005070   \n",
       "in_transit_qty            0.161349          0.004295           0.001414   \n",
       "forecast_3_month          0.359632          0.006065           0.002964   \n",
       "forecast_6_month          0.367494          0.006899           0.003348   \n",
       "forecast_9_month          0.373258          0.007231           0.003430   \n",
       "sales_1_month             0.260607          0.006328           0.002052   \n",
       "sales_3_month             0.314536          0.006882           0.002056   \n",
       "sales_6_month             0.334398          0.006958           0.001831   \n",
       "sales_9_month             0.329906          0.007207           0.002144   \n",
       "min_bank                  0.262834          0.010274           0.006007   \n",
       "pieces_past_due           1.000000         -0.004457          -0.004782   \n",
       "perf_6_month_avg         -0.004457          1.000000           0.929576   \n",
       "perf_12_month_avg        -0.004782          0.929576           1.000000   \n",
       "local_bo_qty              0.009388          0.002165           0.001583   \n",
       "\n",
       "                   local_bo_qty  \n",
       "national_inv           0.012814  \n",
       "lead_time             -0.001578  \n",
       "in_transit_qty         0.063223  \n",
       "forecast_3_month       0.043872  \n",
       "forecast_6_month       0.044063  \n",
       "forecast_9_month       0.044010  \n",
       "sales_1_month          0.065749  \n",
       "sales_3_month          0.068080  \n",
       "sales_6_month          0.056219  \n",
       "sales_9_month          0.048616  \n",
       "min_bank               0.071582  \n",
       "pieces_past_due        0.009388  \n",
       "perf_6_month_avg       0.002165  \n",
       "perf_12_month_avg      0.001583  \n",
       "local_bo_qty           1.000000  "
      ]
     },
     "execution_count": 105,
     "metadata": {},
     "output_type": "execute_result"
    }
   ],
   "source": [
    "continuos_variable.corr()"
   ]
  },
  {
   "cell_type": "code",
   "execution_count": 106,
   "metadata": {},
   "outputs": [
    {
     "data": {
      "image/png": "[encoded data removed]",
      "text/plain": [
       "<matplotlib.figure.Figure at 0x2200b62b38>"
      ]
     },
     "metadata": {},
     "output_type": "display_data"
    }
   ],
   "source": [
    "#Correlation table\n",
    "plt.matshow(continuos_variable.corr())\n",
    "plt.show()"
   ]
  },
  {
   "cell_type": "markdown",
   "metadata": {},
   "source": [
    "<b>From Correlation table we find that</b><br>\n",
    "Feature forecast_3_month,forecast_6_month,forecast_9_month are highly correlated<br>\n",
    "perf_6_month_avg,perf_12_month_avg are highly correlated<br>\n",
    "sales_1_month,sales_3_month,sales_6_month,sales_9_month are correlated<br>\n"
   ]
  },
  {
   "cell_type": "markdown",
   "metadata": {},
   "source": [
    "<b>Colinearity</b> is the state where two variables are highly correlated and contain similiar information about the variance within a given dataset. To detect colinearity among variables, simply create a correlation matrix and find variables with large absolute values. In python this can by accomplished by using numpy's corrcoef function.<br>\n",
    "\n",
    "Multicolinearity on the other hand is more troublesome to detect because it emerges when three or more variables, which are highly correlated, are included within a model. To make matters worst multicolinearity can emerge even when isolated pairs of variables are not colinear.<br>\n",
    "\n",
    "A common R function used for testing regression assumptions and specifically multicolinearity is \"VIF()\" and unlike many statistical concepts, its formula is straightforward:<br>\n",
    "\n",
    "V.I.F. = 1 / (1 - R^2)<br>\n",
    "\n",
    "The <b>Variance Inflation Factor (VIF)</b> is a measure of colinearity among predictor variables within a multiple regression. It is calculated by taking the the ratio of the variance of all a given model's betas divide by the variane of a single beta if it were fit alone."
   ]
  },
  {
   "cell_type": "code",
   "execution_count": 107,
   "metadata": {
    "collapsed": true
   },
   "outputs": [],
   "source": [
    "#variance_inflation_factor\n",
    "from statsmodels.stats.outliers_influence import variance_inflation_factor\n",
    "vif = pd.DataFrame()\n",
    "vif[\"VIF Factor\"] = [variance_inflation_factor(continuos_variable.values, i) for i in range(continuos_variable.shape[1])]\n",
    "vif[\"features\"] = continuos_variable.columns"
   ]
  },
  {
   "cell_type": "code",
   "execution_count": 108,
   "metadata": {},
   "outputs": [
    {
     "data": {
      "text/html": [
       "<div>\n",
       "<style>\n",
       "    .dataframe thead tr:only-child th {\n",
       "        text-align: right;\n",
       "    }\n",
       "\n",
       "    .dataframe thead th {\n",
       "        text-align: left;\n",
       "    }\n",
       "\n",
       "    .dataframe tbody tr th {\n",
       "        vertical-align: top;\n",
       "    }\n",
       "</style>\n",
       "<table border=\"1\" class=\"dataframe\">\n",
       "  <thead>\n",
       "    <tr style=\"text-align: right;\">\n",
       "      <th></th>\n",
       "      <th>VIF Factor</th>\n",
       "      <th>features</th>\n",
       "    </tr>\n",
       "  </thead>\n",
       "  <tbody>\n",
       "    <tr>\n",
       "      <th>0</th>\n",
       "      <td>1.845352</td>\n",
       "      <td>national_inv</td>\n",
       "    </tr>\n",
       "    <tr>\n",
       "      <th>1</th>\n",
       "      <td>2.114718</td>\n",
       "      <td>lead_time</td>\n",
       "    </tr>\n",
       "    <tr>\n",
       "      <th>2</th>\n",
       "      <td>2.866972</td>\n",
       "      <td>in_transit_qty</td>\n",
       "    </tr>\n",
       "    <tr>\n",
       "      <th>3</th>\n",
       "      <td>87.633362</td>\n",
       "      <td>forecast_3_month</td>\n",
       "    </tr>\n",
       "    <tr>\n",
       "      <th>4</th>\n",
       "      <td>492.922128</td>\n",
       "      <td>forecast_6_month</td>\n",
       "    </tr>\n",
       "    <tr>\n",
       "      <th>5</th>\n",
       "      <td>275.176237</td>\n",
       "      <td>forecast_9_month</td>\n",
       "    </tr>\n",
       "    <tr>\n",
       "      <th>6</th>\n",
       "      <td>7.096840</td>\n",
       "      <td>sales_1_month</td>\n",
       "    </tr>\n",
       "    <tr>\n",
       "      <th>7</th>\n",
       "      <td>55.142726</td>\n",
       "      <td>sales_3_month</td>\n",
       "    </tr>\n",
       "    <tr>\n",
       "      <th>8</th>\n",
       "      <td>101.114513</td>\n",
       "      <td>sales_6_month</td>\n",
       "    </tr>\n",
       "    <tr>\n",
       "      <th>9</th>\n",
       "      <td>22.944864</td>\n",
       "      <td>sales_9_month</td>\n",
       "    </tr>\n",
       "    <tr>\n",
       "      <th>10</th>\n",
       "      <td>7.226252</td>\n",
       "      <td>min_bank</td>\n",
       "    </tr>\n",
       "    <tr>\n",
       "      <th>11</th>\n",
       "      <td>1.190187</td>\n",
       "      <td>pieces_past_due</td>\n",
       "    </tr>\n",
       "    <tr>\n",
       "      <th>12</th>\n",
       "      <td>93.014529</td>\n",
       "      <td>perf_6_month_avg</td>\n",
       "    </tr>\n",
       "    <tr>\n",
       "      <th>13</th>\n",
       "      <td>93.401400</td>\n",
       "      <td>perf_12_month_avg</td>\n",
       "    </tr>\n",
       "    <tr>\n",
       "      <th>14</th>\n",
       "      <td>1.008413</td>\n",
       "      <td>local_bo_qty</td>\n",
       "    </tr>\n",
       "  </tbody>\n",
       "</table>\n",
       "</div>"
      ],
      "text/plain": [
       "    VIF Factor           features\n",
       "0     1.845352       national_inv\n",
       "1     2.114718          lead_time\n",
       "2     2.866972     in_transit_qty\n",
       "3    87.633362   forecast_3_month\n",
       "4   492.922128   forecast_6_month\n",
       "5   275.176237   forecast_9_month\n",
       "6     7.096840      sales_1_month\n",
       "7    55.142726      sales_3_month\n",
       "8   101.114513      sales_6_month\n",
       "9    22.944864      sales_9_month\n",
       "10    7.226252           min_bank\n",
       "11    1.190187    pieces_past_due\n",
       "12   93.014529   perf_6_month_avg\n",
       "13   93.401400  perf_12_month_avg\n",
       "14    1.008413       local_bo_qty"
      ]
     },
     "execution_count": 108,
     "metadata": {},
     "output_type": "execute_result"
    }
   ],
   "source": [
    "vif "
   ]
  },
  {
   "cell_type": "code",
   "execution_count": 109,
   "metadata": {
    "collapsed": true
   },
   "outputs": [],
   "source": [
    "#Removing perf_12_month_avg\n",
    "continuos_variable_1=continuos_variable.drop(['perf_12_month_avg'],axis=1)\n",
    "vif_1 = pd.DataFrame()\n",
    "vif_1[\"VIF Factor\"] = [variance_inflation_factor(continuos_variable_1.values, i) for i in range(continuos_variable_1.shape[1])]\n",
    "vif_1[\"features\"] = continuos_variable_1.columns"
   ]
  },
  {
   "cell_type": "code",
   "execution_count": 110,
   "metadata": {},
   "outputs": [
    {
     "data": {
      "text/html": [
       "<div>\n",
       "<style>\n",
       "    .dataframe thead tr:only-child th {\n",
       "        text-align: right;\n",
       "    }\n",
       "\n",
       "    .dataframe thead th {\n",
       "        text-align: left;\n",
       "    }\n",
       "\n",
       "    .dataframe tbody tr th {\n",
       "        vertical-align: top;\n",
       "    }\n",
       "</style>\n",
       "<table border=\"1\" class=\"dataframe\">\n",
       "  <thead>\n",
       "    <tr style=\"text-align: right;\">\n",
       "      <th></th>\n",
       "      <th>VIF Factor</th>\n",
       "      <th>features</th>\n",
       "    </tr>\n",
       "  </thead>\n",
       "  <tbody>\n",
       "    <tr>\n",
       "      <th>0</th>\n",
       "      <td>1.845335</td>\n",
       "      <td>national_inv</td>\n",
       "    </tr>\n",
       "    <tr>\n",
       "      <th>1</th>\n",
       "      <td>2.103110</td>\n",
       "      <td>lead_time</td>\n",
       "    </tr>\n",
       "    <tr>\n",
       "      <th>2</th>\n",
       "      <td>2.866946</td>\n",
       "      <td>in_transit_qty</td>\n",
       "    </tr>\n",
       "    <tr>\n",
       "      <th>3</th>\n",
       "      <td>87.632253</td>\n",
       "      <td>forecast_3_month</td>\n",
       "    </tr>\n",
       "    <tr>\n",
       "      <th>4</th>\n",
       "      <td>492.917385</td>\n",
       "      <td>forecast_6_month</td>\n",
       "    </tr>\n",
       "    <tr>\n",
       "      <th>5</th>\n",
       "      <td>275.173623</td>\n",
       "      <td>forecast_9_month</td>\n",
       "    </tr>\n",
       "    <tr>\n",
       "      <th>6</th>\n",
       "      <td>7.096836</td>\n",
       "      <td>sales_1_month</td>\n",
       "    </tr>\n",
       "    <tr>\n",
       "      <th>7</th>\n",
       "      <td>55.142069</td>\n",
       "      <td>sales_3_month</td>\n",
       "    </tr>\n",
       "    <tr>\n",
       "      <th>8</th>\n",
       "      <td>101.112074</td>\n",
       "      <td>sales_6_month</td>\n",
       "    </tr>\n",
       "    <tr>\n",
       "      <th>9</th>\n",
       "      <td>22.944864</td>\n",
       "      <td>sales_9_month</td>\n",
       "    </tr>\n",
       "    <tr>\n",
       "      <th>10</th>\n",
       "      <td>7.226231</td>\n",
       "      <td>min_bank</td>\n",
       "    </tr>\n",
       "    <tr>\n",
       "      <th>11</th>\n",
       "      <td>1.190176</td>\n",
       "      <td>pieces_past_due</td>\n",
       "    </tr>\n",
       "    <tr>\n",
       "      <th>12</th>\n",
       "      <td>2.106125</td>\n",
       "      <td>perf_6_month_avg</td>\n",
       "    </tr>\n",
       "    <tr>\n",
       "      <th>13</th>\n",
       "      <td>1.008413</td>\n",
       "      <td>local_bo_qty</td>\n",
       "    </tr>\n",
       "  </tbody>\n",
       "</table>\n",
       "</div>"
      ],
      "text/plain": [
       "    VIF Factor          features\n",
       "0     1.845335      national_inv\n",
       "1     2.103110         lead_time\n",
       "2     2.866946    in_transit_qty\n",
       "3    87.632253  forecast_3_month\n",
       "4   492.917385  forecast_6_month\n",
       "5   275.173623  forecast_9_month\n",
       "6     7.096836     sales_1_month\n",
       "7    55.142069     sales_3_month\n",
       "8   101.112074     sales_6_month\n",
       "9    22.944864     sales_9_month\n",
       "10    7.226231          min_bank\n",
       "11    1.190176   pieces_past_due\n",
       "12    2.106125  perf_6_month_avg\n",
       "13    1.008413      local_bo_qty"
      ]
     },
     "execution_count": 110,
     "metadata": {},
     "output_type": "execute_result"
    }
   ],
   "source": [
    "vif_1"
   ]
  },
  {
   "cell_type": "code",
   "execution_count": 111,
   "metadata": {
    "collapsed": true
   },
   "outputs": [],
   "source": [
    "continuos_variable_1=continuos_variable.drop(['perf_12_month_avg','forecast_6_month'],axis=1)\n",
    "vif_2 = pd.DataFrame()\n",
    "vif_2[\"VIF Factor\"] = [variance_inflation_factor(continuos_variable_1.values, i) for i in range(continuos_variable_1.shape[1])]\n",
    "vif_2[\"features\"] = continuos_variable_1.columns"
   ]
  },
  {
   "cell_type": "code",
   "execution_count": 112,
   "metadata": {},
   "outputs": [
    {
     "data": {
      "text/html": [
       "<div>\n",
       "<style>\n",
       "    .dataframe thead tr:only-child th {\n",
       "        text-align: right;\n",
       "    }\n",
       "\n",
       "    .dataframe thead th {\n",
       "        text-align: left;\n",
       "    }\n",
       "\n",
       "    .dataframe tbody tr th {\n",
       "        vertical-align: top;\n",
       "    }\n",
       "</style>\n",
       "<table border=\"1\" class=\"dataframe\">\n",
       "  <thead>\n",
       "    <tr style=\"text-align: right;\">\n",
       "      <th></th>\n",
       "      <th>VIF Factor</th>\n",
       "      <th>features</th>\n",
       "    </tr>\n",
       "  </thead>\n",
       "  <tbody>\n",
       "    <tr>\n",
       "      <th>0</th>\n",
       "      <td>1.844470</td>\n",
       "      <td>national_inv</td>\n",
       "    </tr>\n",
       "    <tr>\n",
       "      <th>1</th>\n",
       "      <td>2.103109</td>\n",
       "      <td>lead_time</td>\n",
       "    </tr>\n",
       "    <tr>\n",
       "      <th>2</th>\n",
       "      <td>2.654278</td>\n",
       "      <td>in_transit_qty</td>\n",
       "    </tr>\n",
       "    <tr>\n",
       "      <th>3</th>\n",
       "      <td>27.299326</td>\n",
       "      <td>forecast_3_month</td>\n",
       "    </tr>\n",
       "    <tr>\n",
       "      <th>4</th>\n",
       "      <td>49.529381</td>\n",
       "      <td>forecast_9_month</td>\n",
       "    </tr>\n",
       "    <tr>\n",
       "      <th>5</th>\n",
       "      <td>7.091127</td>\n",
       "      <td>sales_1_month</td>\n",
       "    </tr>\n",
       "    <tr>\n",
       "      <th>6</th>\n",
       "      <td>55.065493</td>\n",
       "      <td>sales_3_month</td>\n",
       "    </tr>\n",
       "    <tr>\n",
       "      <th>7</th>\n",
       "      <td>99.944894</td>\n",
       "      <td>sales_6_month</td>\n",
       "    </tr>\n",
       "    <tr>\n",
       "      <th>8</th>\n",
       "      <td>22.944840</td>\n",
       "      <td>sales_9_month</td>\n",
       "    </tr>\n",
       "    <tr>\n",
       "      <th>9</th>\n",
       "      <td>7.015119</td>\n",
       "      <td>min_bank</td>\n",
       "    </tr>\n",
       "    <tr>\n",
       "      <th>10</th>\n",
       "      <td>1.190127</td>\n",
       "      <td>pieces_past_due</td>\n",
       "    </tr>\n",
       "    <tr>\n",
       "      <th>11</th>\n",
       "      <td>2.105999</td>\n",
       "      <td>perf_6_month_avg</td>\n",
       "    </tr>\n",
       "    <tr>\n",
       "      <th>12</th>\n",
       "      <td>1.008290</td>\n",
       "      <td>local_bo_qty</td>\n",
       "    </tr>\n",
       "  </tbody>\n",
       "</table>\n",
       "</div>"
      ],
      "text/plain": [
       "    VIF Factor          features\n",
       "0     1.844470      national_inv\n",
       "1     2.103109         lead_time\n",
       "2     2.654278    in_transit_qty\n",
       "3    27.299326  forecast_3_month\n",
       "4    49.529381  forecast_9_month\n",
       "5     7.091127     sales_1_month\n",
       "6    55.065493     sales_3_month\n",
       "7    99.944894     sales_6_month\n",
       "8    22.944840     sales_9_month\n",
       "9     7.015119          min_bank\n",
       "10    1.190127   pieces_past_due\n",
       "11    2.105999  perf_6_month_avg\n",
       "12    1.008290      local_bo_qty"
      ]
     },
     "execution_count": 112,
     "metadata": {},
     "output_type": "execute_result"
    }
   ],
   "source": [
    "vif_2"
   ]
  },
  {
   "cell_type": "code",
   "execution_count": 113,
   "metadata": {
    "collapsed": true
   },
   "outputs": [],
   "source": [
    "continuos_variable_1=continuos_variable.drop(['perf_12_month_avg','forecast_6_month','forecast_9_month'],axis=1)\n",
    "vif_3 = pd.DataFrame()\n",
    "vif_3[\"VIF Factor\"] = [variance_inflation_factor(continuos_variable_1.values, i) for i in range(continuos_variable_1.shape[1])]\n",
    "vif_3[\"features\"] = continuos_variable_1.columns"
   ]
  },
  {
   "cell_type": "code",
   "execution_count": 114,
   "metadata": {},
   "outputs": [
    {
     "data": {
      "text/html": [
       "<div>\n",
       "<style>\n",
       "    .dataframe thead tr:only-child th {\n",
       "        text-align: right;\n",
       "    }\n",
       "\n",
       "    .dataframe thead th {\n",
       "        text-align: left;\n",
       "    }\n",
       "\n",
       "    .dataframe tbody tr th {\n",
       "        vertical-align: top;\n",
       "    }\n",
       "</style>\n",
       "<table border=\"1\" class=\"dataframe\">\n",
       "  <thead>\n",
       "    <tr style=\"text-align: right;\">\n",
       "      <th></th>\n",
       "      <th>VIF Factor</th>\n",
       "      <th>features</th>\n",
       "    </tr>\n",
       "  </thead>\n",
       "  <tbody>\n",
       "    <tr>\n",
       "      <th>0</th>\n",
       "      <td>1.725577</td>\n",
       "      <td>national_inv</td>\n",
       "    </tr>\n",
       "    <tr>\n",
       "      <th>1</th>\n",
       "      <td>2.103006</td>\n",
       "      <td>lead_time</td>\n",
       "    </tr>\n",
       "    <tr>\n",
       "      <th>2</th>\n",
       "      <td>2.583366</td>\n",
       "      <td>in_transit_qty</td>\n",
       "    </tr>\n",
       "    <tr>\n",
       "      <th>3</th>\n",
       "      <td>4.105479</td>\n",
       "      <td>forecast_3_month</td>\n",
       "    </tr>\n",
       "    <tr>\n",
       "      <th>4</th>\n",
       "      <td>7.010137</td>\n",
       "      <td>sales_1_month</td>\n",
       "    </tr>\n",
       "    <tr>\n",
       "      <th>5</th>\n",
       "      <td>49.340089</td>\n",
       "      <td>sales_3_month</td>\n",
       "    </tr>\n",
       "    <tr>\n",
       "      <th>6</th>\n",
       "      <td>75.348014</td>\n",
       "      <td>sales_6_month</td>\n",
       "    </tr>\n",
       "    <tr>\n",
       "      <th>7</th>\n",
       "      <td>22.942683</td>\n",
       "      <td>sales_9_month</td>\n",
       "    </tr>\n",
       "    <tr>\n",
       "      <th>8</th>\n",
       "      <td>6.920735</td>\n",
       "      <td>min_bank</td>\n",
       "    </tr>\n",
       "    <tr>\n",
       "      <th>9</th>\n",
       "      <td>1.180907</td>\n",
       "      <td>pieces_past_due</td>\n",
       "    </tr>\n",
       "    <tr>\n",
       "      <th>10</th>\n",
       "      <td>2.105910</td>\n",
       "      <td>perf_6_month_avg</td>\n",
       "    </tr>\n",
       "    <tr>\n",
       "      <th>11</th>\n",
       "      <td>1.008232</td>\n",
       "      <td>local_bo_qty</td>\n",
       "    </tr>\n",
       "  </tbody>\n",
       "</table>\n",
       "</div>"
      ],
      "text/plain": [
       "    VIF Factor          features\n",
       "0     1.725577      national_inv\n",
       "1     2.103006         lead_time\n",
       "2     2.583366    in_transit_qty\n",
       "3     4.105479  forecast_3_month\n",
       "4     7.010137     sales_1_month\n",
       "5    49.340089     sales_3_month\n",
       "6    75.348014     sales_6_month\n",
       "7    22.942683     sales_9_month\n",
       "8     6.920735          min_bank\n",
       "9     1.180907   pieces_past_due\n",
       "10    2.105910  perf_6_month_avg\n",
       "11    1.008232      local_bo_qty"
      ]
     },
     "execution_count": 114,
     "metadata": {},
     "output_type": "execute_result"
    }
   ],
   "source": [
    "vif_3"
   ]
  },
  {
   "cell_type": "code",
   "execution_count": 115,
   "metadata": {
    "collapsed": true
   },
   "outputs": [],
   "source": [
    "continuos_variable_1=continuos_variable.drop(['perf_12_month_avg','forecast_6_month','forecast_9_month',\"sales_9_month\"],axis=1)\n",
    "vif_4 = pd.DataFrame()\n",
    "vif_4[\"VIF Factor\"] = [variance_inflation_factor(continuos_variable_1.values, i) for i in range(continuos_variable_1.shape[1])]\n",
    "vif_4[\"features\"] = continuos_variable_1.columns"
   ]
  },
  {
   "cell_type": "code",
   "execution_count": 116,
   "metadata": {},
   "outputs": [
    {
     "data": {
      "text/html": [
       "<div>\n",
       "<style>\n",
       "    .dataframe thead tr:only-child th {\n",
       "        text-align: right;\n",
       "    }\n",
       "\n",
       "    .dataframe thead th {\n",
       "        text-align: left;\n",
       "    }\n",
       "\n",
       "    .dataframe tbody tr th {\n",
       "        vertical-align: top;\n",
       "    }\n",
       "</style>\n",
       "<table border=\"1\" class=\"dataframe\">\n",
       "  <thead>\n",
       "    <tr style=\"text-align: right;\">\n",
       "      <th></th>\n",
       "      <th>VIF Factor</th>\n",
       "      <th>features</th>\n",
       "    </tr>\n",
       "  </thead>\n",
       "  <tbody>\n",
       "    <tr>\n",
       "      <th>0</th>\n",
       "      <td>1.721171</td>\n",
       "      <td>national_inv</td>\n",
       "    </tr>\n",
       "    <tr>\n",
       "      <th>1</th>\n",
       "      <td>2.102998</td>\n",
       "      <td>lead_time</td>\n",
       "    </tr>\n",
       "    <tr>\n",
       "      <th>2</th>\n",
       "      <td>2.583047</td>\n",
       "      <td>in_transit_qty</td>\n",
       "    </tr>\n",
       "    <tr>\n",
       "      <th>3</th>\n",
       "      <td>4.102966</td>\n",
       "      <td>forecast_3_month</td>\n",
       "    </tr>\n",
       "    <tr>\n",
       "      <th>4</th>\n",
       "      <td>7.009569</td>\n",
       "      <td>sales_1_month</td>\n",
       "    </tr>\n",
       "    <tr>\n",
       "      <th>5</th>\n",
       "      <td>45.919017</td>\n",
       "      <td>sales_3_month</td>\n",
       "    </tr>\n",
       "    <tr>\n",
       "      <th>6</th>\n",
       "      <td>34.040760</td>\n",
       "      <td>sales_6_month</td>\n",
       "    </tr>\n",
       "    <tr>\n",
       "      <th>7</th>\n",
       "      <td>6.920099</td>\n",
       "      <td>min_bank</td>\n",
       "    </tr>\n",
       "    <tr>\n",
       "      <th>8</th>\n",
       "      <td>1.180892</td>\n",
       "      <td>pieces_past_due</td>\n",
       "    </tr>\n",
       "    <tr>\n",
       "      <th>9</th>\n",
       "      <td>2.105892</td>\n",
       "      <td>perf_6_month_avg</td>\n",
       "    </tr>\n",
       "    <tr>\n",
       "      <th>10</th>\n",
       "      <td>1.008215</td>\n",
       "      <td>local_bo_qty</td>\n",
       "    </tr>\n",
       "  </tbody>\n",
       "</table>\n",
       "</div>"
      ],
      "text/plain": [
       "    VIF Factor          features\n",
       "0     1.721171      national_inv\n",
       "1     2.102998         lead_time\n",
       "2     2.583047    in_transit_qty\n",
       "3     4.102966  forecast_3_month\n",
       "4     7.009569     sales_1_month\n",
       "5    45.919017     sales_3_month\n",
       "6    34.040760     sales_6_month\n",
       "7     6.920099          min_bank\n",
       "8     1.180892   pieces_past_due\n",
       "9     2.105892  perf_6_month_avg\n",
       "10    1.008215      local_bo_qty"
      ]
     },
     "execution_count": 116,
     "metadata": {},
     "output_type": "execute_result"
    }
   ],
   "source": [
    "vif_4"
   ]
  },
  {
   "cell_type": "code",
   "execution_count": 117,
   "metadata": {
    "collapsed": true
   },
   "outputs": [],
   "source": [
    "continuos_variable_1=continuos_variable.drop(['perf_12_month_avg','forecast_6_month','forecast_9_month',\"sales_9_month\",\"sales_6_month\"],axis=1)\n",
    "vif_5 = pd.DataFrame()\n",
    "vif_5[\"VIF Factor\"] = [variance_inflation_factor(continuos_variable_1.values, i) for i in range(continuos_variable_1.shape[1])]\n",
    "vif_5[\"features\"] = continuos_variable_1.columns"
   ]
  },
  {
   "cell_type": "code",
   "execution_count": 118,
   "metadata": {},
   "outputs": [
    {
     "data": {
      "text/html": [
       "<div>\n",
       "<style>\n",
       "    .dataframe thead tr:only-child th {\n",
       "        text-align: right;\n",
       "    }\n",
       "\n",
       "    .dataframe thead th {\n",
       "        text-align: left;\n",
       "    }\n",
       "\n",
       "    .dataframe tbody tr th {\n",
       "        vertical-align: top;\n",
       "    }\n",
       "</style>\n",
       "<table border=\"1\" class=\"dataframe\">\n",
       "  <thead>\n",
       "    <tr style=\"text-align: right;\">\n",
       "      <th></th>\n",
       "      <th>VIF Factor</th>\n",
       "      <th>features</th>\n",
       "    </tr>\n",
       "  </thead>\n",
       "  <tbody>\n",
       "    <tr>\n",
       "      <th>0</th>\n",
       "      <td>1.527560</td>\n",
       "      <td>national_inv</td>\n",
       "    </tr>\n",
       "    <tr>\n",
       "      <th>1</th>\n",
       "      <td>2.102986</td>\n",
       "      <td>lead_time</td>\n",
       "    </tr>\n",
       "    <tr>\n",
       "      <th>2</th>\n",
       "      <td>2.582870</td>\n",
       "      <td>in_transit_qty</td>\n",
       "    </tr>\n",
       "    <tr>\n",
       "      <th>3</th>\n",
       "      <td>2.818817</td>\n",
       "      <td>forecast_3_month</td>\n",
       "    </tr>\n",
       "    <tr>\n",
       "      <th>4</th>\n",
       "      <td>6.466516</td>\n",
       "      <td>sales_1_month</td>\n",
       "    </tr>\n",
       "    <tr>\n",
       "      <th>5</th>\n",
       "      <td>10.925490</td>\n",
       "      <td>sales_3_month</td>\n",
       "    </tr>\n",
       "    <tr>\n",
       "      <th>6</th>\n",
       "      <td>6.562656</td>\n",
       "      <td>min_bank</td>\n",
       "    </tr>\n",
       "    <tr>\n",
       "      <th>7</th>\n",
       "      <td>1.180610</td>\n",
       "      <td>pieces_past_due</td>\n",
       "    </tr>\n",
       "    <tr>\n",
       "      <th>8</th>\n",
       "      <td>2.105762</td>\n",
       "      <td>perf_6_month_avg</td>\n",
       "    </tr>\n",
       "    <tr>\n",
       "      <th>9</th>\n",
       "      <td>1.006627</td>\n",
       "      <td>local_bo_qty</td>\n",
       "    </tr>\n",
       "  </tbody>\n",
       "</table>\n",
       "</div>"
      ],
      "text/plain": [
       "   VIF Factor          features\n",
       "0    1.527560      national_inv\n",
       "1    2.102986         lead_time\n",
       "2    2.582870    in_transit_qty\n",
       "3    2.818817  forecast_3_month\n",
       "4    6.466516     sales_1_month\n",
       "5   10.925490     sales_3_month\n",
       "6    6.562656          min_bank\n",
       "7    1.180610   pieces_past_due\n",
       "8    2.105762  perf_6_month_avg\n",
       "9    1.006627      local_bo_qty"
      ]
     },
     "execution_count": 118,
     "metadata": {},
     "output_type": "execute_result"
    }
   ],
   "source": [
    "vif_5"
   ]
  },
  {
   "cell_type": "code",
   "execution_count": 119,
   "metadata": {
    "collapsed": true
   },
   "outputs": [],
   "source": [
    "continuos_variable_1=continuos_variable.drop(['perf_12_month_avg','forecast_6_month','forecast_9_month',\"sales_9_month\",\"sales_6_month\",'sales_1_month'],axis=1)\n",
    "vif_6 = pd.DataFrame()\n",
    "vif_6[\"VIF Factor\"] = [variance_inflation_factor(continuos_variable_1.values, i) for i in range(continuos_variable_1.shape[1])]\n",
    "vif_6[\"features\"] = continuos_variable_1.columns"
   ]
  },
  {
   "cell_type": "code",
   "execution_count": 120,
   "metadata": {},
   "outputs": [
    {
     "data": {
      "text/html": [
       "<div>\n",
       "<style>\n",
       "    .dataframe thead tr:only-child th {\n",
       "        text-align: right;\n",
       "    }\n",
       "\n",
       "    .dataframe thead th {\n",
       "        text-align: left;\n",
       "    }\n",
       "\n",
       "    .dataframe tbody tr th {\n",
       "        vertical-align: top;\n",
       "    }\n",
       "</style>\n",
       "<table border=\"1\" class=\"dataframe\">\n",
       "  <thead>\n",
       "    <tr style=\"text-align: right;\">\n",
       "      <th></th>\n",
       "      <th>VIF Factor</th>\n",
       "      <th>features</th>\n",
       "    </tr>\n",
       "  </thead>\n",
       "  <tbody>\n",
       "    <tr>\n",
       "      <th>0</th>\n",
       "      <td>1.525936</td>\n",
       "      <td>national_inv</td>\n",
       "    </tr>\n",
       "    <tr>\n",
       "      <th>1</th>\n",
       "      <td>2.102985</td>\n",
       "      <td>lead_time</td>\n",
       "    </tr>\n",
       "    <tr>\n",
       "      <th>2</th>\n",
       "      <td>2.582322</td>\n",
       "      <td>in_transit_qty</td>\n",
       "    </tr>\n",
       "    <tr>\n",
       "      <th>3</th>\n",
       "      <td>2.816367</td>\n",
       "      <td>forecast_3_month</td>\n",
       "    </tr>\n",
       "    <tr>\n",
       "      <th>4</th>\n",
       "      <td>4.738734</td>\n",
       "      <td>sales_3_month</td>\n",
       "    </tr>\n",
       "    <tr>\n",
       "      <th>5</th>\n",
       "      <td>6.556546</td>\n",
       "      <td>min_bank</td>\n",
       "    </tr>\n",
       "    <tr>\n",
       "      <th>6</th>\n",
       "      <td>1.174795</td>\n",
       "      <td>pieces_past_due</td>\n",
       "    </tr>\n",
       "    <tr>\n",
       "      <th>7</th>\n",
       "      <td>2.105754</td>\n",
       "      <td>perf_6_month_avg</td>\n",
       "    </tr>\n",
       "    <tr>\n",
       "      <th>8</th>\n",
       "      <td>1.006557</td>\n",
       "      <td>local_bo_qty</td>\n",
       "    </tr>\n",
       "  </tbody>\n",
       "</table>\n",
       "</div>"
      ],
      "text/plain": [
       "   VIF Factor          features\n",
       "0    1.525936      national_inv\n",
       "1    2.102985         lead_time\n",
       "2    2.582322    in_transit_qty\n",
       "3    2.816367  forecast_3_month\n",
       "4    4.738734     sales_3_month\n",
       "5    6.556546          min_bank\n",
       "6    1.174795   pieces_past_due\n",
       "7    2.105754  perf_6_month_avg\n",
       "8    1.006557      local_bo_qty"
      ]
     },
     "execution_count": 120,
     "metadata": {},
     "output_type": "execute_result"
    }
   ],
   "source": [
    "vif_6"
   ]
  },
  {
   "cell_type": "code",
   "execution_count": 121,
   "metadata": {},
   "outputs": [
    {
     "data": {
      "text/html": [
       "<div>\n",
       "<style>\n",
       "    .dataframe thead tr:only-child th {\n",
       "        text-align: right;\n",
       "    }\n",
       "\n",
       "    .dataframe thead th {\n",
       "        text-align: left;\n",
       "    }\n",
       "\n",
       "    .dataframe tbody tr th {\n",
       "        vertical-align: top;\n",
       "    }\n",
       "</style>\n",
       "<table border=\"1\" class=\"dataframe\">\n",
       "  <thead>\n",
       "    <tr style=\"text-align: right;\">\n",
       "      <th></th>\n",
       "      <th>national_inv</th>\n",
       "      <th>lead_time</th>\n",
       "      <th>in_transit_qty</th>\n",
       "      <th>forecast_3_month</th>\n",
       "      <th>sales_3_month</th>\n",
       "      <th>min_bank</th>\n",
       "      <th>pieces_past_due</th>\n",
       "      <th>perf_6_month_avg</th>\n",
       "      <th>local_bo_qty</th>\n",
       "    </tr>\n",
       "  </thead>\n",
       "  <tbody>\n",
       "    <tr>\n",
       "      <th>national_inv</th>\n",
       "      <td>1.000000</td>\n",
       "      <td>0.003327</td>\n",
       "      <td>0.098473</td>\n",
       "      <td>0.080034</td>\n",
       "      <td>0.191604</td>\n",
       "      <td>0.405298</td>\n",
       "      <td>0.030307</td>\n",
       "      <td>0.003901</td>\n",
       "      <td>0.012814</td>\n",
       "    </tr>\n",
       "    <tr>\n",
       "      <th>lead_time</th>\n",
       "      <td>0.003327</td>\n",
       "      <td>1.000000</td>\n",
       "      <td>-0.006929</td>\n",
       "      <td>-0.007927</td>\n",
       "      <td>-0.006739</td>\n",
       "      <td>-0.007075</td>\n",
       "      <td>-0.001563</td>\n",
       "      <td>-0.006952</td>\n",
       "      <td>-0.001578</td>\n",
       "    </tr>\n",
       "    <tr>\n",
       "      <th>in_transit_qty</th>\n",
       "      <td>0.098473</td>\n",
       "      <td>-0.006929</td>\n",
       "      <td>1.000000</td>\n",
       "      <td>0.638241</td>\n",
       "      <td>0.687824</td>\n",
       "      <td>0.742187</td>\n",
       "      <td>0.161349</td>\n",
       "      <td>0.004295</td>\n",
       "      <td>0.063223</td>\n",
       "    </tr>\n",
       "    <tr>\n",
       "      <th>forecast_3_month</th>\n",
       "      <td>0.080034</td>\n",
       "      <td>-0.007927</td>\n",
       "      <td>0.638241</td>\n",
       "      <td>1.000000</td>\n",
       "      <td>0.764681</td>\n",
       "      <td>0.719626</td>\n",
       "      <td>0.359632</td>\n",
       "      <td>0.006065</td>\n",
       "      <td>0.043872</td>\n",
       "    </tr>\n",
       "    <tr>\n",
       "      <th>sales_3_month</th>\n",
       "      <td>0.191604</td>\n",
       "      <td>-0.006739</td>\n",
       "      <td>0.687824</td>\n",
       "      <td>0.764681</td>\n",
       "      <td>1.000000</td>\n",
       "      <td>0.854285</td>\n",
       "      <td>0.314536</td>\n",
       "      <td>0.006882</td>\n",
       "      <td>0.068080</td>\n",
       "    </tr>\n",
       "    <tr>\n",
       "      <th>min_bank</th>\n",
       "      <td>0.405298</td>\n",
       "      <td>-0.007075</td>\n",
       "      <td>0.742187</td>\n",
       "      <td>0.719626</td>\n",
       "      <td>0.854285</td>\n",
       "      <td>1.000000</td>\n",
       "      <td>0.262834</td>\n",
       "      <td>0.010274</td>\n",
       "      <td>0.071582</td>\n",
       "    </tr>\n",
       "    <tr>\n",
       "      <th>pieces_past_due</th>\n",
       "      <td>0.030307</td>\n",
       "      <td>-0.001563</td>\n",
       "      <td>0.161349</td>\n",
       "      <td>0.359632</td>\n",
       "      <td>0.314536</td>\n",
       "      <td>0.262834</td>\n",
       "      <td>1.000000</td>\n",
       "      <td>-0.004457</td>\n",
       "      <td>0.009388</td>\n",
       "    </tr>\n",
       "    <tr>\n",
       "      <th>perf_6_month_avg</th>\n",
       "      <td>0.003901</td>\n",
       "      <td>-0.006952</td>\n",
       "      <td>0.004295</td>\n",
       "      <td>0.006065</td>\n",
       "      <td>0.006882</td>\n",
       "      <td>0.010274</td>\n",
       "      <td>-0.004457</td>\n",
       "      <td>1.000000</td>\n",
       "      <td>0.002165</td>\n",
       "    </tr>\n",
       "    <tr>\n",
       "      <th>local_bo_qty</th>\n",
       "      <td>0.012814</td>\n",
       "      <td>-0.001578</td>\n",
       "      <td>0.063223</td>\n",
       "      <td>0.043872</td>\n",
       "      <td>0.068080</td>\n",
       "      <td>0.071582</td>\n",
       "      <td>0.009388</td>\n",
       "      <td>0.002165</td>\n",
       "      <td>1.000000</td>\n",
       "    </tr>\n",
       "  </tbody>\n",
       "</table>\n",
       "</div>"
      ],
      "text/plain": [
       "                  national_inv  lead_time  in_transit_qty  forecast_3_month  \\\n",
       "national_inv          1.000000   0.003327        0.098473          0.080034   \n",
       "lead_time             0.003327   1.000000       -0.006929         -0.007927   \n",
       "in_transit_qty        0.098473  -0.006929        1.000000          0.638241   \n",
       "forecast_3_month      0.080034  -0.007927        0.638241          1.000000   \n",
       "sales_3_month         0.191604  -0.006739        0.687824          0.764681   \n",
       "min_bank              0.405298  -0.007075        0.742187          0.719626   \n",
       "pieces_past_due       0.030307  -0.001563        0.161349          0.359632   \n",
       "perf_6_month_avg      0.003901  -0.006952        0.004295          0.006065   \n",
       "local_bo_qty          0.012814  -0.001578        0.063223          0.043872   \n",
       "\n",
       "                  sales_3_month  min_bank  pieces_past_due  perf_6_month_avg  \\\n",
       "national_inv           0.191604  0.405298         0.030307          0.003901   \n",
       "lead_time             -0.006739 -0.007075        -0.001563         -0.006952   \n",
       "in_transit_qty         0.687824  0.742187         0.161349          0.004295   \n",
       "forecast_3_month       0.764681  0.719626         0.359632          0.006065   \n",
       "sales_3_month          1.000000  0.854285         0.314536          0.006882   \n",
       "min_bank               0.854285  1.000000         0.262834          0.010274   \n",
       "pieces_past_due        0.314536  0.262834         1.000000         -0.004457   \n",
       "perf_6_month_avg       0.006882  0.010274        -0.004457          1.000000   \n",
       "local_bo_qty           0.068080  0.071582         0.009388          0.002165   \n",
       "\n",
       "                  local_bo_qty  \n",
       "national_inv          0.012814  \n",
       "lead_time            -0.001578  \n",
       "in_transit_qty        0.063223  \n",
       "forecast_3_month      0.043872  \n",
       "sales_3_month         0.068080  \n",
       "min_bank              0.071582  \n",
       "pieces_past_due       0.009388  \n",
       "perf_6_month_avg      0.002165  \n",
       "local_bo_qty          1.000000  "
      ]
     },
     "execution_count": 121,
     "metadata": {},
     "output_type": "execute_result"
    }
   ],
   "source": [
    "continuos_variable_1.corr()"
   ]
  },
  {
   "cell_type": "markdown",
   "metadata": {},
   "source": [
    "## Redundant continuous feature\n",
    "'perf_12_month_avg','forecast_6_month','forecast_9_month',\"sales_9_month\",\"sales_6_month\",'sales_1_month'"
   ]
  },
  {
   "cell_type": "markdown",
   "metadata": {},
   "source": [
    "<b>Data After dim_reduction"
   ]
  },
  {
   "cell_type": "code",
   "execution_count": 122,
   "metadata": {
    "collapsed": true
   },
   "outputs": [],
   "source": [
    "redundant_continuous_feature=['perf_12_month_avg','forecast_6_month','forecast_9_month',\"sales_9_month\",\"sales_6_month\",'sales_1_month']"
   ]
  },
  {
   "cell_type": "code",
   "execution_count": 123,
   "metadata": {
    "collapsed": true
   },
   "outputs": [],
   "source": [
    "merged_data=merged_data.drop(redundant_continuous_feature,axis=1)"
   ]
  },
  {
   "cell_type": "code",
   "execution_count": 124,
   "metadata": {},
   "outputs": [
    {
     "data": {
      "text/html": [
       "<div>\n",
       "<style>\n",
       "    .dataframe thead tr:only-child th {\n",
       "        text-align: right;\n",
       "    }\n",
       "\n",
       "    .dataframe thead th {\n",
       "        text-align: left;\n",
       "    }\n",
       "\n",
       "    .dataframe tbody tr th {\n",
       "        vertical-align: top;\n",
       "    }\n",
       "</style>\n",
       "<table border=\"1\" class=\"dataframe\">\n",
       "  <thead>\n",
       "    <tr style=\"text-align: right;\">\n",
       "      <th></th>\n",
       "      <th>national_inv</th>\n",
       "      <th>lead_time</th>\n",
       "      <th>in_transit_qty</th>\n",
       "      <th>forecast_3_month</th>\n",
       "      <th>sales_3_month</th>\n",
       "      <th>min_bank</th>\n",
       "      <th>potential_issue</th>\n",
       "      <th>pieces_past_due</th>\n",
       "      <th>perf_6_month_avg</th>\n",
       "      <th>local_bo_qty</th>\n",
       "      <th>deck_risk</th>\n",
       "      <th>ppap_risk</th>\n",
       "      <th>stop_auto_buy</th>\n",
       "      <th>went_on_backorder</th>\n",
       "      <th>anymissing</th>\n",
       "    </tr>\n",
       "  </thead>\n",
       "  <tbody>\n",
       "    <tr>\n",
       "      <th>0</th>\n",
       "      <td>0.0</td>\n",
       "      <td>8.0</td>\n",
       "      <td>0.0</td>\n",
       "      <td>0.0</td>\n",
       "      <td>0.0</td>\n",
       "      <td>0.0</td>\n",
       "      <td>0</td>\n",
       "      <td>0.0</td>\n",
       "      <td>0.85</td>\n",
       "      <td>0.0</td>\n",
       "      <td>0</td>\n",
       "      <td>0</td>\n",
       "      <td>1</td>\n",
       "      <td>0</td>\n",
       "      <td>1</td>\n",
       "    </tr>\n",
       "    <tr>\n",
       "      <th>1</th>\n",
       "      <td>2.0</td>\n",
       "      <td>9.0</td>\n",
       "      <td>0.0</td>\n",
       "      <td>0.0</td>\n",
       "      <td>0.0</td>\n",
       "      <td>0.0</td>\n",
       "      <td>0</td>\n",
       "      <td>0.0</td>\n",
       "      <td>0.99</td>\n",
       "      <td>0.0</td>\n",
       "      <td>0</td>\n",
       "      <td>0</td>\n",
       "      <td>1</td>\n",
       "      <td>0</td>\n",
       "      <td>0</td>\n",
       "    </tr>\n",
       "    <tr>\n",
       "      <th>2</th>\n",
       "      <td>2.0</td>\n",
       "      <td>8.0</td>\n",
       "      <td>0.0</td>\n",
       "      <td>0.0</td>\n",
       "      <td>0.0</td>\n",
       "      <td>0.0</td>\n",
       "      <td>0</td>\n",
       "      <td>0.0</td>\n",
       "      <td>0.85</td>\n",
       "      <td>0.0</td>\n",
       "      <td>1</td>\n",
       "      <td>0</td>\n",
       "      <td>1</td>\n",
       "      <td>0</td>\n",
       "      <td>1</td>\n",
       "    </tr>\n",
       "    <tr>\n",
       "      <th>3</th>\n",
       "      <td>7.0</td>\n",
       "      <td>8.0</td>\n",
       "      <td>0.0</td>\n",
       "      <td>0.0</td>\n",
       "      <td>0.0</td>\n",
       "      <td>1.0</td>\n",
       "      <td>0</td>\n",
       "      <td>0.0</td>\n",
       "      <td>0.10</td>\n",
       "      <td>0.0</td>\n",
       "      <td>0</td>\n",
       "      <td>0</td>\n",
       "      <td>1</td>\n",
       "      <td>0</td>\n",
       "      <td>0</td>\n",
       "    </tr>\n",
       "    <tr>\n",
       "      <th>4</th>\n",
       "      <td>8.0</td>\n",
       "      <td>8.0</td>\n",
       "      <td>0.0</td>\n",
       "      <td>0.0</td>\n",
       "      <td>0.0</td>\n",
       "      <td>2.0</td>\n",
       "      <td>0</td>\n",
       "      <td>0.0</td>\n",
       "      <td>0.85</td>\n",
       "      <td>0.0</td>\n",
       "      <td>1</td>\n",
       "      <td>0</td>\n",
       "      <td>1</td>\n",
       "      <td>0</td>\n",
       "      <td>1</td>\n",
       "    </tr>\n",
       "  </tbody>\n",
       "</table>\n",
       "</div>"
      ],
      "text/plain": [
       "   national_inv  lead_time  in_transit_qty  forecast_3_month  sales_3_month  \\\n",
       "0           0.0        8.0             0.0               0.0            0.0   \n",
       "1           2.0        9.0             0.0               0.0            0.0   \n",
       "2           2.0        8.0             0.0               0.0            0.0   \n",
       "3           7.0        8.0             0.0               0.0            0.0   \n",
       "4           8.0        8.0             0.0               0.0            0.0   \n",
       "\n",
       "   min_bank  potential_issue  pieces_past_due  perf_6_month_avg  local_bo_qty  \\\n",
       "0       0.0                0              0.0              0.85           0.0   \n",
       "1       0.0                0              0.0              0.99           0.0   \n",
       "2       0.0                0              0.0              0.85           0.0   \n",
       "3       1.0                0              0.0              0.10           0.0   \n",
       "4       2.0                0              0.0              0.85           0.0   \n",
       "\n",
       "   deck_risk  ppap_risk  stop_auto_buy  went_on_backorder  anymissing  \n",
       "0          0          0              1                  0           1  \n",
       "1          0          0              1                  0           0  \n",
       "2          1          0              1                  0           1  \n",
       "3          0          0              1                  0           0  \n",
       "4          1          0              1                  0           1  "
      ]
     },
     "execution_count": 124,
     "metadata": {},
     "output_type": "execute_result"
    }
   ],
   "source": [
    "merged_data.head()"
   ]
  },
  {
   "cell_type": "code",
   "execution_count": 125,
   "metadata": {},
   "outputs": [
    {
     "data": {
      "text/plain": [
       "national_inv         float64\n",
       "lead_time            float64\n",
       "in_transit_qty       float64\n",
       "forecast_3_month     float64\n",
       "sales_3_month        float64\n",
       "min_bank             float64\n",
       "potential_issue        int64\n",
       "pieces_past_due      float64\n",
       "perf_6_month_avg     float64\n",
       "local_bo_qty         float64\n",
       "deck_risk              int64\n",
       "ppap_risk              int64\n",
       "stop_auto_buy          int64\n",
       "went_on_backorder      int64\n",
       "anymissing             int32\n",
       "dtype: object"
      ]
     },
     "execution_count": 125,
     "metadata": {},
     "output_type": "execute_result"
    }
   ],
   "source": [
    "merged_data.dtypes"
   ]
  },
  {
   "cell_type": "markdown",
   "metadata": {},
   "source": [
    "<b>Reducing Memory usage"
   ]
  },
  {
   "cell_type": "code",
   "execution_count": 126,
   "metadata": {},
   "outputs": [
    {
     "name": "stdout",
     "output_type": "stream",
     "text": [
      "<class 'pandas.core.frame.DataFrame'>\n",
      "Int64Index: 1929935 entries, 0 to 242074\n",
      "Columns: 15 entries, national_inv to anymissing\n",
      "dtypes: float64(9), int32(1), int64(5)\n",
      "memory usage: 308.2 MB\n"
     ]
    }
   ],
   "source": [
    "#reducing memory\n",
    "merged_data.info(verbose=False)"
   ]
  },
  {
   "cell_type": "code",
   "execution_count": 127,
   "metadata": {
    "collapsed": true
   },
   "outputs": [],
   "source": [
    "for col in ['national_inv','lead_time','in_transit_qty',\n",
    "            'forecast_3_month','sales_3_month','min_bank','potential_issue',\n",
    "            'pieces_past_due','perf_6_month_avg','local_bo_qty','deck_risk',\n",
    "            'ppap_risk','stop_auto_buy','went_on_backorder','anymissing']:\n",
    "    merged_data[col]=merged_data[col].astype(np.int32)"
   ]
  },
  {
   "cell_type": "code",
   "execution_count": 128,
   "metadata": {},
   "outputs": [
    {
     "name": "stdout",
     "output_type": "stream",
     "text": [
      "<class 'pandas.core.frame.DataFrame'>\n",
      "Int64Index: 1929935 entries, 0 to 242074\n",
      "Columns: 15 entries, national_inv to anymissing\n",
      "dtypes: int32(15)\n",
      "memory usage: 205.2 MB\n"
     ]
    }
   ],
   "source": [
    "merged_data.info(verbose=False)"
   ]
  },
  {
   "cell_type": "markdown",
   "metadata": {},
   "source": [
    "# Sampling the data to remove imbalance class distribution"
   ]
  },
  {
   "cell_type": "markdown",
   "metadata": {
    "_cell_guid": "6a06c226-a9c6-415f-9215-bf9e92d8cba8",
    "_uuid": "b26786969cf6ec9581329dd10b5a74a09eb8a461"
   },
   "source": [
    "##   Imbalanced Learning Methods\n",
    "\n",
    "- Imbalanced classification is a supervised learning problem where one class outnumbers other class by a large proportion. This problem is faced more frequently in binary classification problems than multi-level classification problems. The reasons which leads to reduction in **accuracy** of ML algorithms on imbalanced data sets:\n",
    "\n",
    "    1. ML algorithms struggle with accuracy because of the unequal distribution in dependent variable.\n",
    "    2. This causes the performance of existing classifiers to get biased towards majority class.\n",
    "    3. The algorithms are accuracy driven i.e. they aim to minimize the overall error to which the minority class contributes very little.\n",
    "    4. ML algorithms assume that the data set has balanced class distributions.\n",
    "    5. They also assume that errors obtained from different classes have same cost"
   ]
  },
  {
   "cell_type": "code",
   "execution_count": 130,
   "metadata": {
    "_cell_guid": "1a1c10a7-0ab3-4f58-9ca7-1994cb569549",
    "_uuid": "84e5d1709824b16dc6513dfec9e31ee808628f1e"
   },
   "outputs": [],
   "source": [
    "#Splitting the data into training as well as testing set\n",
    "X, y = merged_data.drop(['went_on_backorder'],axis=1), merged_data.went_on_backorder\n",
    "X_train, X_test, y_train, y_test = train_test_split(X, y, random_state=99)"
   ]
  },
  {
   "cell_type": "code",
   "execution_count": 131,
   "metadata": {},
   "outputs": [
    {
     "name": "stdout",
     "output_type": "stream",
     "text": [
      "(1447451, 14)\n",
      "(482484, 14)\n",
      "(1447451,)\n",
      "(482484,)\n",
      "(1929935, 15)\n",
      "1929935\n"
     ]
    }
   ],
   "source": [
    "print(X_train.shape)\n",
    "print(X_test.shape)\n",
    "print(y_train.shape)\n",
    "print(y_test.shape)\n",
    "print(merged_data.shape)\n",
    "print(len(X_train)+len(X_test))"
   ]
  },
  {
   "cell_type": "markdown",
   "metadata": {},
   "source": [
    "<b>Checking the accuracy if we predict all the products are not on bacorder that is class 0"
   ]
  },
  {
   "cell_type": "code",
   "execution_count": 132,
   "metadata": {
    "_cell_guid": "ce0a91cf-845b-4690-a1d0-44309d6f7bb4",
    "_uuid": "064b3692139580382d2a488e9d3f6139eaa19cf3"
   },
   "outputs": [
    {
     "data": {
      "text/plain": [
       "0.99268991303338561"
      ]
     },
     "execution_count": 132,
     "metadata": {},
     "output_type": "execute_result"
    }
   ],
   "source": [
    "from sklearn.dummy import DummyClassifier\n",
    "# Negative class (0) is most frequent\n",
    "dummy_majority = DummyClassifier(strategy = 'most_frequent').fit(X_train, y_train)\n",
    "# Therefore the dummy 'most_frequent' classifier always predicts class 0\n",
    "dummy_majority.score(X_test, y_test)"
   ]
  },
  {
   "cell_type": "markdown",
   "metadata": {},
   "source": [
    "We get the accuracy very high but it is unable to predict the product which is on backorder(Class 1)."
   ]
  },
  {
   "cell_type": "markdown",
   "metadata": {},
   "source": [
    "# Dimension Reduction"
   ]
  },
  {
   "cell_type": "markdown",
   "metadata": {},
   "source": [
    "## Linear PCA"
   ]
  },
  {
   "cell_type": "code",
   "execution_count": 165,
   "metadata": {},
   "outputs": [
    {
     "data": {
      "image/png": "[encoded data removed]",
      "text/plain": [
       "<matplotlib.figure.Figure at 0x2202f24198>"
      ]
     },
     "metadata": {},
     "output_type": "display_data"
    }
   ],
   "source": [
    "from sklearn.decomposition import PCA\n",
    "\n",
    "scikit_pca = PCA(n_components=2)\n",
    "X_spca = scikit_pca.fit_transform(X)\n",
    "\n",
    "plt.figure(figsize=(10,8))\n",
    "plt.scatter(X_spca[y==0, 0], X_spca[y==0, 1], color='red', alpha=0.5)\n",
    "plt.scatter(X_spca[y==1, 0], X_spca[y==1, 1], color='blue', alpha=0.5)\n",
    "\n",
    "plt.title('First 2 principal components after Linear PCA')\n",
    "plt.xlabel('PC1')\n",
    "plt.ylabel('PC2')\n",
    "plt.show()"
   ]
  },
  {
   "cell_type": "code",
   "execution_count": 169,
   "metadata": {},
   "outputs": [
    {
     "name": "stdout",
     "output_type": "stream",
     "text": [
      "Explained variance by component: [  9.41091025e-01   5.11039287e-02   6.56896554e-03   9.53593520e-04\n",
      "   2.32950471e-04   4.81461527e-05   1.34025500e-06   5.02536368e-08\n",
      "   1.92217550e-10   1.13576990e-10   7.96760149e-11   6.91158458e-11\n",
      "   3.19892372e-11   5.50075848e-13]\n",
      "    national_inv     lead_time  in_transit_qty  forecast_3_month  \\\n",
      "0   9.991043e-01  7.514517e-07    4.593585e-03      1.516855e-02   \n",
      "1  -3.803119e-02 -8.410611e-06    1.342265e-01      6.913668e-01   \n",
      "2   1.490757e-02 -2.684751e-06   -4.393153e-02      7.180772e-01   \n",
      "3  -2.686080e-03 -1.861772e-05    9.285113e-01     -7.368006e-02   \n",
      "4  -1.070867e-02 -5.193719e-05   -3.415981e-01     -2.227213e-02   \n",
      "5   1.794263e-04  4.129392e-05    3.477771e-02     -1.490652e-02   \n",
      "6   2.232827e-05 -2.020580e-04   -4.824963e-04      2.467572e-04   \n",
      "7  -1.639916e-06  9.999387e-01   -9.716166e-07      5.879203e-06   \n",
      "8  -4.655729e-08 -9.390245e-03    2.555709e-07      7.718516e-07   \n",
      "9   4.475160e-08  4.332673e-05    4.363138e-07      5.652828e-07   \n",
      "10  3.203909e-08  9.708637e-04   -1.012912e-07     -3.679249e-07   \n",
      "11 -6.070059e-08 -1.044487e-03    9.210950e-07      7.593444e-07   \n",
      "12  7.458364e-08 -5.682304e-03    1.047755e-06      4.031849e-07   \n",
      "13  5.707168e-11  1.740061e-05   -9.848403e-08     -3.095729e-08   \n",
      "\n",
      "    sales_3_month      min_bank  potential_issue  pieces_past_due  \\\n",
      "0    3.509613e-02  1.753679e-02     2.284946e-10     2.587960e-04   \n",
      "1    6.938745e-01  1.447325e-01     2.230419e-08     1.181131e-02   \n",
      "2   -6.899699e-01 -7.817899e-02     3.268939e-08     6.497290e-03   \n",
      "3   -1.722975e-01  3.188476e-01     9.474910e-08    -3.285659e-02   \n",
      "4   -1.072520e-01  9.332370e-01    -1.760795e-08     1.622958e-02   \n",
      "5   -7.647723e-03 -5.878100e-03     1.153238e-07     9.992366e-01   \n",
      "6   -2.301634e-04 -1.830752e-03     1.920994e-06     1.230214e-03   \n",
      "7   -4.556385e-06  5.530034e-05    -1.662121e-05    -4.071245e-05   \n",
      "8   -4.560749e-07  5.576888e-06     1.718639e-04    -4.289961e-06   \n",
      "9    2.910049e-07 -4.351476e-06     5.334408e-04    -3.689442e-07   \n",
      "10   9.040522e-08  1.442217e-06     2.956016e-04     2.396028e-06   \n",
      "11   1.999326e-08 -4.803618e-06    -4.328771e-04     1.323335e-06   \n",
      "12  -3.827376e-09 -3.898299e-06    -1.259680e-05    -4.776553e-07   \n",
      "13   2.266033e-08 -1.053277e-08     9.999997e-01    -1.145600e-07   \n",
      "\n",
      "    perf_6_month_avg  local_bo_qty     deck_risk     ppap_risk  stop_auto_buy  \\\n",
      "0       2.476801e-08      0.000016 -7.375110e-08 -7.392189e-10  -2.120753e-08   \n",
      "1       5.903106e-08      0.000305 -1.075096e-06 -1.132892e-07  -2.379568e-08   \n",
      "2      -7.502151e-08     -0.000509 -7.542268e-08 -4.744095e-07   8.407739e-07   \n",
      "3       2.966449e-07      0.001051 -2.632514e-06  7.926825e-07  -2.205372e-07   \n",
      "4       1.535781e-06      0.001505 -7.017402e-06  3.465079e-06  -4.481322e-06   \n",
      "5      -3.099163e-06     -0.001221  4.384114e-06  5.884708e-07  -1.001550e-06   \n",
      "6       3.078461e-05      0.999997 -7.499410e-05 -3.033878e-05  -4.276027e-06   \n",
      "7      -9.000897e-04      0.000203  8.614727e-03  5.305752e-04  -6.565834e-03   \n",
      "8      -6.068487e-02      0.000077  9.623810e-01  7.896772e-02  -7.879897e-02   \n",
      "9      -4.446345e-02      0.000025 -9.572799e-02  9.934357e-01  -2.063257e-02   \n",
      "10      8.408153e-01     -0.000014  1.789826e-01  7.664942e-02   1.228031e-01   \n",
      "11      5.359033e-01     -0.000024 -1.800516e-01 -2.916822e-02  -2.272019e-01   \n",
      "12     -1.329539e-02     -0.000009 -1.145670e-02 -1.109820e-02  -9.626113e-01   \n",
      "13      1.739959e-05     -0.000002 -2.451822e-04 -5.789258e-04  -1.223373e-04   \n",
      "\n",
      "      anymissing  \n",
      "0   1.235149e-07  \n",
      "1  -2.782391e-07  \n",
      "2  -8.651650e-07  \n",
      "3   1.580449e-07  \n",
      "4   2.237645e-06  \n",
      "5   1.113379e-06  \n",
      "6  -9.850710e-06  \n",
      "7   2.021152e-03  \n",
      "8   2.400140e-01  \n",
      "9   3.897141e-02  \n",
      "10 -4.899368e-01  \n",
      "11  7.924117e-01  \n",
      "12 -2.700295e-01  \n",
      "13  4.224365e-04  \n"
     ]
    }
   ],
   "source": [
    "from sklearn.decomposition import PCA\n",
    "X, y = merged_data.drop(['went_on_backorder'],axis=1).values, merged_data.went_on_backorder.values\n",
    "\n",
    "pca = PCA().fit(X)\n",
    "print ('Explained variance by component: %s' % pca.explained_variance_ratio_)\n",
    "print (pd.DataFrame(pca.components_,columns= ['national_inv','lead_time','in_transit_qty',\n",
    "            'forecast_3_month','sales_3_month','min_bank','potential_issue',\n",
    "            'pieces_past_due','perf_6_month_avg','local_bo_qty','deck_risk',\n",
    "            'ppap_risk','stop_auto_buy','anymissing']))"
   ]
  },
  {
   "cell_type": "code",
   "execution_count": 171,
   "metadata": {},
   "outputs": [],
   "source": [
    "pca_components=pd.DataFrame(pca.components_,columns= ['national_inv','lead_time','in_transit_qty',\n",
    "            'forecast_3_month','sales_3_month','min_bank','potential_issue',\n",
    "            'pieces_past_due','perf_6_month_avg','local_bo_qty','deck_risk',\n",
    "            'ppap_risk','stop_auto_buy','anymissing'])"
   ]
  },
  {
   "cell_type": "code",
   "execution_count": 172,
   "metadata": {},
   "outputs": [
    {
     "data": {
      "text/plain": [
       "<bound method NDFrame.head of     national_inv     lead_time  in_transit_qty  forecast_3_month  \\\n",
       "0   9.991043e-01  7.514517e-07    4.593585e-03      1.516855e-02   \n",
       "1  -3.803119e-02 -8.410611e-06    1.342265e-01      6.913668e-01   \n",
       "2   1.490757e-02 -2.684751e-06   -4.393153e-02      7.180772e-01   \n",
       "3  -2.686080e-03 -1.861772e-05    9.285113e-01     -7.368006e-02   \n",
       "4  -1.070867e-02 -5.193719e-05   -3.415981e-01     -2.227213e-02   \n",
       "5   1.794263e-04  4.129392e-05    3.477771e-02     -1.490652e-02   \n",
       "6   2.232827e-05 -2.020580e-04   -4.824963e-04      2.467572e-04   \n",
       "7  -1.639916e-06  9.999387e-01   -9.716166e-07      5.879203e-06   \n",
       "8  -4.655729e-08 -9.390245e-03    2.555709e-07      7.718516e-07   \n",
       "9   4.475160e-08  4.332673e-05    4.363138e-07      5.652828e-07   \n",
       "10  3.203909e-08  9.708637e-04   -1.012912e-07     -3.679249e-07   \n",
       "11 -6.070059e-08 -1.044487e-03    9.210950e-07      7.593444e-07   \n",
       "12  7.458364e-08 -5.682304e-03    1.047755e-06      4.031849e-07   \n",
       "13  5.707168e-11  1.740061e-05   -9.848403e-08     -3.095729e-08   \n",
       "\n",
       "    sales_3_month      min_bank  potential_issue  pieces_past_due  \\\n",
       "0    3.509613e-02  1.753679e-02     2.284946e-10     2.587960e-04   \n",
       "1    6.938745e-01  1.447325e-01     2.230419e-08     1.181131e-02   \n",
       "2   -6.899699e-01 -7.817899e-02     3.268939e-08     6.497290e-03   \n",
       "3   -1.722975e-01  3.188476e-01     9.474910e-08    -3.285659e-02   \n",
       "4   -1.072520e-01  9.332370e-01    -1.760795e-08     1.622958e-02   \n",
       "5   -7.647723e-03 -5.878100e-03     1.153238e-07     9.992366e-01   \n",
       "6   -2.301634e-04 -1.830752e-03     1.920994e-06     1.230214e-03   \n",
       "7   -4.556385e-06  5.530034e-05    -1.662121e-05    -4.071245e-05   \n",
       "8   -4.560749e-07  5.576888e-06     1.718639e-04    -4.289961e-06   \n",
       "9    2.910049e-07 -4.351476e-06     5.334408e-04    -3.689442e-07   \n",
       "10   9.040522e-08  1.442217e-06     2.956016e-04     2.396028e-06   \n",
       "11   1.999326e-08 -4.803618e-06    -4.328771e-04     1.323335e-06   \n",
       "12  -3.827376e-09 -3.898299e-06    -1.259680e-05    -4.776553e-07   \n",
       "13   2.266033e-08 -1.053277e-08     9.999997e-01    -1.145600e-07   \n",
       "\n",
       "    perf_6_month_avg  local_bo_qty     deck_risk     ppap_risk  stop_auto_buy  \\\n",
       "0       2.476801e-08      0.000016 -7.375110e-08 -7.392189e-10  -2.120753e-08   \n",
       "1       5.903106e-08      0.000305 -1.075096e-06 -1.132892e-07  -2.379568e-08   \n",
       "2      -7.502151e-08     -0.000509 -7.542268e-08 -4.744095e-07   8.407739e-07   \n",
       "3       2.966449e-07      0.001051 -2.632514e-06  7.926825e-07  -2.205372e-07   \n",
       "4       1.535781e-06      0.001505 -7.017402e-06  3.465079e-06  -4.481322e-06   \n",
       "5      -3.099163e-06     -0.001221  4.384114e-06  5.884708e-07  -1.001550e-06   \n",
       "6       3.078461e-05      0.999997 -7.499410e-05 -3.033878e-05  -4.276027e-06   \n",
       "7      -9.000897e-04      0.000203  8.614727e-03  5.305752e-04  -6.565834e-03   \n",
       "8      -6.068487e-02      0.000077  9.623810e-01  7.896772e-02  -7.879897e-02   \n",
       "9      -4.446345e-02      0.000025 -9.572799e-02  9.934357e-01  -2.063257e-02   \n",
       "10      8.408153e-01     -0.000014  1.789826e-01  7.664942e-02   1.228031e-01   \n",
       "11      5.359033e-01     -0.000024 -1.800516e-01 -2.916822e-02  -2.272019e-01   \n",
       "12     -1.329539e-02     -0.000009 -1.145670e-02 -1.109820e-02  -9.626113e-01   \n",
       "13      1.739959e-05     -0.000002 -2.451822e-04 -5.789258e-04  -1.223373e-04   \n",
       "\n",
       "      anymissing  \n",
       "0   1.235149e-07  \n",
       "1  -2.782391e-07  \n",
       "2  -8.651650e-07  \n",
       "3   1.580449e-07  \n",
       "4   2.237645e-06  \n",
       "5   1.113379e-06  \n",
       "6  -9.850710e-06  \n",
       "7   2.021152e-03  \n",
       "8   2.400140e-01  \n",
       "9   3.897141e-02  \n",
       "10 -4.899368e-01  \n",
       "11  7.924117e-01  \n",
       "12 -2.700295e-01  \n",
       "13  4.224365e-04  >"
      ]
     },
     "execution_count": 172,
     "metadata": {},
     "output_type": "execute_result"
    }
   ],
   "source": [
    "pca_components.head"
   ]
  },
  {
   "cell_type": "markdown",
   "metadata": {},
   "source": [
    "<b>most of the information is concentrated into the first component (94 percent)"
   ]
  },
  {
   "cell_type": "markdown",
   "metadata": {},
   "source": [
    "### Kernel tricks and nonlinear dimensionality reduction via RBF kernel PCA"
   ]
  },
  {
   "cell_type": "markdown",
   "metadata": {},
   "source": [
    "Most machine learning algorithms have been developed and statistically validated for linearly separable data. Popular examples are linear classifiers like Support Vector Machines (SVMs) or the (standard) Principal Component Analysis (PCA) for dimensionality reduction. However, most real world data requires nonlinear methods in order to perform tasks that involve the analysis and discovery of patterns successfully.<br>\n",
    "\n",
    "The focus of this is to briefly introduce the idea of kernel methods and to implement a Gaussian radius basis function (RBF) kernel that is used to perform nonlinear dimensionality reduction via BF kernel principal component analysis (kPCA).<br>\n",
    "Principal Component Analysis\n",
    "The main purpose of principal component analysis (PCA) is the analysis of data to identify patterns that represent the data “well.” The principal components can be understood as new axes of the dataset that maximize the variance along those axes (the eigenvectors of the covariance matrix). In other words, PCA aims to find the axes with maximum variances along which the data is most spread."
   ]
  },
  {
   "cell_type": "code",
   "execution_count": null,
   "metadata": {
    "collapsed": true
   },
   "outputs": [],
   "source": []
  },
  {
   "cell_type": "markdown",
   "metadata": {
    "_cell_guid": "ccbdbcf5-5e3c-4a1c-8d27-dd4dfb96d592",
    "_uuid": "d1439dd6e8cb03c5ff6c03ccd10d9f19b71448bd"
   },
   "source": [
    "# Model selection using evaluation metrics"
   ]
  },
  {
   "cell_type": "markdown",
   "metadata": {
    "_cell_guid": "ae549d08-cafd-4387-bd63-affe3d45eedd",
    "_uuid": "d33fa0e9e0606491715a215ec55ca234aceafa59"
   },
   "source": [
    " ## _K_-Fold Cross Validation\n",
    "In  _K_-fold cross-validation (CV), we randomly split the training dataset into  _K_\n",
    "  folds without replacement, where  _K−1_\n",
    "  folds are used for the model training and the remaining 1 fold is for testing. This procedure is repeated  _K_\n",
    "  times so that we obtain  _K_\n",
    "  models and  _K_ performance estimates. Then we take their **average** as the final performance estimate.\n"
   ]
  },
  {
   "cell_type": "markdown",
   "metadata": {
    "_cell_guid": "57dfae83-c721-4429-8b97-43df2834b620",
    "_uuid": "fcc2eda32ddbe7cdc1bb02c2d5a8acb4ea0eccea"
   },
   "source": [
    "###  Hierarchy of sampling-based methods.\n",
    "1. Under-sampling\n",
    "\n",
    " Under-sampling methods reduces the number of samples from the majority class in order to balance between majority and minority classes. However, the main drawback of under-sampling is that it may miss some important infomations.\n",
    "    \n",
    "2. Oversampling\n",
    "\n",
    " On the opposite of **Under-sampling**, Oversampling methods add the samples to original imbalanced data set.\n",
    "    - <b>Pros:</b> Leads to no information loss. \n",
    "    - <b>Cons:</b> Oversampling simply adds replicated observations in original data set, it ends up adding multiple observations of several types, thus leading to overfitting. Although, the training accuracy of such data set will be high, but the accuracy on unseen data will be worse.\n",
    "\n"
   ]
  },
  {
   "cell_type": "markdown",
   "metadata": {
    "_cell_guid": "14dbb2b9-e641-4291-b905-20f6fe4e92f6",
    "_uuid": "b3f0d1b18d70bf4014f08d609ab26d0ae89ed0f6"
   },
   "source": [
    "<h3>Average Sampling simply implement by scikit-learn</h3>\n",
    "Scikit-Learn provide [**StratifiedShuffleSplit**](http://scikit-learn.org/stable/modules/generated/sklearn.model_selection.StratifiedShuffleSplit.html#sklearn.model_selection.StratifiedShuffleSplit) API by preserving the percentage of samples for each class.\n",
    "\n",
    "-This cross-validation object is a merge of **StratifiedKFold** and **ShuffleSplit**, which returns stratified randomized folds. The folds are made by preserving the percentage of samples for each class.<br>\n",
    "-Stratification is the process of rearranging the data as to ensure each fold is a good representative of the whole. For example in a binary classification problem where each class comprises 50% of the data, it is best to arrange the data such that in every fold, each class comprises around half the instances.<br><b>Example:</b><br>we have a dataset with 80 class 0 records and 20 class 1 records. We may gain a mean response value of (80(0)+20(1))/100 = 0.2 and we want 0.2 to be the mean response value of all folds. This is also a quick way in EDA to measure if the dataset given is imbalanced instead of counting."
   ]
  },
  {
   "cell_type": "code",
   "execution_count": 133,
   "metadata": {
    "_cell_guid": "b6c44bf0-a31f-4b74-b557-fe80567ccbcc",
    "_uuid": "2670a89305db25d72c4428367b262502c9c0d34d",
    "collapsed": true
   },
   "outputs": [],
   "source": [
    "from sklearn.model_selection import StratifiedShuffleSplit\n",
    "from sklearn.metrics import roc_curve, auc\n",
    "from sklearn.linear_model import LogisticRegression\n",
    "from sklearn.metrics import confusion_matrix\n",
    "from sklearn.metrics import classification_report\n",
    "from matplotlib import cm\n",
    "from sklearn.ensemble import RandomForestClassifier"
   ]
  },
  {
   "cell_type": "code",
   "execution_count": 134,
   "metadata": {
    "_cell_guid": "ebbd83f3-ae0a-4ced-a26e-b41526616e6f",
    "_uuid": "334cee812f4318ddd30d1998cd02b70e920d8d85"
   },
   "outputs": [
    {
     "data": {
      "text/plain": [
       "10"
      ]
     },
     "execution_count": 134,
     "metadata": {},
     "output_type": "execute_result"
    }
   ],
   "source": [
    "X = merged_data.drop('went_on_backorder', axis=1).values\n",
    "y = merged_data['went_on_backorder'].values\n",
    "sss = StratifiedShuffleSplit(n_splits=10, test_size=0.3, random_state=0)\n",
    "sss.get_n_splits(X, y)"
   ]
  },
  {
   "cell_type": "code",
   "execution_count": 135,
   "metadata": {
    "_cell_guid": "55d41720-5937-4ece-9e57-c4eb1c9db140",
    "_uuid": "d69cf6279f94a10ddf390e1c8ccbe43eaa2fe7ce",
    "collapsed": true
   },
   "outputs": [],
   "source": [
    "for train_index, test_index in sss.split(X, y):\n",
    "    X_train, X_test = X[train_index], X[test_index]\n",
    "    y_train, y_test = y[train_index], y[test_index]"
   ]
  },
  {
   "cell_type": "code",
   "execution_count": 136,
   "metadata": {},
   "outputs": [
    {
     "name": "stdout",
     "output_type": "stream",
     "text": [
      "1350954 578981 1350954 578981\n",
      "(1350954, 14) (578981, 14) 1350954 578981\n"
     ]
    }
   ],
   "source": [
    "print(len(X_train),len(X_test),len(y_train),len(y_test))\n",
    "print(X_train.shape,X_test.shape,len(y_train),len(y_test))"
   ]
  },
  {
   "cell_type": "code",
   "execution_count": 137,
   "metadata": {},
   "outputs": [
    {
     "data": {
      "text/plain": [
       "0.0072445101757720844"
      ]
     },
     "execution_count": 137,
     "metadata": {},
     "output_type": "execute_result"
    }
   ],
   "source": [
    "#Percentage of class: 1 in y_train and y_test respectively\n",
    "np.sum(y_train)/len(y_train)"
   ]
  },
  {
   "cell_type": "code",
   "execution_count": 138,
   "metadata": {},
   "outputs": [
    {
     "data": {
      "text/plain": [
       "0.007243761021518841"
      ]
     },
     "execution_count": 138,
     "metadata": {},
     "output_type": "execute_result"
    }
   ],
   "source": [
    "np.sum(y_test)/len(y_test)"
   ]
  },
  {
   "cell_type": "markdown",
   "metadata": {},
   "source": [
    "# Modeling"
   ]
  },
  {
   "cell_type": "markdown",
   "metadata": {},
   "source": [
    "# Random Forest"
   ]
  },
  {
   "cell_type": "markdown",
   "metadata": {
    "_cell_guid": "dafb24df-c672-4e1c-a4e5-fe35de07768d",
    "_uuid": "7e4a14cb2b1fc481b5a8b8d5192752f163a11110"
   },
   "source": [
    "### ROC curves, Area-Under-Curve (AUC)"
   ]
  },
  {
   "cell_type": "code",
   "execution_count": 139,
   "metadata": {
    "_cell_guid": "f9808a61-a2fc-48d0-ac67-7b4170deccdd",
    "_uuid": "2349a9091c9d78a3b8aa51bc41c46eaab149cf49"
   },
   "outputs": [
    {
     "name": "stdout",
     "output_type": "stream",
     "text": [
      "MaxDepth = 2.00  accuracy = 0.99   AUC = 0.8790\n",
      "MaxDepth = 4.00  accuracy = 0.99   AUC = 0.8960\n",
      "MaxDepth = 6.00  accuracy = 0.99   AUC = 0.9106\n",
      "MaxDepth = 8.00  accuracy = 0.99   AUC = 0.9225\n",
      "MaxDepth = 10.00  accuracy = 0.99   AUC = 0.9292\n",
      "MaxDepth = 15.00  accuracy = 0.99   AUC = 0.9416\n",
      "MaxDepth = 20.00  accuracy = 0.99   AUC = 0.9341\n"
     ]
    },
    {
     "name": "stderr",
     "output_type": "stream",
     "text": [
      "C:\\Users\\DELL LAPTOP\\Anaconda3\\lib\\site-packages\\matplotlib\\cbook\\deprecation.py:106: MatplotlibDeprecationWarning: Adding an axes using the same arguments as a previous axes currently reuses the earlier instance.  In a future version, a new instance will always be created and returned.  Meanwhile, this warning can be suppressed, and the future behavior ensured, by passing a unique label to each axes instance.\n",
      "  warnings.warn(message, mplDeprecation, stacklevel=1)\n"
     ]
    },
    {
     "data": {
      "image/png": "[encoded data removed]",
      "text/plain": [
       "<matplotlib.figure.Figure at 0x22020e7198>"
      ]
     },
     "metadata": {},
     "output_type": "display_data"
    }
   ],
   "source": [
    "for g in [2, 4, 6,8,10,15,20]:\n",
    "    rf = RandomForestClassifier(max_depth=g,random_state=0).fit(X_train, y_train)\n",
    "    y_score_rf = rf.predict_proba(X_test)\n",
    "    fpr_rf, tpr_rf, _ = roc_curve(y_test, y_score_rf[:,1])\n",
    "    roc_auc_rf = auc(fpr_rf, tpr_rf)\n",
    "    accuracy_rf = rf.score(X_test, y_test)\n",
    "    print(\"MaxDepth = {:.4f}  accuracy = {:.4f}   AUC = {:.4f}\".format(g, accuracy_rf, \n",
    "                                                                    roc_auc_rf))\n",
    "    plt.plot(fpr_rf, tpr_rf, lw=3, alpha=0.7, \n",
    "             label='rf (Depth = {:0.2f}, area = {:0.4f})'.format(g, roc_auc_rf))\n",
    "\n",
    "plt.xlabel('False Positive Rate', fontsize=16)\n",
    "plt.ylabel('True Positive Rate (Recall)', fontsize=16)\n",
    "plt.plot([0, 1], [0, 1], color='k', lw=0.5, linestyle='--')\n",
    "plt.legend(loc=\"lower right\", fontsize=11)\n",
    "plt.title('ROC curve: (Randomforest classifier)', fontsize=16)\n",
    "plt.axes().set_aspect('equal')\n",
    "plt.show()"
   ]
  },
  {
   "cell_type": "code",
   "execution_count": 140,
   "metadata": {},
   "outputs": [
    {
     "name": "stdout",
     "output_type": "stream",
     "text": [
      "min_samples_split = 200.0000  accuracy = 0.9928   AUC = 0.9406\n",
      "min_samples_split = 300.0000  accuracy = 0.9928   AUC = 0.9376\n",
      "min_samples_split = 400.0000  accuracy = 0.9928   AUC = 0.9392\n",
      "min_samples_split = 500.0000  accuracy = 0.9928   AUC = 0.9390\n",
      "min_samples_split = 600.0000  accuracy = 0.9928   AUC = 0.9379\n",
      "min_samples_split = 800.0000  accuracy = 0.9928   AUC = 0.9382\n",
      "min_samples_split = 1000.0000  accuracy = 0.9928   AUC = 0.9369\n",
      "min_samples_split = 1500.0000  accuracy = 0.9928   AUC = 0.9363\n"
     ]
    },
    {
     "name": "stderr",
     "output_type": "stream",
     "text": [
      "C:\\Users\\DELL LAPTOP\\Anaconda3\\lib\\site-packages\\matplotlib\\cbook\\deprecation.py:106: MatplotlibDeprecationWarning: Adding an axes using the same arguments as a previous axes currently reuses the earlier instance.  In a future version, a new instance will always be created and returned.  Meanwhile, this warning can be suppressed, and the future behavior ensured, by passing a unique label to each axes instance.\n",
      "  warnings.warn(message, mplDeprecation, stacklevel=1)\n"
     ]
    },
    {
     "data": {
      "image/png": "[encoded data removed]",
      "text/plain": [
       "<matplotlib.figure.Figure at 0x220292f160>"
      ]
     },
     "metadata": {},
     "output_type": "display_data"
    }
   ],
   "source": [
    "for g in [200,300,400,500,600,800,1000,1500]:\n",
    "    rf = RandomForestClassifier(max_depth=15,random_state=0,min_samples_split=g).fit(X_train, y_train)\n",
    "    y_score_rf = rf.predict_proba(X_test)\n",
    "    fpr_rf, tpr_rf, _ = roc_curve(y_test, y_score_rf[:,1])\n",
    "    roc_auc_rf = auc(fpr_rf, tpr_rf)\n",
    "    accuracy_rf = rf.score(X_test, y_test)\n",
    "    print(\"min_samples_split = {:.4f}  accuracy = {:.4f}   AUC = {:.4f}\".format(g, accuracy_rf, \n",
    "                                                                    roc_auc_rf))\n",
    "    plt.plot(fpr_rf, tpr_rf, lw=3, alpha=0.7, \n",
    "             label='rf (min_samples_split = {:0.2f}, area = {:0.4f})'.format(g, roc_auc_rf))\n",
    "\n",
    "plt.xlabel('False Positive Rate', fontsize=16)\n",
    "plt.ylabel('True Positive Rate (Recall)', fontsize=16)\n",
    "plt.plot([0, 1], [0, 1], color='k', lw=0.5, linestyle='--')\n",
    "plt.legend(loc=\"lower right\", fontsize=11)\n",
    "plt.title('ROC curve: (Randomforest classifier)', fontsize=16)\n",
    "plt.axes().set_aspect('equal')\n",
    "plt.show()"
   ]
  },
  {
   "cell_type": "code",
   "execution_count": 142,
   "metadata": {
    "_cell_guid": "ca54a982-5f3f-46b0-9f24-1fee5dc5fa35",
    "_uuid": "9fbbd4888f3a647eaf90452ecfee71eec9ff5f57"
   },
   "outputs": [
    {
     "name": "stdout",
     "output_type": "stream",
     "text": [
      "0.992756238978\n",
      "0.940627953244\n",
      "Wall time: 1min 48s\n"
     ]
    }
   ],
   "source": [
    "%%time\n",
    "from sklearn.metrics import precision_recall_curve\n",
    "from sklearn.metrics import average_precision_score\n",
    "rf = RandomForestClassifier(max_depth=15,random_state=0,min_samples_split = 200).fit(X_train, y_train)\n",
    "y_score_rf = rf.predict_proba(X_test)\n",
    "fpr_rf, tpr_rf, _ = roc_curve(y_test, y_score_rf[:,1])\n",
    "roc_auc_rf = auc(fpr_rf, tpr_rf)\n",
    "accuracy_rf = rf.score(X_test, y_test)\n",
    "print(accuracy_rf)\n",
    "print(roc_auc_rf)"
   ]
  },
  {
   "cell_type": "code",
   "execution_count": 144,
   "metadata": {},
   "outputs": [
    {
     "name": "stdout",
     "output_type": "stream",
     "text": [
      "MaxDepth = 15.0000 min_samples_split = 200.0000 accuracy = 0.99   AUC = 0.9406\n"
     ]
    },
    {
     "name": "stderr",
     "output_type": "stream",
     "text": [
      "C:\\Users\\DELL LAPTOP\\Anaconda3\\lib\\site-packages\\matplotlib\\cbook\\deprecation.py:106: MatplotlibDeprecationWarning: Adding an axes using the same arguments as a previous axes currently reuses the earlier instance.  In a future version, a new instance will always be created and returned.  Meanwhile, this warning can be suppressed, and the future behavior ensured, by passing a unique label to each axes instance.\n",
      "  warnings.warn(message, mplDeprecation, stacklevel=1)\n"
     ]
    },
    {
     "data": {
      "image/png": "[encoded data removed]",
      "text/plain": [
       "<matplotlib.figure.Figure at 0x22029ecba8>"
      ]
     },
     "metadata": {},
     "output_type": "display_data"
    }
   ],
   "source": [
    "print(\"MaxDepth = {:.4f} min_samples_split = {:.4f} accuracy = {:.2f}   AUC = {:.4f}\".format(15,200, accuracy_rf, roc_auc_rf))\n",
    "plt.plot(fpr_rf, tpr_rf, lw=3, alpha=0.7, label='rf (MaxDepth = {:0.2f},min_samples_split = {:.4f}, area = {:0.4f})'.format(15,200,roc_auc_rf))\n",
    "plt.xlabel('False Positive Rate', fontsize=16)\n",
    "plt.ylabel('True Positive Rate (Recall)', fontsize=16)\n",
    "plt.plot([0, 1], [0, 1], color='k', lw=0.5, linestyle='--')\n",
    "plt.legend(loc=\"lower right\", fontsize=11)\n",
    "plt.title('ROC curve: (Randomforest classifier)', fontsize=16)\n",
    "plt.axes().set_aspect('equal')\n",
    "plt.show()"
   ]
  },
  {
   "cell_type": "code",
   "execution_count": 145,
   "metadata": {},
   "outputs": [
    {
     "name": "stdout",
     "output_type": "stream",
     "text": [
      "Average precision-recall score: 0.20\n"
     ]
    },
    {
     "data": {
      "image/png": "[encoded data removed]",
      "text/plain": [
       "<matplotlib.figure.Figure at 0x2202a32d30>"
      ]
     },
     "metadata": {},
     "output_type": "display_data"
    }
   ],
   "source": [
    "precision, recall, thresholds = precision_recall_curve(y_test, y_score_rf[:,1])\n",
    "average_precision = average_precision_score(y_test, y_score_rf[:,1])\n",
    "print('Average precision-recall score: {0:0.2f}'.format(\n",
    "      average_precision))\n",
    "#plot Precision and Recall for a given threshold.\n",
    "plt.title('Precision and Recall')\n",
    "plt.plot(thresholds,precision[1:],'purple',label='Precision')\n",
    "plt.plot(thresholds,recall[1:],'orange', label='Recall')\n",
    "plt.axvline(x=0.05,linestyle=\":\")\n",
    "plt.legend(loc=2,bbox_to_anchor=(1.05, 1))\n",
    "plt.xlim([0,1])\n",
    "plt.ylim([0,1])\n",
    "plt.ylabel('Precision and Recall Values')\n",
    "plt.xlabel('Threshold')\n",
    "plt.show()"
   ]
  },
  {
   "cell_type": "code",
   "execution_count": 146,
   "metadata": {},
   "outputs": [
    {
     "name": "stdout",
     "output_type": "stream",
     "text": [
      "Confusion matrix:\n",
      "Predicted       0      1  __all__\n",
      "Actual                           \n",
      "0          559169  15618   574787\n",
      "1            1766   2428     4194\n",
      "__all__    560935  18046   578981\n"
     ]
    }
   ],
   "source": [
    "y_prob_test=pd.DataFrame(y_score_rf[:,1],columns=['prob'])\n",
    "y_prob_test_class=y_prob_test['prob'].apply(lambda x: 0 if x < 0.05 else 1)\n",
    "y_prob_test_class=np.array(y_prob_test_class)\n",
    "#Confusion Matrix\n",
    "from pandas_ml import ConfusionMatrix\n",
    "confusion_matrix = ConfusionMatrix(y_test, y_prob_test_class)\n",
    "print(\"Confusion matrix:\\n%s\" % confusion_matrix)"
   ]
  },
  {
   "cell_type": "code",
   "execution_count": 147,
   "metadata": {},
   "outputs": [
    {
     "data": {
      "text/plain": [
       "0.5789222699093943"
      ]
     },
     "execution_count": 147,
     "metadata": {},
     "output_type": "execute_result"
    }
   ],
   "source": [
    "#Recall\n",
    "2428/4194"
   ]
  },
  {
   "cell_type": "code",
   "execution_count": 148,
   "metadata": {},
   "outputs": [
    {
     "data": {
      "text/plain": [
       "0.1345450515349662"
      ]
     },
     "execution_count": 148,
     "metadata": {},
     "output_type": "execute_result"
    }
   ],
   "source": [
    "#Precision\n",
    "2428/18046"
   ]
  },
  {
   "cell_type": "markdown",
   "metadata": {},
   "source": [
    "# CART(Classification and Regression Tree)"
   ]
  },
  {
   "cell_type": "code",
   "execution_count": 145,
   "metadata": {
    "collapsed": true
   },
   "outputs": [],
   "source": [
    "from sklearn.tree import DecisionTreeClassifier, export_graphviz"
   ]
  },
  {
   "cell_type": "markdown",
   "metadata": {},
   "source": [
    "#### Merged Data"
   ]
  },
  {
   "cell_type": "code",
   "execution_count": 154,
   "metadata": {},
   "outputs": [
    {
     "name": "stdout",
     "output_type": "stream",
     "text": [
      "MaxDepth = 200.0000  accuracy = 0.9927   AUC = 0.8826\n",
      "MaxDepth = 250.0000  accuracy = 0.9927   AUC = 0.8926\n",
      "MaxDepth = 300.0000  accuracy = 0.9927   AUC = 0.8977\n",
      "MaxDepth = 400.0000  accuracy = 0.9928   AUC = 0.9076\n",
      "MaxDepth = 500.0000  accuracy = 0.9928   AUC = 0.9121\n",
      "MaxDepth = 600.0000  accuracy = 0.9927   AUC = 0.9188\n",
      "MaxDepth = 700.0000  accuracy = 0.9927   AUC = 0.9206\n",
      "MaxDepth = 800.0000  accuracy = 0.9927   AUC = 0.9222\n",
      "MaxDepth = 900.0000  accuracy = 0.9927   AUC = 0.9234\n",
      "MaxDepth = 1000.0000  accuracy = 0.9927   AUC = 0.9247\n",
      "MaxDepth = 1200.0000  accuracy = 0.9927   AUC = 0.9268\n",
      "MaxDepth = 1500.0000  accuracy = 0.9927   AUC = 0.9272\n"
     ]
    },
    {
     "name": "stderr",
     "output_type": "stream",
     "text": [
      "C:\\Users\\DELL LAPTOP\\Anaconda3\\lib\\site-packages\\matplotlib\\cbook\\deprecation.py:106: MatplotlibDeprecationWarning: Adding an axes using the same arguments as a previous axes currently reuses the earlier instance.  In a future version, a new instance will always be created and returned.  Meanwhile, this warning can be suppressed, and the future behavior ensured, by passing a unique label to each axes instance.\n",
      "  warnings.warn(message, mplDeprecation, stacklevel=1)\n"
     ]
    },
    {
     "data": {
      "image/png": "[encoded data removed]",
      "text/plain": [
       "<matplotlib.figure.Figure at 0xf68163cf28>"
      ]
     },
     "metadata": {},
     "output_type": "display_data"
    }
   ],
   "source": [
    "for g in [200,250,300,400,500,600,700,800,900,1000,1200,1500]:\n",
    "    dt = DecisionTreeClassifier(criterion = \"gini\",min_samples_split=g, random_state=99).fit(X_train, y_train)\n",
    "    y_score_dt = dt.predict_proba(X_test)\n",
    "    fpr_dt, tpr_dt, _ = roc_curve(y_test, y_score_dt[:,1])\n",
    "    roc_auc_dt = auc(fpr_dt, tpr_dt)\n",
    "    accuracy_dt = dt.score(X_test, y_test)\n",
    "    print(\"MaxDepth = {:.4f}  accuracy = {:.4f}   AUC = {:.4f}\".format(g, accuracy_dt, \n",
    "                                                                    roc_auc_dt))\n",
    "    plt.plot(fpr_dt, tpr_dt, lw=3, alpha=0.7, \n",
    "             label='rf (Depth = {:0.4f}, area = {:0.4f})'.format(g, roc_auc_dt))\n",
    "\n",
    "plt.xlabel('False Positive Rate', fontsize=16)\n",
    "plt.ylabel('True Positive Rate (Recall)', fontsize=16)\n",
    "plt.plot([0, 1], [0, 1], color='k', lw=0.5, linestyle='--')\n",
    "plt.legend(loc=\"lower right\", fontsize=11)\n",
    "plt.title('ROC curve: (Randomforest classifier)', fontsize=16)\n",
    "plt.axes().set_aspect('equal')\n",
    "plt.show()"
   ]
  },
  {
   "cell_type": "code",
   "execution_count": 161,
   "metadata": {},
   "outputs": [
    {
     "name": "stdout",
     "output_type": "stream",
     "text": [
      "0.99273551291\n",
      "0.920566351589\n",
      "MaxDepth = 700.0000  accuracy = 0.9927   AUC = 0.9206\n"
     ]
    }
   ],
   "source": [
    "#optimised tree training\n",
    "dt = DecisionTreeClassifier(criterion = \"gini\",min_samples_split=700, random_state=99).fit(X_train, y_train)\n",
    "y_score_dt = dt.predict_proba(X_test)\n",
    "fpr_dt, tpr_dt, _ = roc_curve(y_test, y_score_dt[:,1])\n",
    "roc_auc_dt = auc(fpr_dt, tpr_dt)\n",
    "accuracy_dt = dt.score(X_test, y_test)\n",
    "print(accuracy_dt)\n",
    "print(roc_auc_dt)\n",
    "print(\"MaxDepth = {:.4f}  accuracy = {:.4f}   AUC = {:.4f}\".format(700, accuracy_dt, roc_auc_dt))"
   ]
  },
  {
   "cell_type": "code",
   "execution_count": 162,
   "metadata": {},
   "outputs": [
    {
     "name": "stderr",
     "output_type": "stream",
     "text": [
      "C:\\Users\\DELL LAPTOP\\Anaconda3\\lib\\site-packages\\matplotlib\\cbook\\deprecation.py:106: MatplotlibDeprecationWarning: Adding an axes using the same arguments as a previous axes currently reuses the earlier instance.  In a future version, a new instance will always be created and returned.  Meanwhile, this warning can be suppressed, and the future behavior ensured, by passing a unique label to each axes instance.\n",
      "  warnings.warn(message, mplDeprecation, stacklevel=1)\n"
     ]
    },
    {
     "data": {
      "image/png": "[encoded data removed]",
      "text/plain": [
       "<matplotlib.figure.Figure at 0xf682766470>"
      ]
     },
     "metadata": {},
     "output_type": "display_data"
    }
   ],
   "source": [
    "plt.plot(fpr_dt, tpr_dt, lw=3, alpha=0.7, label='dt (Depth = {:0.2f}, area = {:0.4f})'.format(700, roc_auc_dt))\n",
    "plt.xlabel('False Positive Rate', fontsize=16)\n",
    "plt.ylabel('True Positive Rate (Recall)', fontsize=16)\n",
    "plt.plot([0, 1], [0, 1], color='k', lw=0.5, linestyle='--')\n",
    "plt.legend(loc=\"lower right\", fontsize=11)\n",
    "plt.title('ROC curve: (Randomforest classifier)', fontsize=16)\n",
    "plt.axes().set_aspect('equal')\n",
    "plt.show()"
   ]
  },
  {
   "cell_type": "code",
   "execution_count": 163,
   "metadata": {},
   "outputs": [
    {
     "name": "stdout",
     "output_type": "stream",
     "text": [
      "Average precision-recall score: 0.18\n"
     ]
    },
    {
     "data": {
      "image/png": "[encoded data removed]",
      "text/plain": [
       "<matplotlib.figure.Figure at 0xf68166a400>"
      ]
     },
     "metadata": {},
     "output_type": "display_data"
    }
   ],
   "source": [
    "precision, recall, thresholds = precision_recall_curve(y_test, y_score_dt[:,1])\n",
    "average_precision = average_precision_score(y_test, y_score_dt[:,1])\n",
    "print('Average precision-recall score: {0:0.2f}'.format(\n",
    "      average_precision))\n",
    "#plot Precision and Recall for a given threshold.\n",
    "plt.title('Precision and Recall')\n",
    "plt.plot(thresholds,precision[1:],'purple',label='Precision')\n",
    "plt.plot(thresholds,recall[1:],'orange', label='Recall')\n",
    "plt.axvline(x=0.05,linestyle=\":\")\n",
    "plt.legend(loc=2,bbox_to_anchor=(1.05, 1))\n",
    "plt.xlim([0,1])\n",
    "plt.ylim([0,1])\n",
    "plt.ylabel('Precision and Recall Values')\n",
    "plt.xlabel('Threshold')\n",
    "plt.show()"
   ]
  },
  {
   "cell_type": "code",
   "execution_count": 164,
   "metadata": {},
   "outputs": [
    {
     "name": "stdout",
     "output_type": "stream",
     "text": [
      "Confusion matrix:\n",
      "Predicted       0      1  __all__\n",
      "Actual                           \n",
      "0          556059  18728   574787\n",
      "1            1618   2576     4194\n",
      "__all__    557677  21304   578981\n"
     ]
    }
   ],
   "source": [
    "y_prob_test=pd.DataFrame(y_score_dt[:,1],columns=['prob'])\n",
    "y_prob_test_class=y_prob_test['prob'].apply(lambda x: 0 if x < 0.05 else 1)\n",
    "y_prob_test_class=np.array(y_prob_test_class)\n",
    "#Confusion Matrix\n",
    "from pandas_ml import ConfusionMatrix\n",
    "confusion_matrix = ConfusionMatrix(y_test, y_prob_test_class)\n",
    "print(\"Confusion matrix:\\n%s\" % confusion_matrix)"
   ]
  },
  {
   "cell_type": "code",
   "execution_count": 166,
   "metadata": {},
   "outputs": [
    {
     "name": "stdout",
     "output_type": "stream",
     "text": [
      "precision: 0.1209162598573038\n",
      "recall 0.614210777300906\n"
     ]
    }
   ],
   "source": [
    "print('precision:',(2576/21304))\n",
    "print('recall',(2576/4194))"
   ]
  },
  {
   "cell_type": "markdown",
   "metadata": {},
   "source": [
    "# Adaboosted decision tree"
   ]
  },
  {
   "cell_type": "markdown",
   "metadata": {},
   "source": [
    "<b>Tuned Adaboost"
   ]
  },
  {
   "cell_type": "code",
   "execution_count": 171,
   "metadata": {
    "collapsed": true
   },
   "outputs": [],
   "source": [
    "from sklearn.ensemble import AdaBoostClassifier\n",
    "from sklearn.tree import DecisionTreeClassifier"
   ]
  },
  {
   "cell_type": "code",
   "execution_count": 173,
   "metadata": {},
   "outputs": [
    {
     "name": "stdout",
     "output_type": "stream",
     "text": [
      "MaxDepth = 10.0000  accuracy = 0.9928   AUC = 0.8942\n",
      "MaxDepth = 20.0000  accuracy = 0.9927   AUC = 0.9029\n",
      "MaxDepth = 30.0000  accuracy = 0.9927   AUC = 0.9043\n",
      "MaxDepth = 40.0000  accuracy = 0.9926   AUC = 0.9057\n",
      "MaxDepth = 50.0000  accuracy = 0.9925   AUC = 0.9061\n",
      "MaxDepth = 60.0000  accuracy = 0.9926   AUC = 0.9063\n",
      "MaxDepth = 70.0000  accuracy = 0.9925   AUC = 0.9064\n",
      "MaxDepth = 80.0000  accuracy = 0.9926   AUC = 0.9066\n",
      "MaxDepth = 100.0000  accuracy = 0.9925   AUC = 0.9069\n",
      "MaxDepth = 150.0000  accuracy = 0.9925   AUC = 0.9069\n",
      "MaxDepth = 200.0000  accuracy = 0.9925   AUC = 0.9070\n",
      "MaxDepth = 250.0000  accuracy = 0.9925   AUC = 0.9071\n",
      "MaxDepth = 300.0000  accuracy = 0.9926   AUC = 0.9071\n",
      "MaxDepth = 400.0000  accuracy = 0.9926   AUC = 0.9072\n",
      "MaxDepth = 500.0000  accuracy = 0.9926   AUC = 0.9073\n",
      "MaxDepth = 600.0000  accuracy = 0.9926   AUC = 0.9074\n"
     ]
    },
    {
     "name": "stderr",
     "output_type": "stream",
     "text": [
      "C:\\Users\\DELL LAPTOP\\Anaconda3\\lib\\site-packages\\matplotlib\\cbook\\deprecation.py:106: MatplotlibDeprecationWarning: Adding an axes using the same arguments as a previous axes currently reuses the earlier instance.  In a future version, a new instance will always be created and returned.  Meanwhile, this warning can be suppressed, and the future behavior ensured, by passing a unique label to each axes instance.\n",
      "  warnings.warn(message, mplDeprecation, stacklevel=1)\n"
     ]
    },
    {
     "data": {
      "image/png": "[encoded data removed]",
      "text/plain": [
       "<matplotlib.figure.Figure at 0xf68db894e0>"
      ]
     },
     "metadata": {},
     "output_type": "display_data"
    }
   ],
   "source": [
    "for g in [10,20,30,40,50,60,70,80,100,150,200,250,300,400,500,600]:\n",
    "    ada_dt=AdaBoostClassifier(DecisionTreeClassifier(criterion = \"gini\",min_samples_split=700, random_state=99,max_depth=1),algorithm=\"SAMME\",n_estimators=g).fit(X_train, y_train)\n",
    "    y_score_ada_dt = ada_dt.predict_proba(X_test)\n",
    "    fpr_ada_dt, tpr_ada_dt, _ = roc_curve(y_test, y_score_ada_dt[:,1])\n",
    "    roc_auc_ada_dt = auc(fpr_ada_dt, tpr_ada_dt)\n",
    "    accuracy_ada_dt = ada_dt.score(X_test, y_test)\n",
    "    print(\"MaxDepth = {:.4f}  accuracy = {:.4f}   AUC = {:.4f}\".format(g, accuracy_ada_dt, \n",
    "                                                                    roc_auc_ada_dt))\n",
    "    plt.plot(fpr_ada_dt, tpr_ada_dt, lw=3, alpha=0.7, \n",
    "             label='rf (Depth = {:0.4f}, area = {:0.4f})'.format(g, roc_auc_ada_dt))\n",
    "\n",
    "plt.xlabel('False Positive Rate', fontsize=16)\n",
    "plt.ylabel('True Positive Rate (Recall)', fontsize=16)\n",
    "plt.plot([0, 1], [0, 1], color='k', lw=0.5, linestyle='--')\n",
    "plt.legend(loc=\"lower right\", fontsize=11)\n",
    "plt.title('ROC curve: (ada_boost_design_tree classifier)', fontsize=16)\n",
    "plt.axes().set_aspect('equal')\n",
    "plt.show()"
   ]
  },
  {
   "cell_type": "code",
   "execution_count": 178,
   "metadata": {},
   "outputs": [
    {
     "name": "stdout",
     "output_type": "stream",
     "text": [
      "MaxDepth = 200.0000  accuracy = 0.9925   AUC = 0.9070\n"
     ]
    },
    {
     "name": "stderr",
     "output_type": "stream",
     "text": [
      "C:\\Users\\DELL LAPTOP\\Anaconda3\\lib\\site-packages\\matplotlib\\cbook\\deprecation.py:106: MatplotlibDeprecationWarning: Adding an axes using the same arguments as a previous axes currently reuses the earlier instance.  In a future version, a new instance will always be created and returned.  Meanwhile, this warning can be suppressed, and the future behavior ensured, by passing a unique label to each axes instance.\n",
      "  warnings.warn(message, mplDeprecation, stacklevel=1)\n"
     ]
    },
    {
     "data": {
      "image/png": "[encoded data removed]",
      "text/plain": [
       "<matplotlib.figure.Figure at 0xf68276deb8>"
      ]
     },
     "metadata": {},
     "output_type": "display_data"
    },
    {
     "name": "stdout",
     "output_type": "stream",
     "text": [
      "Wall time: 25min 12s\n"
     ]
    }
   ],
   "source": [
    "%%time\n",
    "#optimised adaboosted tree training\n",
    "ada_dt=AdaBoostClassifier(DecisionTreeClassifier(criterion = \"gini\",min_samples_split=700, random_state=99,max_depth=1),algorithm=\"SAMME\",n_estimators=200).fit(X_train, y_train)\n",
    "y_score_ada_dt = ada_dt.predict_proba(X_test)\n",
    "fpr_ada_dt, tpr_ada_dt, _ = roc_curve(y_test, y_score_ada_dt[:,1])\n",
    "roc_auc_ada_dt = auc(fpr_ada_dt, tpr_ada_dt)\n",
    "accuracy_ada_dt = ada_dt.score(X_test, y_test)"
   ]
  },
  {
   "cell_type": "code",
   "execution_count": 179,
   "metadata": {},
   "outputs": [
    {
     "name": "stdout",
     "output_type": "stream",
     "text": [
      "MaxDepth = 200.0000  accuracy = 0.9925   AUC = 0.9070\n"
     ]
    },
    {
     "name": "stderr",
     "output_type": "stream",
     "text": [
      "C:\\Users\\DELL LAPTOP\\Anaconda3\\lib\\site-packages\\matplotlib\\cbook\\deprecation.py:106: MatplotlibDeprecationWarning: Adding an axes using the same arguments as a previous axes currently reuses the earlier instance.  In a future version, a new instance will always be created and returned.  Meanwhile, this warning can be suppressed, and the future behavior ensured, by passing a unique label to each axes instance.\n",
      "  warnings.warn(message, mplDeprecation, stacklevel=1)\n"
     ]
    },
    {
     "data": {
      "image/png": "[encoded data removed]",
      "text/plain": [
       "<matplotlib.figure.Figure at 0xf6b1606a90>"
      ]
     },
     "metadata": {},
     "output_type": "display_data"
    }
   ],
   "source": [
    "print(\"MaxDepth = {:.4f}  accuracy = {:.4f}   AUC = {:.4f}\".format(200, accuracy_ada_dt, \n",
    "                                                                    roc_auc_ada_dt))\n",
    "plt.plot(fpr_ada_dt, tpr_ada_dt, lw=3, alpha=0.7, \n",
    "             label='(Depth = {:0.4f}, area = {:0.4f})'.format(200, roc_auc_ada_dt))\n",
    "\n",
    "plt.xlabel('False Positive Rate', fontsize=16)\n",
    "plt.ylabel('True Positive Rate (Recall)', fontsize=16)\n",
    "plt.plot([0, 1], [0, 1], color='k', lw=0.5, linestyle='--')\n",
    "plt.legend(loc=\"lower right\", fontsize=11)\n",
    "plt.title('ROC curve: (ada_boost_decision_tree classifier)', fontsize=16)\n",
    "plt.axes().set_aspect('equal')\n",
    "plt.show()"
   ]
  },
  {
   "cell_type": "code",
   "execution_count": 205,
   "metadata": {},
   "outputs": [
    {
     "name": "stdout",
     "output_type": "stream",
     "text": [
      "Average precision score: 0.1358 \n"
     ]
    },
    {
     "data": {
      "image/png": "[encoded data removed]",
      "text/plain": [
       "<matplotlib.figure.Figure at 0xf68154c860>"
      ]
     },
     "metadata": {},
     "output_type": "display_data"
    }
   ],
   "source": [
    "precision, recall, thresholds = precision_recall_curve(y_test, y_score_ada_dt[:,1])\n",
    "average_precision = average_precision_score(y_test, y_score_ada_dt[:,1])\n",
    "print('Average precision score: {0:0.4f} '.format(\n",
    "      average_precision))\n",
    "#plot Precision and Recall for a given threshold.\n",
    "plt.title('Precision and Recall')\n",
    "plt.plot(thresholds,precision[1:],'purple',label='Precision')\n",
    "plt.plot(thresholds,recall[1:],'orange', label='Recall')\n",
    "plt.axvline(x=0.443,linestyle=\":\")\n",
    "plt.legend(loc=2,bbox_to_anchor=(1.05, 1))\n",
    "plt.xlim([0.4,0.46])\n",
    "plt.ylim([0,0.8])\n",
    "plt.ylabel('Precision and Recall Values')\n",
    "plt.xlabel('Threshold')\n",
    "plt.show()"
   ]
  },
  {
   "cell_type": "code",
   "execution_count": 183,
   "metadata": {},
   "outputs": [
    {
     "data": {
      "text/plain": [
       "array([ 0.42697322,  0.40815834,  0.41487211, ...,  0.45367938,\n",
       "        0.44227576,  0.41025363])"
      ]
     },
     "execution_count": 183,
     "metadata": {},
     "output_type": "execute_result"
    }
   ],
   "source": [
    "y_score_ada_dt[:,1]"
   ]
  },
  {
   "cell_type": "code",
   "execution_count": 202,
   "metadata": {},
   "outputs": [
    {
     "name": "stdout",
     "output_type": "stream",
     "text": [
      "Confusion matrix:\n",
      "Predicted       0      1  __all__\n",
      "Actual                           \n",
      "0          546685  28102   574787\n",
      "1            1673   2521     4194\n",
      "__all__    548358  30623   578981\n"
     ]
    }
   ],
   "source": [
    "y_prob_test=pd.DataFrame(y_score_ada_dt[:,1],columns=['prob'])\n",
    "y_prob_test_class=y_prob_test['prob'].apply(lambda x: 0 if x < 0.443 else 1)\n",
    "y_prob_test_class=np.array(y_prob_test_class)\n",
    "#Confusion Matrix\n",
    "from pandas_ml import ConfusionMatrix\n",
    "confusion_matrix = ConfusionMatrix(y_test, y_prob_test_class)\n",
    "print(\"Confusion matrix:\\n%s\" % confusion_matrix)"
   ]
  },
  {
   "cell_type": "code",
   "execution_count": 204,
   "metadata": {},
   "outputs": [
    {
     "name": "stdout",
     "output_type": "stream",
     "text": [
      "recall 0.6010968049594659\n"
     ]
    }
   ],
   "source": [
    "print('recall',2521/4194)"
   ]
  },
  {
   "cell_type": "code",
   "execution_count": 203,
   "metadata": {},
   "outputs": [
    {
     "name": "stdout",
     "output_type": "stream",
     "text": [
      "precision 0.08232374359141821\n"
     ]
    }
   ],
   "source": [
    "print('precision',2521/30623)"
   ]
  },
  {
   "cell_type": "markdown",
   "metadata": {},
   "source": [
    "<h1>Optimised Logistic Regression</h1>"
   ]
  },
  {
   "cell_type": "code",
   "execution_count": 177,
   "metadata": {},
   "outputs": [
    {
     "name": "stderr",
     "output_type": "stream",
     "text": [
      "C:\\Users\\DELL LAPTOP\\Anaconda3\\lib\\site-packages\\sklearn\\linear_model\\base.py:340: RuntimeWarning: overflow encountered in exp\n",
      "  np.exp(prob, prob)\n"
     ]
    },
    {
     "name": "stdout",
     "output_type": "stream",
     "text": [
      "MaxDepth = 0.0100  accuracy = 0.6196   AUC = 0.9044\n",
      "MaxDepth = 0.0010  accuracy = 0.4872   AUC = 0.8951\n",
      "MaxDepth = 0.0500  accuracy = 0.7185   AUC = 0.9008\n",
      "MaxDepth = 0.1000  accuracy = 0.7966   AUC = 0.8919\n",
      "MaxDepth = 0.5000  accuracy = 0.9137   AUC = 0.8822\n",
      "MaxDepth = 1.0000  accuracy = 0.9609   AUC = 0.8117\n"
     ]
    },
    {
     "name": "stderr",
     "output_type": "stream",
     "text": [
      "C:\\Users\\DELL LAPTOP\\Anaconda3\\lib\\site-packages\\matplotlib\\cbook\\deprecation.py:106: MatplotlibDeprecationWarning: Adding an axes using the same arguments as a previous axes currently reuses the earlier instance.  In a future version, a new instance will always be created and returned.  Meanwhile, this warning can be suppressed, and the future behavior ensured, by passing a unique label to each axes instance.\n",
      "  warnings.warn(message, mplDeprecation, stacklevel=1)\n"
     ]
    },
    {
     "data": {
      "image/png": "[encoded data removed]",
      "text/plain": [
       "<matplotlib.figure.Figure at 0xf68282c8d0>"
      ]
     },
     "metadata": {},
     "output_type": "display_data"
    },
    {
     "name": "stdout",
     "output_type": "stream",
     "text": [
      "Wall time: 1h 51min 32s\n"
     ]
    }
   ],
   "source": [
    "%%time\n",
    "for c in [0.01,0.001,0.05,0.1,0.5,1]:#iterating using maxdepth\n",
    "    logit_reg = LogisticRegression(penalty = 'l2', C = c,class_weight=\"balanced\",dual=True).fit(X_train, y_train)\n",
    "    y_score_logit_reg = logit_reg.predict_proba(X_test)\n",
    "    fpr_logit_reg, tpr_logit_reg, _ = roc_curve(y_test, y_score_logit_reg[:,1])\n",
    "    roc_auc_logit_reg = auc(fpr_logit_reg, tpr_logit_reg)\n",
    "    accuracy_logit_reg = logit_reg.score(X_test, y_test)\n",
    "    print(\"C = {:.4f}  accuracy = {:.4f}   AUC = {:.4f}\".format(c, accuracy_logit_reg, \n",
    "                                                                    roc_auc_logit_reg))\n",
    "    plt.plot(fpr_logit_reg, tpr_logit_reg, lw=3, alpha=0.7, \n",
    "             label='logit_reg (C = {:0.4f}, area = {:0.4f})'.format(c,roc_auc_logit_reg))\n",
    "\n",
    "plt.xlabel('False Positive Rate', fontsize=16)\n",
    "plt.ylabel('True Positive Rate (Recall)', fontsize=16)\n",
    "plt.plot([0, 1], [0, 1], color='k', lw=0.5, linestyle='--')\n",
    "plt.legend(loc=\"lower right\", fontsize=11)\n",
    "plt.title('ROC curve: (ada_boost_design_tree classifier)', fontsize=16)\n",
    "plt.axes().set_aspect('equal')\n",
    "plt.show()"
   ]
  },
  {
   "cell_type": "code",
   "execution_count": null,
   "metadata": {
    "collapsed": true
   },
   "outputs": [],
   "source": [
    "%%time\n",
    "#optimised adaboosted tree training\n",
    "logit_reg = LogisticRegression(penalty = 'l2', C = 0.05,class_weight=\"balanced\",dual=True).fit(X_train, y_train)\n",
    "y_score_logit_reg = logit_reg.predict_proba(X_test)\n",
    "fpr_logit_reg, tpr_logit_reg, _ = roc_curve(y_test, y_score_logit_reg[:,1])\n",
    "roc_auc_logit_reg = auc(fpr_logit_reg, tpr_logit_reg)\n",
    "accuracy_logit_reg = logit_reg.score(X_test, y_test)"
   ]
  },
  {
   "cell_type": "code",
   "execution_count": null,
   "metadata": {
    "collapsed": true
   },
   "outputs": [],
   "source": [
    "print(\"C= {:.4f}  accuracy = {:.4f}   AUC = {:.4f}\".format(0.05, accuracy_logit_reg, \n",
    "                                                                    roc_auc_logit_reg))\n",
    "plt.plot(fpr_logit_reg, tpr_logit_reg, lw=3, alpha=0.7, \n",
    "             label='logit_reg (C = {:0.4f}, area = {:0.4f})'.format(0.05,roc_auc_logit_reg))\n",
    "\n",
    "plt.xlabel('False Positive Rate', fontsize=16)\n",
    "plt.ylabel('True Positive Rate (Recall)', fontsize=16)\n",
    "plt.plot([0, 1], [0, 1], color='k', lw=0.5, linestyle='--')\n",
    "plt.legend(loc=\"lower right\", fontsize=11)\n",
    "plt.title('ROC curve: (optimised_log_reg classifier)', fontsize=16)\n",
    "plt.axes().set_aspect('equal')\n",
    "plt.show()"
   ]
  },
  {
   "cell_type": "markdown",
   "metadata": {},
   "source": [
    "# Adaboost classifiers"
   ]
  },
  {
   "cell_type": "code",
   "execution_count": null,
   "metadata": {
    "collapsed": true
   },
   "outputs": [],
   "source": []
  },
  {
   "cell_type": "code",
   "execution_count": null,
   "metadata": {
    "collapsed": true
   },
   "outputs": [],
   "source": []
  },
  {
   "cell_type": "code",
   "execution_count": null,
   "metadata": {
    "collapsed": true
   },
   "outputs": [],
   "source": []
  },
  {
   "cell_type": "code",
   "execution_count": null,
   "metadata": {
    "collapsed": true
   },
   "outputs": [],
   "source": []
  },
  {
   "cell_type": "markdown",
   "metadata": {},
   "source": [
    "# Nural Network"
   ]
  },
  {
   "cell_type": "code",
   "execution_count": null,
   "metadata": {
    "collapsed": true
   },
   "outputs": [],
   "source": []
  },
  {
   "cell_type": "code",
   "execution_count": null,
   "metadata": {
    "collapsed": true
   },
   "outputs": [],
   "source": []
  },
  {
   "cell_type": "code",
   "execution_count": null,
   "metadata": {
    "collapsed": true
   },
   "outputs": [],
   "source": []
  },
  {
   "cell_type": "code",
   "execution_count": null,
   "metadata": {
    "collapsed": true
   },
   "outputs": [],
   "source": []
  },
  {
   "cell_type": "markdown",
   "metadata": {},
   "source": [
    "# GBM"
   ]
  },
  {
   "cell_type": "code",
   "execution_count": null,
   "metadata": {
    "collapsed": true
   },
   "outputs": [],
   "source": []
  },
  {
   "cell_type": "code",
   "execution_count": null,
   "metadata": {
    "collapsed": true
   },
   "outputs": [],
   "source": []
  },
  {
   "cell_type": "code",
   "execution_count": null,
   "metadata": {
    "collapsed": true
   },
   "outputs": [],
   "source": []
  },
  {
   "cell_type": "code",
   "execution_count": null,
   "metadata": {
    "collapsed": true
   },
   "outputs": [],
   "source": []
  },
  {
   "cell_type": "code",
   "execution_count": null,
   "metadata": {
    "collapsed": true
   },
   "outputs": [],
   "source": []
  }
 ],
 "metadata": {
  "kernelspec": {
   "display_name": "Python 3",
   "language": "python",
   "name": "python3"
  },
  "language_info": {
   "codemirror_mode": {
    "name": "ipython",
    "version": 3
   },
   "file_extension": ".py",
   "mimetype": "text/x-python",
   "name": "python",
   "nbconvert_exporter": "python",
   "pygments_lexer": "ipython3",
   "version": "3.6.3"
  }
 },
 "nbformat": 4,
 "nbformat_minor": 1
}
